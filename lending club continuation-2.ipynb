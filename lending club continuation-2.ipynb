{
 "cells": [
  {
   "cell_type": "code",
   "execution_count": 1,
   "id": "fc5605c9",
   "metadata": {},
   "outputs": [],
   "source": [
    "from pyspark.sql import SparkSession\n",
    "import getpass \n",
    "username = getpass.getuser()\n",
    "spark = SparkSession. \\\n",
    "     builder. \\\n",
    "     config('spark.ui.port', '0'). \\\n",
    "     config(\"spark.sql.warehouse.dir\", f\"/user/{username}/warehouse\"). \\\n",
    "     config('spark.shuffle.useOldFetchProtocol', 'true'). \\\n",
    "     enableHiveSupport(). \\\n",
    "     master('yarn'). \\\n",
    "     getOrCreate()"
   ]
  },
  {
   "cell_type": "code",
   "execution_count": 2,
   "id": "24e5e830",
   "metadata": {},
   "outputs": [],
   "source": [
    "customers_schema = 'member_id string,emp_title string,emp_length string,home_ownership string,annual_income float,addr_state string,zip_code string,country string,grade string,sub_grade string,verification_status string,tot_hi_cred_lim float,application_type string,annual_income_joint float,verification_status_joint string'"
   ]
  },
  {
   "cell_type": "code",
   "execution_count": 4,
   "id": "e31c8448",
   "metadata": {},
   "outputs": [],
   "source": [
    "customers_raw_df = spark.read \\\n",
    ".format(\"csv\") \\\n",
    ".schema(customers_schema) \\\n",
    ".option(\"header\",\"true\") \\\n",
    ".load(\"/public/trendytech/lendingclubproject/raw/customers_data_csv\")"
   ]
  },
  {
   "cell_type": "code",
   "execution_count": 5,
   "id": "667913b8",
   "metadata": {},
   "outputs": [
    {
     "data": {
      "text/html": [
       "<table border='1'>\n",
       "<tr><th>member_id</th><th>emp_title</th><th>emp_length</th><th>home_ownership</th><th>annual_income</th><th>addr_state</th><th>zip_code</th><th>country</th><th>grade</th><th>sub_grade</th><th>verification_status</th><th>tot_hi_cred_lim</th><th>application_type</th><th>annual_income_joint</th><th>verification_status_joint</th></tr>\n",
       "<tr><td>b59d80da191f5b573...</td><td>null</td><td>null</td><td>RENT</td><td>50000.0</td><td>OR</td><td>973xx</td><td>USA</td><td>A</td><td>A5</td><td>Source Verified</td><td>8600.0</td><td>Individual</td><td>null</td><td>null</td></tr>\n",
       "<tr><td>202d9f56ecb7c3bc9...</td><td>police officer</td><td>7 years</td><td>OWN</td><td>85000.0</td><td>TX</td><td>799xx</td><td>USA</td><td>A</td><td>A5</td><td>Source Verified</td><td>272384.0</td><td>Individual</td><td>null</td><td>null</td></tr>\n",
       "<tr><td>e5a140c0922b554b9...</td><td>community living ...</td><td>6 years</td><td>RENT</td><td>48000.0</td><td>NY</td><td>146xx</td><td>USA</td><td>B</td><td>B2</td><td>Source Verified</td><td>85092.0</td><td>Individual</td><td>null</td><td>null</td></tr>\n",
       "<tr><td>e12aefc548f750777...</td><td>Office</td><td>10+ years</td><td>OWN</td><td>33000.0</td><td>CT</td><td>067xx</td><td>USA</td><td>F</td><td>F1</td><td>Verified</td><td>7100.0</td><td>Individual</td><td>null</td><td>null</td></tr>\n",
       "<tr><td>1b3a50d854fbbf97e...</td><td>Special Tooling I...</td><td>10+ years</td><td>MORTGAGE</td><td>81000.0</td><td>TX</td><td>791xx</td><td>USA</td><td>E</td><td>E5</td><td>Verified</td><td>190274.0</td><td>Individual</td><td>null</td><td>null</td></tr>\n",
       "<tr><td>1c4329e5f17697127...</td><td>Mine ops tech 6</td><td>2 years</td><td>MORTGAGE</td><td>68000.0</td><td>AZ</td><td>855xx</td><td>USA</td><td>C</td><td>C3</td><td>Not Verified</td><td>182453.0</td><td>Individual</td><td>null</td><td>null</td></tr>\n",
       "<tr><td>5026c86ad983175eb...</td><td>caregiver</td><td>4 years</td><td>RENT</td><td>76020.0</td><td>WA</td><td>993xx</td><td>USA</td><td>C</td><td>C2</td><td>Source Verified</td><td>15308.0</td><td>Individual</td><td>null</td><td>null</td></tr>\n",
       "<tr><td>9847d8c1e9d0b2084...</td><td>null</td><td>null</td><td>OWN</td><td>65000.0</td><td>IL</td><td>624xx</td><td>USA</td><td>E</td><td>E3</td><td>Verified</td><td>128800.0</td><td>Individual</td><td>null</td><td>null</td></tr>\n",
       "<tr><td>8340dbe1adea41fb4...</td><td>Vice President Re...</td><td>8 years</td><td>MORTGAGE</td><td>111000.0</td><td>CT</td><td>063xx</td><td>USA</td><td>A</td><td>A1</td><td>Not Verified</td><td>343507.0</td><td>Individual</td><td>null</td><td>null</td></tr>\n",
       "<tr><td>d4de0de3ab7d79ad4...</td><td>FOREMAN</td><td>10+ years</td><td>MORTGAGE</td><td>67000.0</td><td>WA</td><td>992xx</td><td>USA</td><td>G</td><td>G2</td><td>Verified</td><td>211501.0</td><td>Individual</td><td>null</td><td>null</td></tr>\n",
       "<tr><td>3df3cdeddb74a8712...</td><td>Strategist</td><td>1 year</td><td>RENT</td><td>120000.0</td><td>CA</td><td>946xx</td><td>USA</td><td>A</td><td>A5</td><td>Verified</td><td>56844.0</td><td>Individual</td><td>null</td><td>null</td></tr>\n",
       "<tr><td>9dd72636b1b4045b4...</td><td>Office Manager</td><td>2 years</td><td>RENT</td><td>52000.0</td><td>FL</td><td>327xx</td><td>USA</td><td>D</td><td>D1</td><td>Source Verified</td><td>39393.0</td><td>Individual</td><td>null</td><td>null</td></tr>\n",
       "<tr><td>1d4e1ef4353b73c00...</td><td>Electrician</td><td>2 years</td><td>MORTGAGE</td><td>50000.0</td><td>IL</td><td>606xx</td><td>USA</td><td>C</td><td>C3</td><td>Not Verified</td><td>66064.0</td><td>Individual</td><td>null</td><td>null</td></tr>\n",
       "<tr><td>6f196952e71277fd4...</td><td>Finance Manager</td><td>1 year</td><td>MORTGAGE</td><td>125000.0</td><td>GA</td><td>310xx</td><td>USA</td><td>E</td><td>E2</td><td>Source Verified</td><td>555591.0</td><td>Individual</td><td>null</td><td>null</td></tr>\n",
       "<tr><td>9c617cbc6e3e3d6a1...</td><td>Nurse practitioner</td><td>5 years</td><td>MORTGAGE</td><td>165000.0</td><td>IL</td><td>610xx</td><td>USA</td><td>F</td><td>F1</td><td>Source Verified</td><td>366113.0</td><td>Individual</td><td>null</td><td>null</td></tr>\n",
       "<tr><td>45eb04dd75400a942...</td><td>equipment operator</td><td>3 years</td><td>MORTGAGE</td><td>60000.0</td><td>CT</td><td>064xx</td><td>USA</td><td>C</td><td>C4</td><td>Source Verified</td><td>198693.0</td><td>Individual</td><td>null</td><td>null</td></tr>\n",
       "<tr><td>08d233c81f9e50726...</td><td>caregiver</td><td>2 years</td><td>RENT</td><td>36000.0</td><td>MO</td><td>648xx</td><td>USA</td><td>C</td><td>C1</td><td>Source Verified</td><td>14477.0</td><td>Individual</td><td>null</td><td>null</td></tr>\n",
       "<tr><td>8ff4d0ed17a1cab92...</td><td>owner</td><td>10+ years</td><td>MORTGAGE</td><td>28000.0</td><td>CO</td><td>801xx</td><td>USA</td><td>D</td><td>D1</td><td>Verified</td><td>314400.0</td><td>Individual</td><td>null</td><td>null</td></tr>\n",
       "<tr><td>aec13cfd611b2cfea...</td><td>Community Supervi...</td><td>2 years</td><td>RENT</td><td>33000.0</td><td>GA</td><td>306xx</td><td>USA</td><td>D</td><td>D2</td><td>Source Verified</td><td>188700.0</td><td>Individual</td><td>null</td><td>null</td></tr>\n",
       "<tr><td>9ba8c96ccba6cd1f0...</td><td>Contract Specialist</td><td>5 years</td><td>MORTGAGE</td><td>74700.0</td><td>UT</td><td>844xx</td><td>USA</td><td>D</td><td>D4</td><td>Verified</td><td>614272.0</td><td>Individual</td><td>null</td><td>null</td></tr>\n",
       "</table>\n",
       "only showing top 20 rows\n"
      ],
      "text/plain": [
       "+--------------------+--------------------+----------+--------------+-------------+----------+--------+-------+-----+---------+-------------------+---------------+----------------+-------------------+-------------------------+\n",
       "|           member_id|           emp_title|emp_length|home_ownership|annual_income|addr_state|zip_code|country|grade|sub_grade|verification_status|tot_hi_cred_lim|application_type|annual_income_joint|verification_status_joint|\n",
       "+--------------------+--------------------+----------+--------------+-------------+----------+--------+-------+-----+---------+-------------------+---------------+----------------+-------------------+-------------------------+\n",
       "|b59d80da191f5b573...|                null|      null|          RENT|      50000.0|        OR|   973xx|    USA|    A|       A5|    Source Verified|         8600.0|      Individual|               null|                     null|\n",
       "|202d9f56ecb7c3bc9...|      police officer|   7 years|           OWN|      85000.0|        TX|   799xx|    USA|    A|       A5|    Source Verified|       272384.0|      Individual|               null|                     null|\n",
       "|e5a140c0922b554b9...|community living ...|   6 years|          RENT|      48000.0|        NY|   146xx|    USA|    B|       B2|    Source Verified|        85092.0|      Individual|               null|                     null|\n",
       "|e12aefc548f750777...|              Office| 10+ years|           OWN|      33000.0|        CT|   067xx|    USA|    F|       F1|           Verified|         7100.0|      Individual|               null|                     null|\n",
       "|1b3a50d854fbbf97e...|Special Tooling I...| 10+ years|      MORTGAGE|      81000.0|        TX|   791xx|    USA|    E|       E5|           Verified|       190274.0|      Individual|               null|                     null|\n",
       "|1c4329e5f17697127...|     Mine ops tech 6|   2 years|      MORTGAGE|      68000.0|        AZ|   855xx|    USA|    C|       C3|       Not Verified|       182453.0|      Individual|               null|                     null|\n",
       "|5026c86ad983175eb...|           caregiver|   4 years|          RENT|      76020.0|        WA|   993xx|    USA|    C|       C2|    Source Verified|        15308.0|      Individual|               null|                     null|\n",
       "|9847d8c1e9d0b2084...|                null|      null|           OWN|      65000.0|        IL|   624xx|    USA|    E|       E3|           Verified|       128800.0|      Individual|               null|                     null|\n",
       "|8340dbe1adea41fb4...|Vice President Re...|   8 years|      MORTGAGE|     111000.0|        CT|   063xx|    USA|    A|       A1|       Not Verified|       343507.0|      Individual|               null|                     null|\n",
       "|d4de0de3ab7d79ad4...|             FOREMAN| 10+ years|      MORTGAGE|      67000.0|        WA|   992xx|    USA|    G|       G2|           Verified|       211501.0|      Individual|               null|                     null|\n",
       "|3df3cdeddb74a8712...|          Strategist|    1 year|          RENT|     120000.0|        CA|   946xx|    USA|    A|       A5|           Verified|        56844.0|      Individual|               null|                     null|\n",
       "|9dd72636b1b4045b4...|      Office Manager|   2 years|          RENT|      52000.0|        FL|   327xx|    USA|    D|       D1|    Source Verified|        39393.0|      Individual|               null|                     null|\n",
       "|1d4e1ef4353b73c00...|         Electrician|   2 years|      MORTGAGE|      50000.0|        IL|   606xx|    USA|    C|       C3|       Not Verified|        66064.0|      Individual|               null|                     null|\n",
       "|6f196952e71277fd4...|     Finance Manager|    1 year|      MORTGAGE|     125000.0|        GA|   310xx|    USA|    E|       E2|    Source Verified|       555591.0|      Individual|               null|                     null|\n",
       "|9c617cbc6e3e3d6a1...|  Nurse practitioner|   5 years|      MORTGAGE|     165000.0|        IL|   610xx|    USA|    F|       F1|    Source Verified|       366113.0|      Individual|               null|                     null|\n",
       "|45eb04dd75400a942...|  equipment operator|   3 years|      MORTGAGE|      60000.0|        CT|   064xx|    USA|    C|       C4|    Source Verified|       198693.0|      Individual|               null|                     null|\n",
       "|08d233c81f9e50726...|           caregiver|   2 years|          RENT|      36000.0|        MO|   648xx|    USA|    C|       C1|    Source Verified|        14477.0|      Individual|               null|                     null|\n",
       "|8ff4d0ed17a1cab92...|               owner| 10+ years|      MORTGAGE|      28000.0|        CO|   801xx|    USA|    D|       D1|           Verified|       314400.0|      Individual|               null|                     null|\n",
       "|aec13cfd611b2cfea...|Community Supervi...|   2 years|          RENT|      33000.0|        GA|   306xx|    USA|    D|       D2|    Source Verified|       188700.0|      Individual|               null|                     null|\n",
       "|9ba8c96ccba6cd1f0...| Contract Specialist|   5 years|      MORTGAGE|      74700.0|        UT|   844xx|    USA|    D|       D4|           Verified|       614272.0|      Individual|               null|                     null|\n",
       "+--------------------+--------------------+----------+--------------+-------------+----------+--------+-------+-----+---------+-------------------+---------------+----------------+-------------------+-------------------------+\n",
       "only showing top 20 rows"
      ]
     },
     "execution_count": 5,
     "metadata": {},
     "output_type": "execute_result"
    }
   ],
   "source": [
    "customers_raw_df"
   ]
  },
  {
   "cell_type": "code",
   "execution_count": 6,
   "id": "8b026091",
   "metadata": {},
   "outputs": [
    {
     "name": "stdout",
     "output_type": "stream",
     "text": [
      "root\n",
      " |-- member_id: string (nullable = true)\n",
      " |-- emp_title: string (nullable = true)\n",
      " |-- emp_length: string (nullable = true)\n",
      " |-- home_ownership: string (nullable = true)\n",
      " |-- annual_income: float (nullable = true)\n",
      " |-- addr_state: string (nullable = true)\n",
      " |-- zip_code: string (nullable = true)\n",
      " |-- country: string (nullable = true)\n",
      " |-- grade: string (nullable = true)\n",
      " |-- sub_grade: string (nullable = true)\n",
      " |-- verification_status: string (nullable = true)\n",
      " |-- tot_hi_cred_lim: float (nullable = true)\n",
      " |-- application_type: string (nullable = true)\n",
      " |-- annual_income_joint: float (nullable = true)\n",
      " |-- verification_status_joint: string (nullable = true)\n",
      "\n"
     ]
    }
   ],
   "source": [
    "customers_raw_df.printSchema()"
   ]
  },
  {
   "cell_type": "code",
   "execution_count": 7,
   "id": "1751f058",
   "metadata": {},
   "outputs": [],
   "source": [
    "from pyspark.sql.functions import *"
   ]
  },
  {
   "cell_type": "code",
   "execution_count": 8,
   "id": "ecb90bc1",
   "metadata": {},
   "outputs": [],
   "source": [
    "customers_df_renamed = customers_raw_df.withColumnRenamed(\"annual_inc\",\"annual_income\") \\\n",
    ".withColumnRenamed(\"addr_state\",\"address_state\") \\\n",
    ".withColumnRenamed(\"zip_code\",\"address_zipcode\") \\\n",
    ".withColumnRenamed(\"country\",\"address_country\") \\\n",
    ".withColumnRenamed(\"tot_hi_cred_lim\",\"total_high_credit_limit\") \\\n",
    ".withColumnRenamed(\"annual_inc_joint\",\"join_annual_income\")"
   ]
  },
  {
   "cell_type": "code",
   "execution_count": 9,
   "id": "5230e784",
   "metadata": {},
   "outputs": [],
   "source": [
    "from pyspark.sql.functions import current_timestamp"
   ]
  },
  {
   "cell_type": "code",
   "execution_count": 10,
   "id": "60304f44",
   "metadata": {},
   "outputs": [],
   "source": [
    "customers_df_ingestd = customers_df_renamed.withColumn(\"ingest_date\",current_timestamp())"
   ]
  },
  {
   "cell_type": "code",
   "execution_count": 11,
   "id": "1fdb82c3",
   "metadata": {},
   "outputs": [
    {
     "data": {
      "text/html": [
       "<table border='1'>\n",
       "<tr><th>member_id</th><th>emp_title</th><th>emp_length</th><th>home_ownership</th><th>annual_income</th><th>address_state</th><th>address_zipcode</th><th>address_country</th><th>grade</th><th>sub_grade</th><th>verification_status</th><th>total_high_credit_limit</th><th>application_type</th><th>annual_income_joint</th><th>verification_status_joint</th><th>ingest_date</th></tr>\n",
       "<tr><td>b59d80da191f5b573...</td><td>null</td><td>null</td><td>RENT</td><td>50000.0</td><td>OR</td><td>973xx</td><td>USA</td><td>A</td><td>A5</td><td>Source Verified</td><td>8600.0</td><td>Individual</td><td>null</td><td>null</td><td>2024-01-12 04:34:...</td></tr>\n",
       "<tr><td>202d9f56ecb7c3bc9...</td><td>police officer</td><td>7 years</td><td>OWN</td><td>85000.0</td><td>TX</td><td>799xx</td><td>USA</td><td>A</td><td>A5</td><td>Source Verified</td><td>272384.0</td><td>Individual</td><td>null</td><td>null</td><td>2024-01-12 04:34:...</td></tr>\n",
       "<tr><td>e5a140c0922b554b9...</td><td>community living ...</td><td>6 years</td><td>RENT</td><td>48000.0</td><td>NY</td><td>146xx</td><td>USA</td><td>B</td><td>B2</td><td>Source Verified</td><td>85092.0</td><td>Individual</td><td>null</td><td>null</td><td>2024-01-12 04:34:...</td></tr>\n",
       "<tr><td>e12aefc548f750777...</td><td>Office</td><td>10+ years</td><td>OWN</td><td>33000.0</td><td>CT</td><td>067xx</td><td>USA</td><td>F</td><td>F1</td><td>Verified</td><td>7100.0</td><td>Individual</td><td>null</td><td>null</td><td>2024-01-12 04:34:...</td></tr>\n",
       "<tr><td>1b3a50d854fbbf97e...</td><td>Special Tooling I...</td><td>10+ years</td><td>MORTGAGE</td><td>81000.0</td><td>TX</td><td>791xx</td><td>USA</td><td>E</td><td>E5</td><td>Verified</td><td>190274.0</td><td>Individual</td><td>null</td><td>null</td><td>2024-01-12 04:34:...</td></tr>\n",
       "<tr><td>1c4329e5f17697127...</td><td>Mine ops tech 6</td><td>2 years</td><td>MORTGAGE</td><td>68000.0</td><td>AZ</td><td>855xx</td><td>USA</td><td>C</td><td>C3</td><td>Not Verified</td><td>182453.0</td><td>Individual</td><td>null</td><td>null</td><td>2024-01-12 04:34:...</td></tr>\n",
       "<tr><td>5026c86ad983175eb...</td><td>caregiver</td><td>4 years</td><td>RENT</td><td>76020.0</td><td>WA</td><td>993xx</td><td>USA</td><td>C</td><td>C2</td><td>Source Verified</td><td>15308.0</td><td>Individual</td><td>null</td><td>null</td><td>2024-01-12 04:34:...</td></tr>\n",
       "<tr><td>9847d8c1e9d0b2084...</td><td>null</td><td>null</td><td>OWN</td><td>65000.0</td><td>IL</td><td>624xx</td><td>USA</td><td>E</td><td>E3</td><td>Verified</td><td>128800.0</td><td>Individual</td><td>null</td><td>null</td><td>2024-01-12 04:34:...</td></tr>\n",
       "<tr><td>8340dbe1adea41fb4...</td><td>Vice President Re...</td><td>8 years</td><td>MORTGAGE</td><td>111000.0</td><td>CT</td><td>063xx</td><td>USA</td><td>A</td><td>A1</td><td>Not Verified</td><td>343507.0</td><td>Individual</td><td>null</td><td>null</td><td>2024-01-12 04:34:...</td></tr>\n",
       "<tr><td>d4de0de3ab7d79ad4...</td><td>FOREMAN</td><td>10+ years</td><td>MORTGAGE</td><td>67000.0</td><td>WA</td><td>992xx</td><td>USA</td><td>G</td><td>G2</td><td>Verified</td><td>211501.0</td><td>Individual</td><td>null</td><td>null</td><td>2024-01-12 04:34:...</td></tr>\n",
       "<tr><td>3df3cdeddb74a8712...</td><td>Strategist</td><td>1 year</td><td>RENT</td><td>120000.0</td><td>CA</td><td>946xx</td><td>USA</td><td>A</td><td>A5</td><td>Verified</td><td>56844.0</td><td>Individual</td><td>null</td><td>null</td><td>2024-01-12 04:34:...</td></tr>\n",
       "<tr><td>9dd72636b1b4045b4...</td><td>Office Manager</td><td>2 years</td><td>RENT</td><td>52000.0</td><td>FL</td><td>327xx</td><td>USA</td><td>D</td><td>D1</td><td>Source Verified</td><td>39393.0</td><td>Individual</td><td>null</td><td>null</td><td>2024-01-12 04:34:...</td></tr>\n",
       "<tr><td>1d4e1ef4353b73c00...</td><td>Electrician</td><td>2 years</td><td>MORTGAGE</td><td>50000.0</td><td>IL</td><td>606xx</td><td>USA</td><td>C</td><td>C3</td><td>Not Verified</td><td>66064.0</td><td>Individual</td><td>null</td><td>null</td><td>2024-01-12 04:34:...</td></tr>\n",
       "<tr><td>6f196952e71277fd4...</td><td>Finance Manager</td><td>1 year</td><td>MORTGAGE</td><td>125000.0</td><td>GA</td><td>310xx</td><td>USA</td><td>E</td><td>E2</td><td>Source Verified</td><td>555591.0</td><td>Individual</td><td>null</td><td>null</td><td>2024-01-12 04:34:...</td></tr>\n",
       "<tr><td>9c617cbc6e3e3d6a1...</td><td>Nurse practitioner</td><td>5 years</td><td>MORTGAGE</td><td>165000.0</td><td>IL</td><td>610xx</td><td>USA</td><td>F</td><td>F1</td><td>Source Verified</td><td>366113.0</td><td>Individual</td><td>null</td><td>null</td><td>2024-01-12 04:34:...</td></tr>\n",
       "<tr><td>45eb04dd75400a942...</td><td>equipment operator</td><td>3 years</td><td>MORTGAGE</td><td>60000.0</td><td>CT</td><td>064xx</td><td>USA</td><td>C</td><td>C4</td><td>Source Verified</td><td>198693.0</td><td>Individual</td><td>null</td><td>null</td><td>2024-01-12 04:34:...</td></tr>\n",
       "<tr><td>08d233c81f9e50726...</td><td>caregiver</td><td>2 years</td><td>RENT</td><td>36000.0</td><td>MO</td><td>648xx</td><td>USA</td><td>C</td><td>C1</td><td>Source Verified</td><td>14477.0</td><td>Individual</td><td>null</td><td>null</td><td>2024-01-12 04:34:...</td></tr>\n",
       "<tr><td>8ff4d0ed17a1cab92...</td><td>owner</td><td>10+ years</td><td>MORTGAGE</td><td>28000.0</td><td>CO</td><td>801xx</td><td>USA</td><td>D</td><td>D1</td><td>Verified</td><td>314400.0</td><td>Individual</td><td>null</td><td>null</td><td>2024-01-12 04:34:...</td></tr>\n",
       "<tr><td>aec13cfd611b2cfea...</td><td>Community Supervi...</td><td>2 years</td><td>RENT</td><td>33000.0</td><td>GA</td><td>306xx</td><td>USA</td><td>D</td><td>D2</td><td>Source Verified</td><td>188700.0</td><td>Individual</td><td>null</td><td>null</td><td>2024-01-12 04:34:...</td></tr>\n",
       "<tr><td>9ba8c96ccba6cd1f0...</td><td>Contract Specialist</td><td>5 years</td><td>MORTGAGE</td><td>74700.0</td><td>UT</td><td>844xx</td><td>USA</td><td>D</td><td>D4</td><td>Verified</td><td>614272.0</td><td>Individual</td><td>null</td><td>null</td><td>2024-01-12 04:34:...</td></tr>\n",
       "</table>\n",
       "only showing top 20 rows\n"
      ],
      "text/plain": [
       "+--------------------+--------------------+----------+--------------+-------------+-------------+---------------+---------------+-----+---------+-------------------+-----------------------+----------------+-------------------+-------------------------+--------------------+\n",
       "|           member_id|           emp_title|emp_length|home_ownership|annual_income|address_state|address_zipcode|address_country|grade|sub_grade|verification_status|total_high_credit_limit|application_type|annual_income_joint|verification_status_joint|         ingest_date|\n",
       "+--------------------+--------------------+----------+--------------+-------------+-------------+---------------+---------------+-----+---------+-------------------+-----------------------+----------------+-------------------+-------------------------+--------------------+\n",
       "|b59d80da191f5b573...|                null|      null|          RENT|      50000.0|           OR|          973xx|            USA|    A|       A5|    Source Verified|                 8600.0|      Individual|               null|                     null|2024-01-12 04:34:...|\n",
       "|202d9f56ecb7c3bc9...|      police officer|   7 years|           OWN|      85000.0|           TX|          799xx|            USA|    A|       A5|    Source Verified|               272384.0|      Individual|               null|                     null|2024-01-12 04:34:...|\n",
       "|e5a140c0922b554b9...|community living ...|   6 years|          RENT|      48000.0|           NY|          146xx|            USA|    B|       B2|    Source Verified|                85092.0|      Individual|               null|                     null|2024-01-12 04:34:...|\n",
       "|e12aefc548f750777...|              Office| 10+ years|           OWN|      33000.0|           CT|          067xx|            USA|    F|       F1|           Verified|                 7100.0|      Individual|               null|                     null|2024-01-12 04:34:...|\n",
       "|1b3a50d854fbbf97e...|Special Tooling I...| 10+ years|      MORTGAGE|      81000.0|           TX|          791xx|            USA|    E|       E5|           Verified|               190274.0|      Individual|               null|                     null|2024-01-12 04:34:...|\n",
       "|1c4329e5f17697127...|     Mine ops tech 6|   2 years|      MORTGAGE|      68000.0|           AZ|          855xx|            USA|    C|       C3|       Not Verified|               182453.0|      Individual|               null|                     null|2024-01-12 04:34:...|\n",
       "|5026c86ad983175eb...|           caregiver|   4 years|          RENT|      76020.0|           WA|          993xx|            USA|    C|       C2|    Source Verified|                15308.0|      Individual|               null|                     null|2024-01-12 04:34:...|\n",
       "|9847d8c1e9d0b2084...|                null|      null|           OWN|      65000.0|           IL|          624xx|            USA|    E|       E3|           Verified|               128800.0|      Individual|               null|                     null|2024-01-12 04:34:...|\n",
       "|8340dbe1adea41fb4...|Vice President Re...|   8 years|      MORTGAGE|     111000.0|           CT|          063xx|            USA|    A|       A1|       Not Verified|               343507.0|      Individual|               null|                     null|2024-01-12 04:34:...|\n",
       "|d4de0de3ab7d79ad4...|             FOREMAN| 10+ years|      MORTGAGE|      67000.0|           WA|          992xx|            USA|    G|       G2|           Verified|               211501.0|      Individual|               null|                     null|2024-01-12 04:34:...|\n",
       "|3df3cdeddb74a8712...|          Strategist|    1 year|          RENT|     120000.0|           CA|          946xx|            USA|    A|       A5|           Verified|                56844.0|      Individual|               null|                     null|2024-01-12 04:34:...|\n",
       "|9dd72636b1b4045b4...|      Office Manager|   2 years|          RENT|      52000.0|           FL|          327xx|            USA|    D|       D1|    Source Verified|                39393.0|      Individual|               null|                     null|2024-01-12 04:34:...|\n",
       "|1d4e1ef4353b73c00...|         Electrician|   2 years|      MORTGAGE|      50000.0|           IL|          606xx|            USA|    C|       C3|       Not Verified|                66064.0|      Individual|               null|                     null|2024-01-12 04:34:...|\n",
       "|6f196952e71277fd4...|     Finance Manager|    1 year|      MORTGAGE|     125000.0|           GA|          310xx|            USA|    E|       E2|    Source Verified|               555591.0|      Individual|               null|                     null|2024-01-12 04:34:...|\n",
       "|9c617cbc6e3e3d6a1...|  Nurse practitioner|   5 years|      MORTGAGE|     165000.0|           IL|          610xx|            USA|    F|       F1|    Source Verified|               366113.0|      Individual|               null|                     null|2024-01-12 04:34:...|\n",
       "|45eb04dd75400a942...|  equipment operator|   3 years|      MORTGAGE|      60000.0|           CT|          064xx|            USA|    C|       C4|    Source Verified|               198693.0|      Individual|               null|                     null|2024-01-12 04:34:...|\n",
       "|08d233c81f9e50726...|           caregiver|   2 years|          RENT|      36000.0|           MO|          648xx|            USA|    C|       C1|    Source Verified|                14477.0|      Individual|               null|                     null|2024-01-12 04:34:...|\n",
       "|8ff4d0ed17a1cab92...|               owner| 10+ years|      MORTGAGE|      28000.0|           CO|          801xx|            USA|    D|       D1|           Verified|               314400.0|      Individual|               null|                     null|2024-01-12 04:34:...|\n",
       "|aec13cfd611b2cfea...|Community Supervi...|   2 years|          RENT|      33000.0|           GA|          306xx|            USA|    D|       D2|    Source Verified|               188700.0|      Individual|               null|                     null|2024-01-12 04:34:...|\n",
       "|9ba8c96ccba6cd1f0...| Contract Specialist|   5 years|      MORTGAGE|      74700.0|           UT|          844xx|            USA|    D|       D4|           Verified|               614272.0|      Individual|               null|                     null|2024-01-12 04:34:...|\n",
       "+--------------------+--------------------+----------+--------------+-------------+-------------+---------------+---------------+-----+---------+-------------------+-----------------------+----------------+-------------------+-------------------------+--------------------+\n",
       "only showing top 20 rows"
      ]
     },
     "execution_count": 11,
     "metadata": {},
     "output_type": "execute_result"
    }
   ],
   "source": [
    "customers_df_ingestd"
   ]
  },
  {
   "cell_type": "code",
   "execution_count": 12,
   "id": "943dde0b",
   "metadata": {},
   "outputs": [
    {
     "data": {
      "text/plain": [
       "2260701"
      ]
     },
     "execution_count": 12,
     "metadata": {},
     "output_type": "execute_result"
    }
   ],
   "source": [
    "customers_df_ingestd.count()"
   ]
  },
  {
   "cell_type": "code",
   "execution_count": 13,
   "id": "a3bff73f",
   "metadata": {},
   "outputs": [],
   "source": [
    "customers_distinct = customers_df_ingestd.distinct()"
   ]
  },
  {
   "cell_type": "code",
   "execution_count": 14,
   "id": "06fbc794",
   "metadata": {},
   "outputs": [
    {
     "data": {
      "text/plain": [
       "2260638"
      ]
     },
     "execution_count": 14,
     "metadata": {},
     "output_type": "execute_result"
    }
   ],
   "source": [
    "customers_distinct.count()"
   ]
  },
  {
   "cell_type": "code",
   "execution_count": 15,
   "id": "5ea8a45b",
   "metadata": {},
   "outputs": [],
   "source": [
    "customers_distinct.createOrReplaceTempView(\"customers\")"
   ]
  },
  {
   "cell_type": "code",
   "execution_count": 16,
   "id": "aa18cb88",
   "metadata": {},
   "outputs": [
    {
     "data": {
      "text/html": [
       "<table border='1'>\n",
       "<tr><th>member_id</th><th>emp_title</th><th>emp_length</th><th>home_ownership</th><th>annual_income</th><th>address_state</th><th>address_zipcode</th><th>address_country</th><th>grade</th><th>sub_grade</th><th>verification_status</th><th>total_high_credit_limit</th><th>application_type</th><th>annual_income_joint</th><th>verification_status_joint</th><th>ingest_date</th></tr>\n",
       "<tr><td>2d0dc0e55b652b9ff...</td><td>Director</td><td>3 years</td><td>RENT</td><td>90000.0</td><td>NY</td><td>115xx</td><td>USA</td><td>C</td><td>C1</td><td>Source Verified</td><td>85400.0</td><td>Individual</td><td>null</td><td>null</td><td>2024-01-12 04:34:...</td></tr>\n",
       "<tr><td>f95ea23110bdb84a4...</td><td>general manager</td><td>2 years</td><td>RENT</td><td>60000.0</td><td>WA</td><td>989xx</td><td>USA</td><td>D</td><td>D2</td><td>Not Verified</td><td>188108.0</td><td>Individual</td><td>null</td><td>null</td><td>2024-01-12 04:34:...</td></tr>\n",
       "<tr><td>8fdb5ad97390d53dd...</td><td>Marketing/clinica...</td><td>10+ years</td><td>OWN</td><td>75000.0</td><td>PA</td><td>152xx</td><td>USA</td><td>F</td><td>F1</td><td>Source Verified</td><td>135299.0</td><td>Individual</td><td>null</td><td>null</td><td>2024-01-12 04:34:...</td></tr>\n",
       "<tr><td>3f1fb051290565450...</td><td>contractor</td><td>1 year</td><td>RENT</td><td>62500.0</td><td>WI</td><td>537xx</td><td>USA</td><td>E</td><td>E1</td><td>Source Verified</td><td>52599.0</td><td>Individual</td><td>null</td><td>null</td><td>2024-01-12 04:34:...</td></tr>\n",
       "<tr><td>689fd5a0d7f6f7019...</td><td>Beauty Manager</td><td>10+ years</td><td>RENT</td><td>50000.0</td><td>DE</td><td>198xx</td><td>USA</td><td>A</td><td>A5</td><td>Source Verified</td><td>36235.0</td><td>Individual</td><td>null</td><td>null</td><td>2024-01-12 04:34:...</td></tr>\n",
       "<tr><td>cea6551f90d2889e1...</td><td>accounting</td><td>5 years</td><td>RENT</td><td>55000.0</td><td>NY</td><td>117xx</td><td>USA</td><td>A</td><td>A4</td><td>Verified</td><td>62561.0</td><td>Individual</td><td>null</td><td>null</td><td>2024-01-12 04:34:...</td></tr>\n",
       "<tr><td>135ea69ca0921ced0...</td><td>Police Officer</td><td>8 years</td><td>RENT</td><td>80000.0</td><td>CT</td><td>063xx</td><td>USA</td><td>C</td><td>C2</td><td>Source Verified</td><td>109601.0</td><td>Individual</td><td>null</td><td>null</td><td>2024-01-12 04:34:...</td></tr>\n",
       "<tr><td>4b1338f8f4ac233b4...</td><td>Executive assistant</td><td>3 years</td><td>MORTGAGE</td><td>200000.0</td><td>IL</td><td>604xx</td><td>USA</td><td>B</td><td>B1</td><td>Source Verified</td><td>418565.0</td><td>Individual</td><td>null</td><td>null</td><td>2024-01-12 04:34:...</td></tr>\n",
       "<tr><td>07db457415c319199...</td><td>Hydrologist 2</td><td>8 years</td><td>MORTGAGE</td><td>59400.0</td><td>MN</td><td>551xx</td><td>USA</td><td>D</td><td>D3</td><td>Source Verified</td><td>238624.0</td><td>Individual</td><td>null</td><td>null</td><td>2024-01-12 04:34:...</td></tr>\n",
       "<tr><td>986522d55e77aec75...</td><td>CEO</td><td>10+ years</td><td>RENT</td><td>100000.0</td><td>TX</td><td>782xx</td><td>USA</td><td>A</td><td>A5</td><td>Source Verified</td><td>70200.0</td><td>Individual</td><td>null</td><td>null</td><td>2024-01-12 04:34:...</td></tr>\n",
       "<tr><td>45599273aaa3992a8...</td><td>Law Professor</td><td>5 years</td><td>MORTGAGE</td><td>106000.0</td><td>OH</td><td>452xx</td><td>USA</td><td>D</td><td>D1</td><td>Verified</td><td>184592.0</td><td>Individual</td><td>null</td><td>null</td><td>2024-01-12 04:34:...</td></tr>\n",
       "<tr><td>edb25c990b7fe56e2...</td><td>Aircraft technician</td><td>4 years</td><td>MORTGAGE</td><td>86000.0</td><td>FL</td><td>325xx</td><td>USA</td><td>B</td><td>B4</td><td>Source Verified</td><td>217487.0</td><td>Individual</td><td>null</td><td>null</td><td>2024-01-12 04:34:...</td></tr>\n",
       "<tr><td>a967d745718d46716...</td><td>General Manager T...</td><td>10+ years</td><td>MORTGAGE</td><td>135000.0</td><td>TX</td><td>766xx</td><td>USA</td><td>A</td><td>A4</td><td>Source Verified</td><td>343917.0</td><td>Individual</td><td>null</td><td>null</td><td>2024-01-12 04:34:...</td></tr>\n",
       "<tr><td>cb5a28c50cbce406c...</td><td>Center Manager</td><td>7 years</td><td>RENT</td><td>46862.0</td><td>TX</td><td>775xx</td><td>USA</td><td>C</td><td>C3</td><td>Verified</td><td>131941.0</td><td>Individual</td><td>null</td><td>null</td><td>2024-01-12 04:34:...</td></tr>\n",
       "<tr><td>9cd6cfce1896d0f56...</td><td>Paraprofessional</td><td>3 years</td><td>MORTGAGE</td><td>40000.0</td><td>MA</td><td>025xx</td><td>USA</td><td>A</td><td>A5</td><td>Not Verified</td><td>304528.0</td><td>Individual</td><td>null</td><td>null</td><td>2024-01-12 04:34:...</td></tr>\n",
       "<tr><td>46665114d1bb08acf...</td><td>Film Tech II</td><td>8 years</td><td>MORTGAGE</td><td>44000.0</td><td>MN</td><td>560xx</td><td>USA</td><td>C</td><td>C2</td><td>Source Verified</td><td>152300.0</td><td>Individual</td><td>null</td><td>null</td><td>2024-01-12 04:34:...</td></tr>\n",
       "<tr><td>a78cb6e9cad9d6611...</td><td>buyer</td><td>3 years</td><td>MORTGAGE</td><td>110000.0</td><td>MN</td><td>550xx</td><td>USA</td><td>C</td><td>C5</td><td>Not Verified</td><td>545641.0</td><td>Individual</td><td>null</td><td>null</td><td>2024-01-12 04:34:...</td></tr>\n",
       "<tr><td>15f45b246af4bcb05...</td><td>bus operator</td><td>8 years</td><td>RENT</td><td>80000.0</td><td>NY</td><td>117xx</td><td>USA</td><td>A</td><td>A5</td><td>Source Verified</td><td>106893.0</td><td>Individual</td><td>null</td><td>null</td><td>2024-01-12 04:34:...</td></tr>\n",
       "<tr><td>e60123ac438109f29...</td><td>Designer</td><td>2 years</td><td>RENT</td><td>150000.0</td><td>CA</td><td>916xx</td><td>USA</td><td>A</td><td>A2</td><td>Not Verified</td><td>78667.0</td><td>Individual</td><td>null</td><td>null</td><td>2024-01-12 04:34:...</td></tr>\n",
       "<tr><td>7489b30628d21bcf8...</td><td>Sales/ Office Man...</td><td>10+ years</td><td>MORTGAGE</td><td>70000.0</td><td>WI</td><td>531xx</td><td>USA</td><td>D</td><td>D1</td><td>Source Verified</td><td>153904.0</td><td>Individual</td><td>null</td><td>null</td><td>2024-01-12 04:34:...</td></tr>\n",
       "</table>\n",
       "only showing top 20 rows\n"
      ],
      "text/plain": [
       "+--------------------+--------------------+----------+--------------+-------------+-------------+---------------+---------------+-----+---------+-------------------+-----------------------+----------------+-------------------+-------------------------+--------------------+\n",
       "|           member_id|           emp_title|emp_length|home_ownership|annual_income|address_state|address_zipcode|address_country|grade|sub_grade|verification_status|total_high_credit_limit|application_type|annual_income_joint|verification_status_joint|         ingest_date|\n",
       "+--------------------+--------------------+----------+--------------+-------------+-------------+---------------+---------------+-----+---------+-------------------+-----------------------+----------------+-------------------+-------------------------+--------------------+\n",
       "|bb0e7f121faa135a6...|    Material Handler| 10+ years|      MORTGAGE|      35000.0|           OH|          433xx|            USA|    D|       D4|       Not Verified|               101455.0|      Individual|               null|                     null|2024-01-12 04:34:...|\n",
       "|9d23ee48f68bdf06e...|              server|   5 years|           OWN|      65000.0|           CA|          919xx|            USA|    A|       A4|    Source Verified|                14500.0|      Individual|               null|                     null|2024-01-12 04:34:...|\n",
       "|85ba3d55bed770dd0...|         Procurement| 10+ years|      MORTGAGE|      74000.0|           KY|          410xx|            USA|    C|       C3|           Verified|               168268.0|      Individual|               null|                     null|2024-01-12 04:34:...|\n",
       "|e973d04faaceab100...| Operations Engineer|    1 year|          RENT|      65000.0|           NY|          113xx|            USA|    A|       A4|       Not Verified|               105750.0|      Individual|               null|                     null|2024-01-12 04:34:...|\n",
       "|600ed4e89ac6b2c0b...|      police officer| 10+ years|      MORTGAGE|      98000.0|           CA|          917xx|            USA|    D|       D5|           Verified|                50060.0|      Individual|               null|                     null|2024-01-12 04:34:...|\n",
       "|9b751b81ac8e05c43...|            Shipping|   4 years|          RENT|      38000.0|           CA|          900xx|            USA|    C|       C5|       Not Verified|                33500.0|      Individual|               null|                     null|2024-01-12 04:34:...|\n",
       "|fc0ffe6f4c8c8242c...|  payroll specialist| 10+ years|          RENT|      55000.0|           NJ|          074xx|            USA|    D|       D3|    Source Verified|                48149.0|      Individual|               null|                     null|2024-01-12 04:34:...|\n",
       "|30bfeb37c3fb4e209...|           Physician|   2 years|          RENT|     170000.0|           MA|          024xx|            USA|    A|       A1|       Not Verified|               336284.0|      Individual|               null|                     null|2024-01-12 04:34:...|\n",
       "|18e50b76892ac2dcc...|    Registered Nurse| 10+ years|      MORTGAGE|      86000.0|           FL|          349xx|            USA|    B|       B3|       Not Verified|                47677.0|      Individual|               null|                     null|2024-01-12 04:34:...|\n",
       "|c4ba9fcaed5958720...|Branch account ex...|    1 year|           OWN|      32800.0|           OR|          971xx|            USA|    F|       F1|           Verified|                42469.0|      Individual|               null|                     null|2024-01-12 04:34:...|\n",
       "|5a09939908d3fd8a1...|               pilot|   2 years|      MORTGAGE|     120000.0|           TX|          760xx|            USA|    F|       F3|    Source Verified|               319257.0|      Individual|               null|                     null|2024-01-12 04:34:...|\n",
       "|c91c7b77bd9f85847...|         Lead Server| 10+ years|          RENT|      20000.0|           MI|          480xx|            USA|    F|       F3|           Verified|                28996.0|      Individual|               null|                     null|2024-01-12 04:34:...|\n",
       "|8dbca572a5accb86f...|     Project Manager|   7 years|      MORTGAGE|      87000.0|           NV|          891xx|            USA|    A|       A3|    Source Verified|               279091.0|      Individual|               null|                     null|2024-01-12 04:34:...|\n",
       "|74f0af552d91d35b8...|                null|      null|      MORTGAGE|      52000.0|           IL|          604xx|            USA|    F|       F4|           Verified|               207245.0|      Individual|               null|                     null|2024-01-12 04:34:...|\n",
       "|6dbfd4609c98ecfbf...|             Manager|   2 years|          RENT|      63500.0|           GA|          303xx|            USA|    C|       C3|    Source Verified|                58665.0|      Individual|               null|                     null|2024-01-12 04:34:...|\n",
       "|9103350c7d293b074...|  Process Technician|  < 1 year|      MORTGAGE|      58150.0|           TX|          775xx|            USA|    B|       B2|       Not Verified|               122506.0|      Individual|               null|                     null|2024-01-12 04:34:...|\n",
       "|b58b059f5a7447a1d...|  general contractor|   4 years|          RENT|      40000.0|           WA|          986xx|            USA|    D|       D3|    Source Verified|                21209.0|      Individual|               null|                     null|2024-01-12 04:34:...|\n",
       "|7b9736292f9242ca8...|           Associate|   5 years|      MORTGAGE|     100000.0|           UT|          841xx|            USA|    A|       A3|       Not Verified|                87208.0|      Individual|               null|                     null|2024-01-12 04:34:...|\n",
       "|4627a2459f916ae9a...|             EVP/CFO|   9 years|      MORTGAGE|     125000.0|           MO|          656xx|            USA|    E|       E5|           Verified|               534451.0|      Individual|               null|                     null|2024-01-12 04:34:...|\n",
       "|786f56aeeeb7f4f13...|Post Closing Spec...|   6 years|      MORTGAGE|      37000.0|           TX|          750xx|            USA|    D|       D4|    Source Verified|               165717.0|      Individual|               null|                     null|2024-01-12 04:34:...|\n",
       "+--------------------+--------------------+----------+--------------+-------------+-------------+---------------+---------------+-----+---------+-------------------+-----------------------+----------------+-------------------+-------------------------+--------------------+\n",
       "only showing top 20 rows"
      ]
     },
     "execution_count": 16,
     "metadata": {},
     "output_type": "execute_result"
    }
   ],
   "source": [
    "spark.sql(\"select * from customers\")"
   ]
  },
  {
   "cell_type": "code",
   "execution_count": 17,
   "id": "980fb021",
   "metadata": {},
   "outputs": [
    {
     "data": {
      "text/html": [
       "<table border='1'>\n",
       "<tr><th>count(1)</th></tr>\n",
       "<tr><td>5</td></tr>\n",
       "</table>\n"
      ],
      "text/plain": [
       "+--------+\n",
       "|count(1)|\n",
       "+--------+\n",
       "|       5|\n",
       "+--------+"
      ]
     },
     "execution_count": 17,
     "metadata": {},
     "output_type": "execute_result"
    }
   ],
   "source": [
    "spark.sql(\"select count(*) from customers where annual_income is null\")"
   ]
  },
  {
   "cell_type": "code",
   "execution_count": 18,
   "id": "0fedc503",
   "metadata": {},
   "outputs": [],
   "source": [
    "customers_income_filtered = spark.sql(\"select * from customers where annual_income is not null\")"
   ]
  },
  {
   "cell_type": "code",
   "execution_count": 19,
   "id": "099cbd30",
   "metadata": {},
   "outputs": [],
   "source": [
    "customers_income_filtered.createOrReplaceTempView(\"customers\")"
   ]
  },
  {
   "cell_type": "code",
   "execution_count": 20,
   "id": "119c6dc1",
   "metadata": {},
   "outputs": [
    {
     "name": "stdout",
     "output_type": "stream",
     "text": [
      "+----------+\n",
      "|emp_length|\n",
      "+----------+\n",
      "|   5 years|\n",
      "|   9 years|\n",
      "|      null|\n",
      "|    1 year|\n",
      "|   2 years|\n",
      "|   7 years|\n",
      "|   8 years|\n",
      "|   4 years|\n",
      "|   6 years|\n",
      "|   3 years|\n",
      "| 10+ years|\n",
      "|  < 1 year|\n",
      "+----------+\n",
      "\n"
     ]
    }
   ],
   "source": [
    "spark.sql(\"select distinct(emp_length) from customers\").show()"
   ]
  },
  {
   "cell_type": "code",
   "execution_count": 21,
   "id": "90ea5deb",
   "metadata": {},
   "outputs": [],
   "source": [
    "from pyspark.sql.functions import regexp_replace, col"
   ]
  },
  {
   "cell_type": "code",
   "execution_count": 22,
   "id": "315f889f",
   "metadata": {},
   "outputs": [],
   "source": [
    "customers_emplength_cleaned = customers_income_filtered.withColumn(\"emp_length\",regexp_replace(col(\"emp_length\"),\"(\\D)\",\"\"))"
   ]
  },
  {
   "cell_type": "code",
   "execution_count": 23,
   "id": "283ef0a2",
   "metadata": {},
   "outputs": [
    {
     "data": {
      "text/html": [
       "<table border='1'>\n",
       "<tr><th>member_id</th><th>emp_title</th><th>emp_length</th><th>home_ownership</th><th>annual_income</th><th>address_state</th><th>address_zipcode</th><th>address_country</th><th>grade</th><th>sub_grade</th><th>verification_status</th><th>total_high_credit_limit</th><th>application_type</th><th>annual_income_joint</th><th>verification_status_joint</th><th>ingest_date</th></tr>\n",
       "<tr><td>ff4f2ad5a1ad5ac49...</td><td>Business Developm...</td><td>6</td><td>MORTGAGE</td><td>47000.0</td><td>TX</td><td>750xx</td><td>USA</td><td>A</td><td>A1</td><td>Not Verified</td><td>332077.0</td><td>Individual</td><td>null</td><td>null</td><td>2024-01-12 04:34:...</td></tr>\n",
       "<tr><td>b2afaa03adab721a0...</td><td>Partner, CPA</td><td>7</td><td>MORTGAGE</td><td>165000.0</td><td>MN</td><td>554xx</td><td>USA</td><td>B</td><td>B2</td><td>Source Verified</td><td>108415.0</td><td>Individual</td><td>null</td><td>null</td><td>2024-01-12 04:34:...</td></tr>\n",
       "<tr><td>e398fac2fd2d2a84b...</td><td>Sales Manager</td><td>10</td><td>MORTGAGE</td><td>175000.0</td><td>WA</td><td>992xx</td><td>USA</td><td>C</td><td>C4</td><td>Not Verified</td><td>376040.0</td><td>Individual</td><td>null</td><td>null</td><td>2024-01-12 04:34:...</td></tr>\n",
       "<tr><td>7028ec77194adcf54...</td><td>Firefighter/Param...</td><td>10</td><td>MORTGAGE</td><td>80000.0</td><td>CO</td><td>801xx</td><td>USA</td><td>B</td><td>B2</td><td>Verified</td><td>471071.0</td><td>Individual</td><td>null</td><td>null</td><td>2024-01-12 04:34:...</td></tr>\n",
       "<tr><td>24ca95380aeae4c82...</td><td>dispath</td><td>10</td><td>MORTGAGE</td><td>33300.0</td><td>ND</td><td>581xx</td><td>USA</td><td>B</td><td>B3</td><td>Verified</td><td>75250.0</td><td>Individual</td><td>null</td><td>null</td><td>2024-01-12 04:34:...</td></tr>\n",
       "<tr><td>95a61937adf485d09...</td><td>Server</td><td>9</td><td>MORTGAGE</td><td>44000.0</td><td>HI</td><td>967xx</td><td>USA</td><td>D</td><td>D3</td><td>Source Verified</td><td>319400.0</td><td>Individual</td><td>null</td><td>null</td><td>2024-01-12 04:34:...</td></tr>\n",
       "<tr><td>ddeaffd921b90d9e7...</td><td>Patient Access Rep</td><td>4</td><td>OWN</td><td>30000.0</td><td>KS</td><td>674xx</td><td>USA</td><td>C</td><td>C5</td><td>Verified</td><td>101828.0</td><td>Individual</td><td>null</td><td>null</td><td>2024-01-12 04:34:...</td></tr>\n",
       "<tr><td>1dfe61396fb1a3a01...</td><td>Creative Services...</td><td>2</td><td>OWN</td><td>95000.0</td><td>FL</td><td>334xx</td><td>USA</td><td>B</td><td>B3</td><td>Not Verified</td><td>305149.0</td><td>Individual</td><td>null</td><td>null</td><td>2024-01-12 04:34:...</td></tr>\n",
       "<tr><td>3abccd1b031ddea79...</td><td>AR</td><td>8</td><td>OWN</td><td>48000.0</td><td>OH</td><td>452xx</td><td>USA</td><td>C</td><td>C2</td><td>Source Verified</td><td>38992.0</td><td>Individual</td><td>null</td><td>null</td><td>2024-01-12 04:34:...</td></tr>\n",
       "<tr><td>66338ab2e5b3bc4ad...</td><td>manager</td><td>10</td><td>MORTGAGE</td><td>106000.0</td><td>OH</td><td>434xx</td><td>USA</td><td>E</td><td>E2</td><td>Not Verified</td><td>446418.0</td><td>Individual</td><td>null</td><td>null</td><td>2024-01-12 04:34:...</td></tr>\n",
       "<tr><td>bc73a8ff7ae22fabf...</td><td>FInancial Advisor</td><td>4</td><td>RENT</td><td>35000.0</td><td>CO</td><td>802xx</td><td>USA</td><td>A</td><td>A3</td><td>Source Verified</td><td>30200.0</td><td>Individual</td><td>null</td><td>null</td><td>2024-01-12 04:34:...</td></tr>\n",
       "<tr><td>57966944b563646e2...</td><td>MANAGER</td><td>7</td><td>MORTGAGE</td><td>150000.0</td><td>TX</td><td>750xx</td><td>USA</td><td>E</td><td>E2</td><td>Source Verified</td><td>112345.0</td><td>Individual</td><td>null</td><td>null</td><td>2024-01-12 04:34:...</td></tr>\n",
       "<tr><td>7b82aef8a414b2550...</td><td>Store Manager</td><td>1</td><td>RENT</td><td>72000.0</td><td>OH</td><td>431xx</td><td>USA</td><td>C</td><td>C4</td><td>Verified</td><td>73546.0</td><td>Individual</td><td>null</td><td>null</td><td>2024-01-12 04:34:...</td></tr>\n",
       "<tr><td>c5b24a5e7a42dd674...</td><td>Customer srvice</td><td>8</td><td>RENT</td><td>33000.0</td><td>FL</td><td>322xx</td><td>USA</td><td>C</td><td>C4</td><td>Verified</td><td>22000.0</td><td>Individual</td><td>null</td><td>null</td><td>2024-01-12 04:34:...</td></tr>\n",
       "<tr><td>136edac1dbb02666c...</td><td>Teacher</td><td>2</td><td>RENT</td><td>40560.0</td><td>FL</td><td>337xx</td><td>USA</td><td>C</td><td>C2</td><td>Source Verified</td><td>45798.0</td><td>Individual</td><td>null</td><td>null</td><td>2024-01-12 04:34:...</td></tr>\n",
       "<tr><td>45b7921fcc2b5bb6c...</td><td>Owner</td><td>10</td><td>RENT</td><td>95000.0</td><td>CO</td><td>801xx</td><td>USA</td><td>C</td><td>C4</td><td>Source Verified</td><td>114858.0</td><td>Individual</td><td>null</td><td>null</td><td>2024-01-12 04:34:...</td></tr>\n",
       "<tr><td>f09f86c2c4da2c740...</td><td>Instructional Coach</td><td>9</td><td>MORTGAGE</td><td>120000.0</td><td>GA</td><td>315xx</td><td>USA</td><td>B</td><td>B5</td><td>Source Verified</td><td>306526.0</td><td>Individual</td><td>null</td><td>null</td><td>2024-01-12 04:34:...</td></tr>\n",
       "<tr><td>0dada7375ad3b281a...</td><td>null</td><td>null</td><td>MORTGAGE</td><td>55000.0</td><td>DE</td><td>197xx</td><td>USA</td><td>A</td><td>A1</td><td>Not Verified</td><td>200700.0</td><td>Individual</td><td>null</td><td>null</td><td>2024-01-12 04:34:...</td></tr>\n",
       "<tr><td>a78a71b0f7272582c...</td><td>Pipefitter</td><td>2</td><td>MORTGAGE</td><td>100000.0</td><td>TX</td><td>775xx</td><td>USA</td><td>A</td><td>A5</td><td>Source Verified</td><td>72737.0</td><td>Individual</td><td>null</td><td>null</td><td>2024-01-12 04:34:...</td></tr>\n",
       "<tr><td>1171741459b15d744...</td><td>Medical Records A...</td><td>4</td><td>RENT</td><td>39801.6</td><td>TN</td><td>380xx</td><td>USA</td><td>C</td><td>C1</td><td>Source Verified</td><td>231031.0</td><td>Individual</td><td>null</td><td>null</td><td>2024-01-12 04:34:...</td></tr>\n",
       "</table>\n",
       "only showing top 20 rows\n"
      ],
      "text/plain": [
       "+--------------------+--------------------+----------+--------------+-------------+-------------+---------------+---------------+-----+---------+-------------------+-----------------------+----------------+-------------------+-------------------------+--------------------+\n",
       "|           member_id|           emp_title|emp_length|home_ownership|annual_income|address_state|address_zipcode|address_country|grade|sub_grade|verification_status|total_high_credit_limit|application_type|annual_income_joint|verification_status_joint|         ingest_date|\n",
       "+--------------------+--------------------+----------+--------------+-------------+-------------+---------------+---------------+-----+---------+-------------------+-----------------------+----------------+-------------------+-------------------------+--------------------+\n",
       "|15488f69316884648...|     Project Manager|         4|          RENT|     105000.0|           CT|          067xx|            USA|    C|       C4|       Not Verified|               195676.0|      Individual|               null|                     null|2024-01-12 04:34:...|\n",
       "|c1f75def12a21294b...|    Flight Attendant|         7|          RENT|      32000.0|           GA|          300xx|            USA|    C|       C1|    Source Verified|                33113.0|      Individual|               null|                     null|2024-01-12 04:34:...|\n",
       "|d5976d47110ee625c...|             Analyst|         3|          RENT|      75000.0|           CA|          927xx|            USA|    B|       B4|           Verified|               110900.0|      Individual|               null|                     null|2024-01-12 04:34:...|\n",
       "|366c5251885bd3556...|           machinist|        10|      MORTGAGE|      65000.0|           NY|          142xx|            USA|    A|       A2|       Not Verified|               200173.0|      Individual|               null|                     null|2024-01-12 04:34:...|\n",
       "|242900b4322ffdf83...|         qa lab tech|         3|          RENT|      35000.0|           CA|          923xx|            USA|    C|       C2|    Source Verified|                23116.0|      Individual|               null|                     null|2024-01-12 04:34:...|\n",
       "|a91da7f7488da9c76...|Community Integra...|         9|      MORTGAGE|      38000.0|           NJ|          080xx|            USA|    B|       B5|       Not Verified|                68135.0|      Individual|               null|                     null|2024-01-12 04:34:...|\n",
       "|b7859f6a34660e4c3...|                null|      null|      MORTGAGE|      42000.0|           AR|          728xx|            USA|    B|       B5|           Verified|               160100.0|      Individual|               null|                     null|2024-01-12 04:34:...|\n",
       "|339dd8d82957bedba...|                null|      null|      MORTGAGE|      80000.0|           NC|          275xx|            USA|    D|       D4|    Source Verified|                60098.0|      Individual|               null|                     null|2024-01-12 04:34:...|\n",
       "|d92828a2458f779c5...|              office|        10|      MORTGAGE|      51000.0|           WI|          534xx|            USA|    F|       F5|    Source Verified|               203091.0|      Individual|               null|                     null|2024-01-12 04:34:...|\n",
       "|bcffcbf9b91ad2c04...|               Pilot|         1|          RENT|      60000.0|           FL|          328xx|            USA|    E|       E3|    Source Verified|                38822.0|      Individual|               null|                     null|2024-01-12 04:34:...|\n",
       "|48035e12f94921199...|    Sr. Phlebotomist|         9|          RENT|      43000.0|           RI|          029xx|            USA|    D|       D3|    Source Verified|                51343.0|      Individual|               null|                     null|2024-01-12 04:34:...|\n",
       "|3dbc6224adb77ab3f...|      Administration|         2|          RENT|      35000.0|           PA|          186xx|            USA|    C|       C1|    Source Verified|                47882.0|      Individual|               null|                     null|2024-01-12 04:34:...|\n",
       "|d935f18808a7d78cb...|                null|      null|      MORTGAGE|     120000.0|           TN|          383xx|            USA|    D|       D4|    Source Verified|               122314.0|      Individual|               null|                     null|2024-01-12 04:34:...|\n",
       "|8106ce219ed25e8e6...|Investment Operat...|         2|          RENT|      70000.0|           NY|          105xx|            USA|    A|       A5|           Verified|                56900.0|      Individual|               null|                     null|2024-01-12 04:34:...|\n",
       "|7d3b8d878cc0daaff...|           RECEIVING|        10|          RENT|      25000.0|           MI|          486xx|            USA|    B|       B4|       Not Verified|                25497.0|      Individual|               null|                     null|2024-01-12 04:34:...|\n",
       "|bf015d4acf58f5ef2...|            Sergeant|        10|      MORTGAGE|     108000.0|           FL|          328xx|            USA|    C|       C1|           Verified|               245862.0|      Individual|               null|                     null|2024-01-12 04:34:...|\n",
       "|cf3c4f6f597628fb7...|Director of Preve...|        10|      MORTGAGE|      46000.0|           RI|          028xx|            USA|    B|       B2|       Not Verified|               206735.0|      Individual|               null|                     null|2024-01-12 04:34:...|\n",
       "|58fb15f78690943d6...|   medical assistant|         8|          RENT|      40000.0|           NY|          104xx|            USA|    B|       B3|       Not Verified|                11600.0|      Individual|               null|                     null|2024-01-12 04:34:...|\n",
       "|a5470d1c4369e4741...|Senior Technical ...|         8|      MORTGAGE|     150000.0|           CA|          913xx|            USA|    D|       D2|           Verified|              1394868.0|      Individual|               null|                     null|2024-01-12 04:34:...|\n",
       "|6f0f5997686936f13...|Public Health Adv...|         8|          RENT|      40000.0|           NY|          104xx|            USA|    D|       D5|    Source Verified|                52129.0|      Individual|               null|                     null|2024-01-12 04:34:...|\n",
       "+--------------------+--------------------+----------+--------------+-------------+-------------+---------------+---------------+-----+---------+-------------------+-----------------------+----------------+-------------------+-------------------------+--------------------+\n",
       "only showing top 20 rows"
      ]
     },
     "execution_count": 23,
     "metadata": {},
     "output_type": "execute_result"
    }
   ],
   "source": [
    "customers_emplength_cleaned"
   ]
  },
  {
   "cell_type": "code",
   "execution_count": 24,
   "id": "0451834e",
   "metadata": {},
   "outputs": [
    {
     "name": "stdout",
     "output_type": "stream",
     "text": [
      "root\n",
      " |-- member_id: string (nullable = true)\n",
      " |-- emp_title: string (nullable = true)\n",
      " |-- emp_length: string (nullable = true)\n",
      " |-- home_ownership: string (nullable = true)\n",
      " |-- annual_income: float (nullable = true)\n",
      " |-- address_state: string (nullable = true)\n",
      " |-- address_zipcode: string (nullable = true)\n",
      " |-- address_country: string (nullable = true)\n",
      " |-- grade: string (nullable = true)\n",
      " |-- sub_grade: string (nullable = true)\n",
      " |-- verification_status: string (nullable = true)\n",
      " |-- total_high_credit_limit: float (nullable = true)\n",
      " |-- application_type: string (nullable = true)\n",
      " |-- annual_income_joint: float (nullable = true)\n",
      " |-- verification_status_joint: string (nullable = true)\n",
      " |-- ingest_date: timestamp (nullable = false)\n",
      "\n"
     ]
    }
   ],
   "source": [
    "customers_emplength_cleaned.printSchema()"
   ]
  },
  {
   "cell_type": "code",
   "execution_count": 25,
   "id": "70a4ad82",
   "metadata": {},
   "outputs": [],
   "source": [
    "customers_emplength_casted = customers_emplength_cleaned.withColumn(\"emp_length\",customers_emplength_cleaned.emp_length.cast('int'))"
   ]
  },
  {
   "cell_type": "code",
   "execution_count": 26,
   "id": "d2678f68",
   "metadata": {},
   "outputs": [
    {
     "data": {
      "text/html": [
       "<table border='1'>\n",
       "<tr><th>member_id</th><th>emp_title</th><th>emp_length</th><th>home_ownership</th><th>annual_income</th><th>address_state</th><th>address_zipcode</th><th>address_country</th><th>grade</th><th>sub_grade</th><th>verification_status</th><th>total_high_credit_limit</th><th>application_type</th><th>annual_income_joint</th><th>verification_status_joint</th><th>ingest_date</th></tr>\n",
       "<tr><td>b9dfcdce8c51c4029...</td><td>ramp service</td><td>10</td><td>OWN</td><td>55000.0</td><td>CA</td><td>940xx</td><td>USA</td><td>C</td><td>C1</td><td>Source Verified</td><td>18000.0</td><td>Individual</td><td>null</td><td>null</td><td>2024-01-12 04:34:...</td></tr>\n",
       "<tr><td>b4a8cf8e8cf9a9a9d...</td><td>Business Initiati...</td><td>10</td><td>MORTGAGE</td><td>200000.0</td><td>NV</td><td>891xx</td><td>USA</td><td>A</td><td>A2</td><td>Verified</td><td>452732.0</td><td>Individual</td><td>null</td><td>null</td><td>2024-01-12 04:34:...</td></tr>\n",
       "<tr><td>4b92caa0af7c8eb29...</td><td>Sales</td><td>10</td><td>MORTGAGE</td><td>300000.0</td><td>NY</td><td>117xx</td><td>USA</td><td>A</td><td>A1</td><td>Source Verified</td><td>1016410.0</td><td>Individual</td><td>null</td><td>null</td><td>2024-01-12 04:34:...</td></tr>\n",
       "<tr><td>ce03f2b325792ff5d...</td><td>null</td><td>null</td><td>OWN</td><td>25200.0</td><td>OH</td><td>441xx</td><td>USA</td><td>B</td><td>B1</td><td>Verified</td><td>27100.0</td><td>Individual</td><td>null</td><td>null</td><td>2024-01-12 04:34:...</td></tr>\n",
       "<tr><td>5a8fd1d60e3f843e2...</td><td>Leadman</td><td>10</td><td>MORTGAGE</td><td>72000.0</td><td>UT</td><td>840xx</td><td>USA</td><td>D</td><td>D4</td><td>Source Verified</td><td>284759.0</td><td>Individual</td><td>null</td><td>null</td><td>2024-01-12 04:34:...</td></tr>\n",
       "<tr><td>94b0f7558c47043e3...</td><td>IT Consultant</td><td>10</td><td>RENT</td><td>67000.0</td><td>NC</td><td>282xx</td><td>USA</td><td>F</td><td>F5</td><td>Source Verified</td><td>93951.0</td><td>Individual</td><td>null</td><td>null</td><td>2024-01-12 04:34:...</td></tr>\n",
       "<tr><td>10ebe7c3172d31f4a...</td><td>Weave Technical S...</td><td>2</td><td>RENT</td><td>66300.0</td><td>SC</td><td>296xx</td><td>USA</td><td>B</td><td>B1</td><td>Not Verified</td><td>220799.0</td><td>Individual</td><td>null</td><td>null</td><td>2024-01-12 04:34:...</td></tr>\n",
       "<tr><td>49b712a41ae2c1220...</td><td>null</td><td>null</td><td>MORTGAGE</td><td>57000.0</td><td>AL</td><td>369xx</td><td>USA</td><td>D</td><td>D1</td><td>Source Verified</td><td>154912.0</td><td>Individual</td><td>null</td><td>null</td><td>2024-01-12 04:34:...</td></tr>\n",
       "<tr><td>2bea91148ec3a133d...</td><td>mechanic</td><td>6</td><td>MORTGAGE</td><td>36400.0</td><td>VA</td><td>224xx</td><td>USA</td><td>G</td><td>G3</td><td>Source Verified</td><td>41300.0</td><td>Individual</td><td>null</td><td>null</td><td>2024-01-12 04:34:...</td></tr>\n",
       "<tr><td>e680723a4baaef7b1...</td><td>Management</td><td>10</td><td>MORTGAGE</td><td>70000.0</td><td>IL</td><td>615xx</td><td>USA</td><td>D</td><td>D2</td><td>Verified</td><td>184422.0</td><td>Individual</td><td>null</td><td>null</td><td>2024-01-12 04:34:...</td></tr>\n",
       "<tr><td>3bd964c0acfd80cab...</td><td>Security Guard !</td><td>3</td><td>RENT</td><td>28787.0</td><td>NE</td><td>681xx</td><td>USA</td><td>D</td><td>D2</td><td>Source Verified</td><td>20600.0</td><td>Individual</td><td>null</td><td>null</td><td>2024-01-12 04:34:...</td></tr>\n",
       "<tr><td>efd3f32e2f440fac6...</td><td>Web Director</td><td>3</td><td>RENT</td><td>22000.0</td><td>FL</td><td>338xx</td><td>USA</td><td>D</td><td>D3</td><td>Verified</td><td>93841.0</td><td>Individual</td><td>null</td><td>null</td><td>2024-01-12 04:34:...</td></tr>\n",
       "<tr><td>a5491668f30c0c43f...</td><td>Realtor</td><td>5</td><td>RENT</td><td>68000.0</td><td>CA</td><td>917xx</td><td>USA</td><td>C</td><td>C4</td><td>Not Verified</td><td>4600.0</td><td>Individual</td><td>null</td><td>null</td><td>2024-01-12 04:34:...</td></tr>\n",
       "<tr><td>52239177109f09a18...</td><td>Vocational Consul...</td><td>10</td><td>MORTGAGE</td><td>145000.0</td><td>IL</td><td>604xx</td><td>USA</td><td>A</td><td>A5</td><td>Source Verified</td><td>284416.0</td><td>Individual</td><td>null</td><td>null</td><td>2024-01-12 04:34:...</td></tr>\n",
       "<tr><td>5b7032a09548e4ee9...</td><td>Service Manager</td><td>9</td><td>RENT</td><td>95900.0</td><td>NJ</td><td>070xx</td><td>USA</td><td>D</td><td>D5</td><td>Source Verified</td><td>371217.0</td><td>Individual</td><td>null</td><td>null</td><td>2024-01-12 04:34:...</td></tr>\n",
       "<tr><td>95700b7664156ca3c...</td><td>Revenue Manager</td><td>4</td><td>MORTGAGE</td><td>82400.0</td><td>CO</td><td>800xx</td><td>USA</td><td>B</td><td>B2</td><td>Source Verified</td><td>242752.0</td><td>Individual</td><td>null</td><td>null</td><td>2024-01-12 04:34:...</td></tr>\n",
       "<tr><td>6ec31060fe39d9368...</td><td>Captain</td><td>10</td><td>RENT</td><td>122000.0</td><td>LA</td><td>700xx</td><td>USA</td><td>C</td><td>C1</td><td>Source Verified</td><td>80077.0</td><td>Individual</td><td>null</td><td>null</td><td>2024-01-12 04:34:...</td></tr>\n",
       "<tr><td>d64ee44aed4650098...</td><td>Administrator</td><td>10</td><td>MORTGAGE</td><td>50000.0</td><td>IN</td><td>466xx</td><td>USA</td><td>B</td><td>B3</td><td>Not Verified</td><td>156396.0</td><td>Individual</td><td>null</td><td>null</td><td>2024-01-12 04:34:...</td></tr>\n",
       "<tr><td>f22cca16fb9ccaa43...</td><td>Millwright</td><td>10</td><td>MORTGAGE</td><td>160000.0</td><td>IN</td><td>463xx</td><td>USA</td><td>C</td><td>C4</td><td>Not Verified</td><td>282059.0</td><td>Individual</td><td>null</td><td>null</td><td>2024-01-12 04:34:...</td></tr>\n",
       "<tr><td>7e81cdb83528d69da...</td><td>Safety Manager</td><td>10</td><td>MORTGAGE</td><td>65000.0</td><td>OH</td><td>442xx</td><td>USA</td><td>C</td><td>C4</td><td>Verified</td><td>173134.0</td><td>Individual</td><td>null</td><td>null</td><td>2024-01-12 04:34:...</td></tr>\n",
       "</table>\n",
       "only showing top 20 rows\n"
      ],
      "text/plain": [
       "+--------------------+--------------------+----------+--------------+-------------+-------------+---------------+---------------+-----+---------+-------------------+-----------------------+----------------+-------------------+-------------------------+--------------------+\n",
       "|           member_id|           emp_title|emp_length|home_ownership|annual_income|address_state|address_zipcode|address_country|grade|sub_grade|verification_status|total_high_credit_limit|application_type|annual_income_joint|verification_status_joint|         ingest_date|\n",
       "+--------------------+--------------------+----------+--------------+-------------+-------------+---------------+---------------+-----+---------+-------------------+-----------------------+----------------+-------------------+-------------------------+--------------------+\n",
       "|2b93c1b1ee268b172...|         Electrician|         1|          RENT|      60000.0|           PA|          180xx|            USA|    C|       C2|       Not Verified|                59425.0|      Individual|               null|                     null|2024-01-12 04:34:...|\n",
       "|188eeacb0abff082a...|              Server|         2|      MORTGAGE|      40000.0|           VA|          238xx|            USA|    C|       C3|    Source Verified|               152335.0|      Individual|               null|                     null|2024-01-12 04:34:...|\n",
       "|0de529bf9fcf8672e...|  Operations manager|         2|          RENT|      83000.0|           NV|          895xx|            USA|    C|       C5|       Not Verified|               155059.0|      Individual|               null|                     null|2024-01-12 04:34:...|\n",
       "|bb64013603c4b5ad5...|Transportation Ge...|         1|          RENT|      40000.0|           MN|          550xx|            USA|    B|       B4|    Source Verified|                25015.0|      Individual|               null|                     null|2024-01-12 04:34:...|\n",
       "|c6f5f1a40369efa92...|     Full Time Clerk|        10|          RENT|      29000.0|           NJ|          074xx|            USA|    A|       A3|    Source Verified|                58637.0|      Individual|               null|                     null|2024-01-12 04:34:...|\n",
       "|d42eb42fa4b12f7bd...|Purchasing Specia...|        10|      MORTGAGE|      60000.0|           TX|          778xx|            USA|    B|       B4|    Source Verified|               173500.0|      Individual|               null|                     null|2024-01-12 04:34:...|\n",
       "|dd2149a04be009a7a...|     Service Adivsor|        10|      MORTGAGE|      69000.0|           OH|          440xx|            USA|    F|       F4|    Source Verified|               261342.0|      Individual|               null|                     null|2024-01-12 04:34:...|\n",
       "|0655e0849458b303e...|          Purchasing|         3|      MORTGAGE|      75000.0|           SC|          296xx|            USA|    B|       B2|           Verified|               111660.0|      Individual|               null|                     null|2024-01-12 04:34:...|\n",
       "|b89d830b05fe04cb5...|             manager|        10|      MORTGAGE|      70000.0|           SC|          299xx|            USA|    B|       B1|           Verified|               311095.0|      Individual|               null|                     null|2024-01-12 04:34:...|\n",
       "|00c9b5f7f9e905e73...|    Flight attendant|        10|          RENT|     100000.0|           HI|          967xx|            USA|    A|       A3|       Not Verified|               105100.0|      Individual|               null|                     null|2024-01-12 04:34:...|\n",
       "|ca73118243abd00b8...|     Account Manager|         4|      MORTGAGE|      85000.0|           CT|          060xx|            USA|    A|       A4|           Verified|               394037.0|      Individual|               null|                     null|2024-01-12 04:34:...|\n",
       "|f82f8729dbd0242db...|     Fiscal Director|        10|      MORTGAGE|      85000.0|           OR|          974xx|            USA|    A|       A4|    Source Verified|               299335.0|      Individual|               null|                     null|2024-01-12 04:34:...|\n",
       "|2bd136dd4d43c543a...|    consumer lending|        10|      MORTGAGE|      58000.0|           MD|          212xx|            USA|    B|       B5|           Verified|               205275.0|      Individual|               null|                     null|2024-01-12 04:34:...|\n",
       "|664693d3c1df77ec3...|    Accounts Payable|        10|      MORTGAGE|      44000.0|           PA|          194xx|            USA|    B|       B2|    Source Verified|                24843.0|      Individual|               null|                     null|2024-01-12 04:34:...|\n",
       "|8b4bfea07ac8ec84e...|Operations Suppor...|         3|          RENT|      80000.0|           CO|          802xx|            USA|    B|       B5|       Not Verified|                95622.0|      Individual|               null|                     null|2024-01-12 04:34:...|\n",
       "|04519d0dad3e0f3ea...|B2B Sales Consultant|         5|          RENT|      96000.0|           NY|          113xx|            USA|    C|       C1|    Source Verified|                68359.0|      Individual|               null|                     null|2024-01-12 04:34:...|\n",
       "|8115df7c18ebd65b6...|               Sales|         1|           OWN|     120000.0|           GA|          303xx|            USA|    C|       C2|       Not Verified|               532471.0|      Individual|               null|                     null|2024-01-12 04:34:...|\n",
       "|2dd40664bb2d2635e...|       Lab Assistant|        10|      MORTGAGE|     120000.0|           CA|          948xx|            USA|    B|       B4|    Source Verified|               365371.0|      Individual|               null|                     null|2024-01-12 04:34:...|\n",
       "|368882840dcd38231...|   Senior Accountant|        10|      MORTGAGE|     120000.0|           OH|          430xx|            USA|    C|       C2|       Not Verified|               348260.0|      Individual|               null|                     null|2024-01-12 04:34:...|\n",
       "|5d771222746723972...|Senior Software E...|         3|          RENT|     140000.0|           MA|          021xx|            USA|    A|       A4|    Source Verified|               216774.0|      Individual|               null|                     null|2024-01-12 04:34:...|\n",
       "+--------------------+--------------------+----------+--------------+-------------+-------------+---------------+---------------+-----+---------+-------------------+-----------------------+----------------+-------------------+-------------------------+--------------------+\n",
       "only showing top 20 rows"
      ]
     },
     "execution_count": 26,
     "metadata": {},
     "output_type": "execute_result"
    }
   ],
   "source": [
    "customers_emplength_casted"
   ]
  },
  {
   "cell_type": "code",
   "execution_count": 27,
   "id": "e6330a36",
   "metadata": {},
   "outputs": [
    {
     "name": "stdout",
     "output_type": "stream",
     "text": [
      "root\n",
      " |-- member_id: string (nullable = true)\n",
      " |-- emp_title: string (nullable = true)\n",
      " |-- emp_length: integer (nullable = true)\n",
      " |-- home_ownership: string (nullable = true)\n",
      " |-- annual_income: float (nullable = true)\n",
      " |-- address_state: string (nullable = true)\n",
      " |-- address_zipcode: string (nullable = true)\n",
      " |-- address_country: string (nullable = true)\n",
      " |-- grade: string (nullable = true)\n",
      " |-- sub_grade: string (nullable = true)\n",
      " |-- verification_status: string (nullable = true)\n",
      " |-- total_high_credit_limit: float (nullable = true)\n",
      " |-- application_type: string (nullable = true)\n",
      " |-- annual_income_joint: float (nullable = true)\n",
      " |-- verification_status_joint: string (nullable = true)\n",
      " |-- ingest_date: timestamp (nullable = false)\n",
      "\n"
     ]
    }
   ],
   "source": [
    "customers_emplength_casted.printSchema()"
   ]
  },
  {
   "cell_type": "code",
   "execution_count": 28,
   "id": "3da4b028",
   "metadata": {},
   "outputs": [
    {
     "data": {
      "text/plain": [
       "146903"
      ]
     },
     "execution_count": 28,
     "metadata": {},
     "output_type": "execute_result"
    }
   ],
   "source": [
    "customers_emplength_casted.filter(\"emp_length is null\").count()"
   ]
  },
  {
   "cell_type": "code",
   "execution_count": 29,
   "id": "96bb157b",
   "metadata": {},
   "outputs": [],
   "source": [
    "customers_emplength_casted.createOrReplaceTempView(\"customers\")"
   ]
  },
  {
   "cell_type": "code",
   "execution_count": 30,
   "id": "bc2dd9a9",
   "metadata": {},
   "outputs": [],
   "source": [
    "avg_emp_length = spark.sql(\"select floor(avg(emp_length)) as avg_emp_length from customers\").collect()"
   ]
  },
  {
   "cell_type": "code",
   "execution_count": 31,
   "id": "0c835968",
   "metadata": {},
   "outputs": [
    {
     "name": "stdout",
     "output_type": "stream",
     "text": [
      "[Row(avg_emp_length=6)]\n"
     ]
    }
   ],
   "source": [
    "print(avg_emp_length)"
   ]
  },
  {
   "cell_type": "code",
   "execution_count": 32,
   "id": "40e70865",
   "metadata": {},
   "outputs": [],
   "source": [
    "avg_emp_duration = avg_emp_length[0][0]"
   ]
  },
  {
   "cell_type": "code",
   "execution_count": 33,
   "id": "aea5d251",
   "metadata": {},
   "outputs": [
    {
     "name": "stdout",
     "output_type": "stream",
     "text": [
      "6\n"
     ]
    }
   ],
   "source": [
    "print(avg_emp_duration)"
   ]
  },
  {
   "cell_type": "code",
   "execution_count": 34,
   "id": "3e6c535b",
   "metadata": {},
   "outputs": [],
   "source": [
    "customers_emplength_replaced = customers_emplength_casted.na.fill(avg_emp_duration,subset=['emp_length'])"
   ]
  },
  {
   "cell_type": "code",
   "execution_count": 35,
   "id": "a68a1211",
   "metadata": {},
   "outputs": [
    {
     "data": {
      "text/html": [
       "<table border='1'>\n",
       "<tr><th>member_id</th><th>emp_title</th><th>emp_length</th><th>home_ownership</th><th>annual_income</th><th>address_state</th><th>address_zipcode</th><th>address_country</th><th>grade</th><th>sub_grade</th><th>verification_status</th><th>total_high_credit_limit</th><th>application_type</th><th>annual_income_joint</th><th>verification_status_joint</th><th>ingest_date</th></tr>\n",
       "<tr><td>50616b8d1d05cb02a...</td><td>null</td><td>6</td><td>RENT</td><td>50000.0</td><td>CA</td><td>945xx</td><td>USA</td><td>B</td><td>B1</td><td>Not Verified</td><td>28126.0</td><td>Individual</td><td>null</td><td>null</td><td>2024-01-12 04:35:...</td></tr>\n",
       "<tr><td>e263a58a071b70bb6...</td><td>Health care taker</td><td>3</td><td>RENT</td><td>60000.0</td><td>CA</td><td>946xx</td><td>USA</td><td>D</td><td>D3</td><td>Source Verified</td><td>49393.0</td><td>Individual</td><td>null</td><td>null</td><td>2024-01-12 04:35:...</td></tr>\n",
       "<tr><td>4c50808962d0000c1...</td><td>Accountant IV</td><td>7</td><td>MORTGAGE</td><td>59000.0</td><td>TX</td><td>787xx</td><td>USA</td><td>A</td><td>A4</td><td>Not Verified</td><td>241108.0</td><td>Individual</td><td>null</td><td>null</td><td>2024-01-12 04:35:...</td></tr>\n",
       "<tr><td>47d978089877621c1...</td><td>null</td><td>6</td><td>MORTGAGE</td><td>140000.0</td><td>CA</td><td>946xx</td><td>USA</td><td>A</td><td>A1</td><td>Not Verified</td><td>322500.0</td><td>Individual</td><td>null</td><td>null</td><td>2024-01-12 04:35:...</td></tr>\n",
       "<tr><td>f9152e117555f8f6b...</td><td>Registered nurse</td><td>1</td><td>RENT</td><td>63000.0</td><td>PA</td><td>150xx</td><td>USA</td><td>D</td><td>D3</td><td>Source Verified</td><td>41898.0</td><td>Individual</td><td>null</td><td>null</td><td>2024-01-12 04:35:...</td></tr>\n",
       "<tr><td>dfe7ad1db0b1f7b4f...</td><td>Business Analyst</td><td>10</td><td>MORTGAGE</td><td>136000.0</td><td>NJ</td><td>074xx</td><td>USA</td><td>C</td><td>C2</td><td>Source Verified</td><td>447623.0</td><td>Individual</td><td>null</td><td>null</td><td>2024-01-12 04:35:...</td></tr>\n",
       "<tr><td>74b985ed89ec2ba85...</td><td>Firefighter Lieut...</td><td>10</td><td>MORTGAGE</td><td>90000.0</td><td>FL</td><td>321xx</td><td>USA</td><td>B</td><td>B1</td><td>Source Verified</td><td>176611.0</td><td>Individual</td><td>null</td><td>null</td><td>2024-01-12 04:35:...</td></tr>\n",
       "<tr><td>6a8470e9c8f117da0...</td><td>Office Services S...</td><td>10</td><td>MORTGAGE</td><td>75000.0</td><td>MI</td><td>480xx</td><td>USA</td><td>D</td><td>D1</td><td>Source Verified</td><td>226136.0</td><td>Individual</td><td>null</td><td>null</td><td>2024-01-12 04:35:...</td></tr>\n",
       "<tr><td>8a0f0716629843dff...</td><td>Banker</td><td>2</td><td>RENT</td><td>55000.0</td><td>FL</td><td>329xx</td><td>USA</td><td>E</td><td>E5</td><td>Source Verified</td><td>106574.0</td><td>Individual</td><td>null</td><td>null</td><td>2024-01-12 04:35:...</td></tr>\n",
       "<tr><td>d5d3a37ac3f891def...</td><td>SWITCHBOARD OPERATOR</td><td>10</td><td>MORTGAGE</td><td>67000.0</td><td>MA</td><td>010xx</td><td>USA</td><td>A</td><td>A2</td><td>Source Verified</td><td>153320.0</td><td>Individual</td><td>null</td><td>null</td><td>2024-01-12 04:35:...</td></tr>\n",
       "<tr><td>7979ad4cafdc619f8...</td><td>Administration As...</td><td>10</td><td>RENT</td><td>55496.0</td><td>NY</td><td>125xx</td><td>USA</td><td>E</td><td>E4</td><td>Not Verified</td><td>36400.0</td><td>Individual</td><td>null</td><td>null</td><td>2024-01-12 04:35:...</td></tr>\n",
       "<tr><td>e19a4006fb61f9a2d...</td><td>null</td><td>6</td><td>OWN</td><td>40000.0</td><td>OH</td><td>446xx</td><td>USA</td><td>A</td><td>A5</td><td>Not Verified</td><td>36441.0</td><td>Individual</td><td>null</td><td>null</td><td>2024-01-12 04:35:...</td></tr>\n",
       "<tr><td>62917252b2f747868...</td><td>Truck Driver</td><td>1</td><td>MORTGAGE</td><td>62000.0</td><td>CA</td><td>923xx</td><td>USA</td><td>C</td><td>C2</td><td>Source Verified</td><td>329265.0</td><td>Individual</td><td>null</td><td>null</td><td>2024-01-12 04:35:...</td></tr>\n",
       "<tr><td>42cfdb3481df2f7fe...</td><td>Saler</td><td>4</td><td>MORTGAGE</td><td>50000.0</td><td>FL</td><td>331xx</td><td>USA</td><td>C</td><td>C1</td><td>Not Verified</td><td>301745.0</td><td>Individual</td><td>null</td><td>null</td><td>2024-01-12 04:35:...</td></tr>\n",
       "<tr><td>7e9b4d3b12f9dbc16...</td><td>Teacher</td><td>10</td><td>RENT</td><td>75660.0</td><td>NY</td><td>140xx</td><td>USA</td><td>B</td><td>B2</td><td>Not Verified</td><td>38614.0</td><td>Individual</td><td>null</td><td>null</td><td>2024-01-12 04:35:...</td></tr>\n",
       "<tr><td>cc26c41d02d3748be...</td><td>ASST HEAD TELLER</td><td>6</td><td>RENT</td><td>33500.0</td><td>NJ</td><td>087xx</td><td>USA</td><td>C</td><td>C4</td><td>Source Verified</td><td>36434.0</td><td>Individual</td><td>null</td><td>null</td><td>2024-01-12 04:35:...</td></tr>\n",
       "<tr><td>2535f00f4164bdedd...</td><td>Physician</td><td>10</td><td>MORTGAGE</td><td>180000.0</td><td>CA</td><td>920xx</td><td>USA</td><td>A</td><td>A5</td><td>Source Verified</td><td>1016775.0</td><td>Individual</td><td>null</td><td>null</td><td>2024-01-12 04:35:...</td></tr>\n",
       "<tr><td>05cec1a285adbc318...</td><td>RF Engineer</td><td>1</td><td>RENT</td><td>100000.0</td><td>TX</td><td>770xx</td><td>USA</td><td>D</td><td>D5</td><td>Source Verified</td><td>27400.0</td><td>Individual</td><td>null</td><td>null</td><td>2024-01-12 04:35:...</td></tr>\n",
       "<tr><td>17ab366bfc36314f1...</td><td>pathology</td><td>10</td><td>RENT</td><td>45000.0</td><td>CA</td><td>937xx</td><td>USA</td><td>C</td><td>C5</td><td>Verified</td><td>204362.0</td><td>Individual</td><td>null</td><td>null</td><td>2024-01-12 04:35:...</td></tr>\n",
       "<tr><td>b7071e20c1d542f83...</td><td>null</td><td>6</td><td>MORTGAGE</td><td>65000.0</td><td>OK</td><td>744xx</td><td>USA</td><td>A</td><td>A1</td><td>Not Verified</td><td>294747.0</td><td>Individual</td><td>null</td><td>null</td><td>2024-01-12 04:35:...</td></tr>\n",
       "</table>\n",
       "only showing top 20 rows\n"
      ],
      "text/plain": [
       "+--------------------+--------------------+----------+--------------+-------------+-------------+---------------+---------------+-----+---------+-------------------+-----------------------+----------------+-------------------+-------------------------+--------------------+\n",
       "|           member_id|           emp_title|emp_length|home_ownership|annual_income|address_state|address_zipcode|address_country|grade|sub_grade|verification_status|total_high_credit_limit|application_type|annual_income_joint|verification_status_joint|         ingest_date|\n",
       "+--------------------+--------------------+----------+--------------+-------------+-------------+---------------+---------------+-----+---------+-------------------+-----------------------+----------------+-------------------+-------------------------+--------------------+\n",
       "|1243b36ff6d496c68...|             Analyst|         2|          RENT|      45000.0|           NY|          113xx|            USA|    A|       A2|       Not Verified|                61305.0|      Individual|               null|                     null|2024-01-12 04:35:...|\n",
       "|9cf6685ebd361d994...|    SSC Pallet Build|        10|      MORTGAGE|      32000.0|           NC|          286xx|            USA|    D|       D4|       Not Verified|                32487.0|      Individual|               null|                     null|2024-01-12 04:35:...|\n",
       "|765c2689ce7a0bec1...|Vice President, S...|        10|      MORTGAGE|     230000.0|           PA|          150xx|            USA|    B|       B5|           Verified|               229534.0|      Individual|               null|                     null|2024-01-12 04:35:...|\n",
       "|6bec314c4746e84a9...|          Supervisor|         3|      MORTGAGE|      42000.0|           NJ|          080xx|            USA|    B|       B5|       Not Verified|               218476.0|      Individual|               null|                     null|2024-01-12 04:35:...|\n",
       "|f89883cd0c7163a92...|             Teacher|         3|          RENT|      28400.0|           OR|          970xx|            USA|    D|       D3|           Verified|               156722.0|      Individual|               null|                     null|2024-01-12 04:35:...|\n",
       "|8518c43fec42af189...|Transcription Man...|         1|          RENT|      61000.0|           TN|          379xx|            USA|    A|       A3|    Source Verified|               183404.0|      Individual|               null|                     null|2024-01-12 04:35:...|\n",
       "|db32f3d1a3bb94e29...|Transportation se...|         3|          RENT|      45000.0|           NY|          114xx|            USA|    B|       B5|           Verified|                68835.0|      Individual|               null|                     null|2024-01-12 04:35:...|\n",
       "|a7e862423551c1489...|Director of Finan...|         1|      MORTGAGE|      99000.0|           CA|          951xx|            USA|    E|       E5|    Source Verified|               633608.0|      Individual|               null|                     null|2024-01-12 04:35:...|\n",
       "|a13a11f997cc6fb34...|             MANAGER|        10|          RENT|      75000.0|           NY|          113xx|            USA|    A|       A5|       Not Verified|                98500.0|      Individual|               null|                     null|2024-01-12 04:35:...|\n",
       "|683e438077384246a...|    Registered Nurse|        10|          RENT|      52000.0|           LA|          708xx|            USA|    C|       C5|       Not Verified|                44468.0|      Individual|               null|                     null|2024-01-12 04:35:...|\n",
       "|ce9a963c0e3e1ae9d...|        Duty Manager|         8|      MORTGAGE|      45000.0|           FL|          347xx|            USA|    E|       E4|    Source Verified|               247140.0|      Individual|               null|                     null|2024-01-12 04:35:...|\n",
       "|0ffe696e6e673641b...|Clinical Laborato...|         1|      MORTGAGE|     130000.0|           CA|          940xx|            USA|    B|       B4|           Verified|              1128320.0|      Individual|               null|                     null|2024-01-12 04:35:...|\n",
       "|91b81709c560e45b5...|      Letter carrier|        10|      MORTGAGE|      60000.0|           NY|          112xx|            USA|    D|       D4|       Not Verified|               389600.0|      Individual|               null|                     null|2024-01-12 04:35:...|\n",
       "|9073cf2717b914402...|            Engineer|         9|          RENT|      82000.0|           CA|          916xx|            USA|    B|       B3|       Not Verified|                55024.0|      Individual|               null|                     null|2024-01-12 04:35:...|\n",
       "|d1160d0c339d16a0f...|               Admin|         7|          RENT|      74100.0|           CA|          945xx|            USA|    C|       C5|    Source Verified|               117101.0|      Individual|               null|                     null|2024-01-12 04:35:...|\n",
       "|fcf3c82f824f76ab6...|      Branch Manager|         5|           OWN|      65000.0|           IN|          463xx|            USA|    B|       B5|       Not Verified|               237695.0|      Individual|               null|                     null|2024-01-12 04:35:...|\n",
       "|67b10a1cae343e928...|             Manager|         9|          RENT|      64000.0|           NJ|          075xx|            USA|    E|       E2|       Not Verified|                56702.0|      Individual|               null|                     null|2024-01-12 04:35:...|\n",
       "|11f2327547db21f85...|  Operations Manager|         7|      MORTGAGE|      43000.0|           OH|          443xx|            USA|    B|       B3|    Source Verified|                86536.0|      Individual|               null|                     null|2024-01-12 04:35:...|\n",
       "|6fa8f984d5d7ee873...|           Custodian|         5|          RENT|      32000.0|           WA|          989xx|            USA|    C|       C1|       Not Verified|                78367.0|      Individual|               null|                     null|2024-01-12 04:35:...|\n",
       "|d289f5be3f6b96e45...|      Deputy Sheriff|         6|      MORTGAGE|     103000.0|           NY|          132xx|            USA|    B|       B5|    Source Verified|               310655.0|      Individual|               null|                     null|2024-01-12 04:35:...|\n",
       "+--------------------+--------------------+----------+--------------+-------------+-------------+---------------+---------------+-----+---------+-------------------+-----------------------+----------------+-------------------+-------------------------+--------------------+\n",
       "only showing top 20 rows"
      ]
     },
     "execution_count": 35,
     "metadata": {},
     "output_type": "execute_result"
    }
   ],
   "source": [
    "customers_emplength_replaced"
   ]
  },
  {
   "cell_type": "code",
   "execution_count": 36,
   "id": "6214f03d",
   "metadata": {},
   "outputs": [
    {
     "data": {
      "text/plain": [
       "0"
      ]
     },
     "execution_count": 36,
     "metadata": {},
     "output_type": "execute_result"
    }
   ],
   "source": [
    "customers_emplength_replaced.filter(\"emp_length is null\").count()"
   ]
  },
  {
   "cell_type": "code",
   "execution_count": 37,
   "id": "65da1d9a",
   "metadata": {},
   "outputs": [],
   "source": [
    "customers_emplength_replaced.createOrReplaceTempView(\"customers\")"
   ]
  },
  {
   "cell_type": "code",
   "execution_count": 38,
   "id": "82e93c3d",
   "metadata": {},
   "outputs": [
    {
     "data": {
      "text/html": [
       "<table border='1'>\n",
       "<tr><th>address_state</th></tr>\n",
       "<tr><td>Helping Kenya&#x27;s D...</td></tr>\n",
       "<tr><td>223xx</td></tr>\n",
       "<tr><td>175 (total projec...</td></tr>\n",
       "<tr><td>SC</td></tr>\n",
       "<tr><td>AZ</td></tr>\n",
       "<tr><td>so Plan &quot;&quot;C&quot;&quot; is ...</td></tr>\n",
       "<tr><td>I am 56 yrs. old ...</td></tr>\n",
       "<tr><td>financially I mad...</td></tr>\n",
       "<tr><td>but no one will l...</td></tr>\n",
       "<tr><td>LA</td></tr>\n",
       "<tr><td>etc.  First</td></tr>\n",
       "<tr><td>MN</td></tr>\n",
       "<tr><td>499xx</td></tr>\n",
       "<tr><td>yet Capital One n...</td></tr>\n",
       "<tr><td>850xx</td></tr>\n",
       "<tr><td>and MBA&#x27;s are ove...</td></tr>\n",
       "<tr><td>Advocate business...</td></tr>\n",
       "<tr><td>Eliminating Credi...</td></tr>\n",
       "<tr><td>662xx</td></tr>\n",
       "<tr><td>I the credit card...</td></tr>\n",
       "</table>\n",
       "only showing top 20 rows\n"
      ],
      "text/plain": [
       "+--------------------+\n",
       "|       address_state|\n",
       "+--------------------+\n",
       "|Helping Kenya's D...|\n",
       "|               223xx|\n",
       "|175 (total projec...|\n",
       "|                  SC|\n",
       "|                  AZ|\n",
       "|so Plan \"\"C\"\" is ...|\n",
       "|I am 56 yrs. old ...|\n",
       "|financially I mad...|\n",
       "|but no one will l...|\n",
       "|                  LA|\n",
       "|         etc.  First|\n",
       "|                  MN|\n",
       "|               850xx|\n",
       "|               499xx|\n",
       "|yet Capital One n...|\n",
       "|and MBA's are ove...|\n",
       "|Advocate business...|\n",
       "|Eliminating Credi...|\n",
       "|I the credit card...|\n",
       "|               662xx|\n",
       "+--------------------+\n",
       "only showing top 20 rows"
      ]
     },
     "execution_count": 38,
     "metadata": {},
     "output_type": "execute_result"
    }
   ],
   "source": [
    "spark.sql(\"select distinct(address_state) from customers\")"
   ]
  },
  {
   "cell_type": "code",
   "execution_count": 39,
   "id": "d4f0664b",
   "metadata": {},
   "outputs": [
    {
     "data": {
      "text/html": [
       "<table border='1'>\n",
       "<tr><th>count(address_state)</th></tr>\n",
       "<tr><td>254</td></tr>\n",
       "</table>\n"
      ],
      "text/plain": [
       "+--------------------+\n",
       "|count(address_state)|\n",
       "+--------------------+\n",
       "|                 254|\n",
       "+--------------------+"
      ]
     },
     "execution_count": 39,
     "metadata": {},
     "output_type": "execute_result"
    }
   ],
   "source": [
    "spark.sql(\"select count(address_state) from customers where length(address_state)>2\")"
   ]
  },
  {
   "cell_type": "code",
   "execution_count": 40,
   "id": "97a901e3",
   "metadata": {},
   "outputs": [],
   "source": [
    "from pyspark.sql.functions import when, col, length"
   ]
  },
  {
   "cell_type": "code",
   "execution_count": 41,
   "id": "f98384a7",
   "metadata": {},
   "outputs": [],
   "source": [
    "customers_state_cleaned = customers_emplength_replaced.withColumn(\n",
    "\"address_state\",\n",
    "when(length(col('address_state'))>2,\"NA\").otherwise(col(\"address_state\"))\n",
    ")"
   ]
  },
  {
   "cell_type": "code",
   "execution_count": 42,
   "id": "96d8df4f",
   "metadata": {},
   "outputs": [
    {
     "data": {
      "text/html": [
       "<table border='1'>\n",
       "<tr><th>member_id</th><th>emp_title</th><th>emp_length</th><th>home_ownership</th><th>annual_income</th><th>address_state</th><th>address_zipcode</th><th>address_country</th><th>grade</th><th>sub_grade</th><th>verification_status</th><th>total_high_credit_limit</th><th>application_type</th><th>annual_income_joint</th><th>verification_status_joint</th><th>ingest_date</th></tr>\n",
       "<tr><td>15961ebaba399446d...</td><td>University Southe...</td><td>10</td><td>RENT</td><td>55000.0</td><td>CA</td><td>900xx</td><td>USA</td><td>C</td><td>C2</td><td>Not Verified</td><td>null</td><td>Individual</td><td>null</td><td>null</td><td>2024-01-12 04:35:...</td></tr>\n",
       "<tr><td>a1840ed66533184ea...</td><td>AliceBlue</td><td>8</td><td>OWN</td><td>125000.0</td><td>VA</td><td>232xx</td><td>USA</td><td>A</td><td>A3</td><td>Verified</td><td>null</td><td>Individual</td><td>null</td><td>null</td><td>2024-01-12 04:35:...</td></tr>\n",
       "<tr><td>3a4ed694a8d63bfb2...</td><td>Green Sustainable...</td><td>2</td><td>RENT</td><td>42000.0</td><td>IL</td><td>605xx</td><td>USA</td><td>A</td><td>A5</td><td>Not Verified</td><td>null</td><td>Individual</td><td>null</td><td>null</td><td>2024-01-12 04:35:...</td></tr>\n",
       "<tr><td>715f9c1a9c5879f8a...</td><td>null</td><td>6</td><td>OWN</td><td>30000.0</td><td>FL</td><td>322xx</td><td>USA</td><td>C</td><td>C2</td><td>Verified</td><td>null</td><td>Individual</td><td>null</td><td>null</td><td>2024-01-12 04:35:...</td></tr>\n",
       "<tr><td>decfb36a7c2a8f60f...</td><td>Front Row Sales &amp;...</td><td>9</td><td>RENT</td><td>59500.0</td><td>MO</td><td>633xx</td><td>USA</td><td>B</td><td>B5</td><td>Not Verified</td><td>null</td><td>Individual</td><td>null</td><td>null</td><td>2024-01-12 04:35:...</td></tr>\n",
       "<tr><td>6dc86c0bdeea4e490...</td><td>Brittany Manor</td><td>10</td><td>OWN</td><td>24000.0</td><td>MI</td><td>486xx</td><td>USA</td><td>C</td><td>C1</td><td>Not Verified</td><td>null</td><td>Individual</td><td>null</td><td>null</td><td>2024-01-12 04:35:...</td></tr>\n",
       "<tr><td>d27d90e980a1f305d...</td><td>Student Business ...</td><td>7</td><td>RENT</td><td>35000.0</td><td>FL</td><td>326xx</td><td>USA</td><td>B</td><td>B4</td><td>Not Verified</td><td>null</td><td>Individual</td><td>null</td><td>null</td><td>2024-01-12 04:35:...</td></tr>\n",
       "<tr><td>8f05720a96ae6b437...</td><td>Orbital Science</td><td>2</td><td>MORTGAGE</td><td>85000.0</td><td>MD</td><td>209xx</td><td>USA</td><td>D</td><td>D5</td><td>Verified</td><td>null</td><td>Individual</td><td>null</td><td>null</td><td>2024-01-12 04:35:...</td></tr>\n",
       "<tr><td>8eabab81fbfabd3ae...</td><td>Aspenn Environmen...</td><td>5</td><td>RENT</td><td>33185.0</td><td>NJ</td><td>089xx</td><td>USA</td><td>B</td><td>B3</td><td>Not Verified</td><td>null</td><td>Individual</td><td>null</td><td>null</td><td>2024-01-12 04:35:...</td></tr>\n",
       "<tr><td>92b60ace6caf96e10...</td><td>San Diego Zoo</td><td>3</td><td>RENT</td><td>13000.0</td><td>CA</td><td>921xx</td><td>USA</td><td>D</td><td>D1</td><td>Not Verified</td><td>null</td><td>Individual</td><td>null</td><td>null</td><td>2024-01-12 04:35:...</td></tr>\n",
       "<tr><td>93590b75344c38a34...</td><td>null</td><td>6</td><td>RENT</td><td>9660.0</td><td>NY</td><td>146xx</td><td>USA</td><td>B</td><td>B1</td><td>Verified</td><td>null</td><td>Individual</td><td>null</td><td>null</td><td>2024-01-12 04:35:...</td></tr>\n",
       "<tr><td>89be70a49be021ceb...</td><td>Otrada</td><td>2</td><td>RENT</td><td>21120.0</td><td>VA</td><td>220xx</td><td>USA</td><td>B</td><td>B5</td><td>Verified</td><td>null</td><td>Individual</td><td>null</td><td>null</td><td>2024-01-12 04:35:...</td></tr>\n",
       "<tr><td>72955ce759226fabf...</td><td>Xerox</td><td>2</td><td>MORTGAGE</td><td>345000.0</td><td>CT</td><td>061xx</td><td>USA</td><td>D</td><td>D3</td><td>Source Verified</td><td>null</td><td>Individual</td><td>null</td><td>null</td><td>2024-01-12 04:35:...</td></tr>\n",
       "<tr><td>d590c8e5ca0afe1d1...</td><td>Retalix</td><td>1</td><td>RENT</td><td>40000.0</td><td>TX</td><td>750xx</td><td>USA</td><td>D</td><td>D2</td><td>Verified</td><td>null</td><td>Individual</td><td>null</td><td>null</td><td>2024-01-12 04:35:...</td></tr>\n",
       "<tr><td>0233d64988b71c321...</td><td>Guardsmark</td><td>5</td><td>RENT</td><td>90000.0</td><td>MD</td><td>207xx</td><td>USA</td><td>C</td><td>C3</td><td>Source Verified</td><td>null</td><td>Individual</td><td>null</td><td>null</td><td>2024-01-12 04:35:...</td></tr>\n",
       "<tr><td>75829295cafa88ea4...</td><td>Golden Gate Meat ...</td><td>8</td><td>RENT</td><td>39000.0</td><td>CA</td><td>949xx</td><td>USA</td><td>A</td><td>A2</td><td>Verified</td><td>null</td><td>Individual</td><td>null</td><td>null</td><td>2024-01-12 04:35:...</td></tr>\n",
       "<tr><td>960a6887a80bc6575...</td><td>NUZZI PAINT CONTR...</td><td>8</td><td>RENT</td><td>50000.0</td><td>NY</td><td>103xx</td><td>USA</td><td>B</td><td>B5</td><td>Not Verified</td><td>null</td><td>Individual</td><td>null</td><td>null</td><td>2024-01-12 04:35:...</td></tr>\n",
       "<tr><td>ac5953fdbb8fa64b0...</td><td>Panhandle Eastern...</td><td>10</td><td>MORTGAGE</td><td>103000.0</td><td>IL</td><td>619xx</td><td>USA</td><td>D</td><td>D3</td><td>Verified</td><td>null</td><td>Individual</td><td>null</td><td>null</td><td>2024-01-12 04:35:...</td></tr>\n",
       "<tr><td>d96f9e87c098bed45...</td><td>collier county ho...</td><td>10</td><td>MORTGAGE</td><td>80000.0</td><td>FL</td><td>339xx</td><td>USA</td><td>C</td><td>C5</td><td>Not Verified</td><td>null</td><td>Individual</td><td>null</td><td>null</td><td>2024-01-12 04:35:...</td></tr>\n",
       "<tr><td>ad1476aeb35d7865c...</td><td>Level 3 Communica...</td><td>10</td><td>RENT</td><td>90000.0</td><td>IL</td><td>606xx</td><td>USA</td><td>C</td><td>C3</td><td>Verified</td><td>null</td><td>Individual</td><td>null</td><td>null</td><td>2024-01-12 04:35:...</td></tr>\n",
       "</table>\n",
       "only showing top 20 rows\n"
      ],
      "text/plain": [
       "+--------------------+--------------------+----------+--------------+-------------+-------------+---------------+---------------+-----+---------+-------------------+-----------------------+----------------+-------------------+-------------------------+--------------------+\n",
       "|           member_id|           emp_title|emp_length|home_ownership|annual_income|address_state|address_zipcode|address_country|grade|sub_grade|verification_status|total_high_credit_limit|application_type|annual_income_joint|verification_status_joint|         ingest_date|\n",
       "+--------------------+--------------------+----------+--------------+-------------+-------------+---------------+---------------+-----+---------+-------------------+-----------------------+----------------+-------------------+-------------------------+--------------------+\n",
       "|ef33a24fc3eb7ec74...|             manager|        10|          RENT|      65000.0|           CA|          919xx|            USA|    C|       C4|       Not Verified|                80624.0|      Individual|               null|                     null|2024-01-12 04:35:...|\n",
       "|2341256825babd5ef...|                null|         6|      MORTGAGE|      64800.0|           MI|          492xx|            USA|    E|       E1|           Verified|               252540.0|      Individual|               null|                     null|2024-01-12 04:35:...|\n",
       "|2616a3bbd3a4a8188...|             manager|        10|          RENT|      55000.0|           FL|          323xx|            USA|    C|       C4|    Source Verified|               166179.0|      Individual|               null|                     null|2024-01-12 04:35:...|\n",
       "|e59c3d6ac5a67e09d...|Int'l Cust Serv M...|        10|          RENT|      31000.0|           TN|          380xx|            USA|    E|       E5|       Not Verified|                47833.0|      Individual|               null|                     null|2024-01-12 04:35:...|\n",
       "|2aefa9b6f708721dd...|     General Foreman|        10|      MORTGAGE|      90000.0|           LA|          707xx|            USA|    A|       A5|    Source Verified|               247791.0|      Individual|               null|                     null|2024-01-12 04:35:...|\n",
       "|6cb5664affac8423d...|Sh. Records & Id ...|        10|          RENT|      41000.0|           CA|          921xx|            USA|    F|       F5|           Verified|                92609.0|      Individual|               null|                     null|2024-01-12 04:35:...|\n",
       "|263ac91a1564c44a2...|          Consultant|         1|      MORTGAGE|      52000.0|           AZ|          853xx|            USA|    A|       A1|       Not Verified|               223005.0|      Individual|               null|                     null|2024-01-12 04:35:...|\n",
       "|c8ca54ec4dc378527...|Priciple Technica...|         2|      MORTGAGE|     175000.0|           UT|          840xx|            USA|    C|       C4|    Source Verified|               362948.0|      Individual|               null|                     null|2024-01-12 04:35:...|\n",
       "|9476e0ab92a3a4bc0...|            Director|         5|      MORTGAGE|     145000.0|           NY|          109xx|            USA|    E|       E2|           Verified|               479273.0|      Individual|               null|                     null|2024-01-12 04:35:...|\n",
       "|6841e26c0d89f02ee...|                null|         6|           OWN|      55000.0|           CA|          951xx|            USA|    C|       C1|    Source Verified|                86955.0|      Individual|               null|                     null|2024-01-12 04:35:...|\n",
       "|1bd9774ee3e17a72c...|           Pre-Weigh|        10|          RENT|      76000.0|           MD|          212xx|            USA|    C|       C4|    Source Verified|                82121.0|      Individual|               null|                     null|2024-01-12 04:35:...|\n",
       "|82a805172a9424b27...| Area Vice President|         2|      MORTGAGE|     160000.0|           PA|          190xx|            USA|    C|       C3|           Verified|               836940.0|      Individual|               null|                     null|2024-01-12 04:35:...|\n",
       "|0177528a88b53c078...|           secretary|         8|      MORTGAGE|      23000.0|           FL|          324xx|            USA|    B|       B5|    Source Verified|                40266.0|      Individual|               null|                     null|2024-01-12 04:35:...|\n",
       "|712f9e45c6a2bdfc5...|                null|         6|          RENT|      43000.0|           OR|          974xx|            USA|    C|       C1|           Verified|                10900.0|      Individual|               null|                     null|2024-01-12 04:35:...|\n",
       "|793b54dcee5988c4f...|         Engineering|         1|          RENT|      57000.0|           CO|          816xx|            USA|    B|       B5|    Source Verified|                64717.0|      Individual|               null|                     null|2024-01-12 04:35:...|\n",
       "|5b2ca79c901e63387...|               Staff|         1|          RENT|      51000.0|           VA|          232xx|            USA|    C|       C1|    Source Verified|                62168.0|      Individual|               null|                     null|2024-01-12 04:35:...|\n",
       "|4353257703d468eb5...|             manager|         8|      MORTGAGE|      55000.0|           TX|          782xx|            USA|    C|       C5|    Source Verified|               189489.0|      Individual|               null|                     null|2024-01-12 04:35:...|\n",
       "|6ec31060fe39d9368...|             Captain|        10|          RENT|     122000.0|           LA|          700xx|            USA|    C|       C1|    Source Verified|                80077.0|      Individual|               null|                     null|2024-01-12 04:35:...|\n",
       "|ba95c6cb4471df655...|           Carpenter|        10|      MORTGAGE|      93000.0|           NY|          133xx|            USA|    C|       C1|       Not Verified|               248986.0|      Individual|               null|                     null|2024-01-12 04:35:...|\n",
       "|e8b13b07eb7e8ff0b...|           Warehouse|        10|          RENT|      65000.0|           MN|          550xx|            USA|    D|       D3|           Verified|                74684.0|      Individual|               null|                     null|2024-01-12 04:35:...|\n",
       "+--------------------+--------------------+----------+--------------+-------------+-------------+---------------+---------------+-----+---------+-------------------+-----------------------+----------------+-------------------+-------------------------+--------------------+\n",
       "only showing top 20 rows"
      ]
     },
     "execution_count": 42,
     "metadata": {},
     "output_type": "execute_result"
    }
   ],
   "source": [
    "customers_state_cleaned"
   ]
  },
  {
   "cell_type": "code",
   "execution_count": 43,
   "id": "fba39019",
   "metadata": {},
   "outputs": [
    {
     "data": {
      "text/html": [
       "<table border='1'>\n",
       "<tr><th>address_state</th></tr>\n",
       "<tr><td>SC</td></tr>\n",
       "<tr><td>AZ</td></tr>\n",
       "<tr><td>LA</td></tr>\n",
       "<tr><td>MN</td></tr>\n",
       "<tr><td>NJ</td></tr>\n",
       "<tr><td>DC</td></tr>\n",
       "<tr><td>OR</td></tr>\n",
       "<tr><td>NA</td></tr>\n",
       "<tr><td>VA</td></tr>\n",
       "<tr><td>null</td></tr>\n",
       "<tr><td>RI</td></tr>\n",
       "<tr><td>KY</td></tr>\n",
       "<tr><td>WY</td></tr>\n",
       "<tr><td>NH</td></tr>\n",
       "<tr><td>MI</td></tr>\n",
       "<tr><td>NV</td></tr>\n",
       "<tr><td>WI</td></tr>\n",
       "<tr><td>ID</td></tr>\n",
       "<tr><td>CA</td></tr>\n",
       "<tr><td>CT</td></tr>\n",
       "</table>\n",
       "only showing top 20 rows\n"
      ],
      "text/plain": [
       "+-------------+\n",
       "|address_state|\n",
       "+-------------+\n",
       "|           AZ|\n",
       "|           SC|\n",
       "|           LA|\n",
       "|           MN|\n",
       "|           NJ|\n",
       "|           DC|\n",
       "|           OR|\n",
       "|           NA|\n",
       "|           VA|\n",
       "|         null|\n",
       "|           RI|\n",
       "|           KY|\n",
       "|           WY|\n",
       "|           NH|\n",
       "|           MI|\n",
       "|           NV|\n",
       "|           WI|\n",
       "|           ID|\n",
       "|           CA|\n",
       "|           NE|\n",
       "+-------------+\n",
       "only showing top 20 rows"
      ]
     },
     "execution_count": 43,
     "metadata": {},
     "output_type": "execute_result"
    }
   ],
   "source": [
    "customers_state_cleaned.select(\"address_state\").distinct()"
   ]
  },
  {
   "cell_type": "code",
   "execution_count": 45,
   "id": "415e3e6c",
   "metadata": {},
   "outputs": [],
   "source": [
    "customers_state_cleaned.write \\\n",
    ".format(\"parquet\") \\\n",
    ".mode(\"overwrite\") \\\n",
    ".option(\"path\",\"public/trendytech/datasets/lendingclubproject/cleaned/customers_parquet\") \\\n",
    ".save()"
   ]
  },
  {
   "cell_type": "code",
   "execution_count": 46,
   "id": "06f9d904",
   "metadata": {},
   "outputs": [],
   "source": [
    "customers_state_cleaned.write \\\n",
    ".option(\"header\",True) \\\n",
    ".format(\"csv\") \\\n",
    ".mode(\"overwrite\") \\\n",
    ".option(\"path\",\"public/trendytech/datasets/lendingclubproject/cleaned/customers_csv\") \\\n",
    ".save()"
   ]
  },
  {
   "cell_type": "code",
   "execution_count": null,
   "id": "a4a43aaa",
   "metadata": {},
   "outputs": [],
   "source": []
  },
  {
   "cell_type": "code",
   "execution_count": null,
   "id": "b61e73bf",
   "metadata": {},
   "outputs": [],
   "source": []
  }
 ],
 "metadata": {
  "kernelspec": {
   "display_name": "Pyspark 3",
   "language": "python",
   "name": "pyspark3"
  },
  "language_info": {
   "codemirror_mode": {
    "name": "ipython",
    "version": 3
   },
   "file_extension": ".py",
   "mimetype": "text/x-python",
   "name": "python",
   "nbconvert_exporter": "python",
   "pygments_lexer": "ipython3",
   "version": "3.6.12"
  }
 },
 "nbformat": 4,
 "nbformat_minor": 5
}
