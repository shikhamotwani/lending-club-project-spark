{
 "cells": [
  {
   "cell_type": "code",
   "execution_count": 1,
   "id": "2af4dd6b",
   "metadata": {},
   "outputs": [],
   "source": [
    "from pyspark.sql import SparkSession\n",
    "import getpass \n",
    "username = getpass.getuser()\n",
    "spark = SparkSession. \\\n",
    "     builder. \\\n",
    "     config('spark.ui.port', '0'). \\\n",
    "     config(\"spark.sql.warehouse.dir\", f\"/user/itv009198/warehouse\"). \\\n",
    "     config('spark.shuffle.useOldFetchProtocol', 'true'). \\\n",
    "     enableHiveSupport(). \\\n",
    "     master('yarn'). \\\n",
    "     getOrCreate()"
   ]
  },
  {
   "cell_type": "code",
   "execution_count": 2,
   "id": "16bd5533",
   "metadata": {},
   "outputs": [],
   "source": [
    "spark.conf.set(\"spark.sql.unacceptable_rated_pts\",0)\n",
    "spark.conf.set(\"spark.sql.very_bad_rated_pts\",100)\n",
    "spark.conf.set(\"spark.sql.bad_rated_pts\",250)\n",
    "spark.conf.set(\"spark.sql.good_rated_pts\",500)\n",
    "spark.conf.set(\"spark.sql.very_good_rated_pts\",650)\n",
    "spark.conf.set(\"spark.sql.excellent_rated_pts\",800)\n",
    "  "
   ]
  },
  {
   "cell_type": "code",
   "execution_count": 3,
   "id": "1f108410",
   "metadata": {},
   "outputs": [],
   "source": [
    "spark.conf.set(\"spark.sql.unacceptable_grade_pts\",750)\n",
    "spark.conf.set(\"spark.sql.very_bad_grade_pts\",1000)\n",
    "spark.conf.set(\"spark.sql.bad_grade_pts\",1500)\n",
    "spark.conf.set(\"spark.sql.good_grade_pts\",2000)\n",
    "spark.conf.set(\"spark.sql.very_good_grade_pts\",2500)"
   ]
  },
  {
   "cell_type": "code",
   "execution_count": 4,
   "id": "c45f2a90",
   "metadata": {},
   "outputs": [],
   "source": [
    "bad_customer_data_final_df = spark.read \\\n",
    ".format(\"csv\") \\\n",
    ".option(\"header\", True) \\\n",
    ".option(\"inferSchema\", True) \\\n",
    ".load(\"/public/trendytech/lendingclubproject/bad/bad_customer_data_final\")"
   ]
  },
  {
   "cell_type": "code",
   "execution_count": 5,
   "id": "c6aceb92",
   "metadata": {},
   "outputs": [],
   "source": [
    "bad_customer_data_final_df.createOrReplaceTempView(\"bad_data_customer\")"
   ]
  },
  {
   "cell_type": "code",
   "execution_count": 6,
   "id": "65e5f3d6",
   "metadata": {},
   "outputs": [],
   "source": [
    "ph_df = spark.sql(\"select c.member_id, \\\n",
    " case \\\n",
    "when p.last_payment_amount < (c.monthly_installment * 0.5) then ${spark.sql.very_bad_rated_pts} \\\n",
    "when p.last_payment_amount >= (c.monthly_installment * 0.5) and p.last_payment_amount < c.monthly_installment then ${spark.sql.very_bad_rated_pts} \\\n",
    "when (p.last_payment_amount = (c.monthly_installment)) then ${spark.sql.good_rated_pts} \\\n",
    "when p.last_payment_amount > (c.monthly_installment) and p.last_payment_amount <= (c.monthly_installment * 1.50) then ${spark.sql.very_good_rated_pts} \\\n",
    "when p.last_payment_amount > (c.monthly_installment * 1.50) then ${spark.sql.excellent_rated_pts} \\\n",
    "else ${spark.sql.unacceptable_rated_pts} \\\n",
    "end as last_payment_pts, \\\n",
    "case \\\n",
    "when p.total_payment_received >= (c.funded_amount * 0.50) then ${spark.sql.very_good_rated_pts} \\\n",
    "when p.total_payment_received < (c.funded_amount * 0.50) and p.total_payment_received > 0 then ${spark.sql.good_rated_pts} \\\n",
    "when p.total_payment_received = 0 or (p.total_payment_received) is null then ${spark.sql.unacceptable_rated_pts} \\\n",
    "end as total_payment_pts \\\n",
    "from itv009198_lending_club.loans_repayments p \\\n",
    "inner join itv009198_lending_club.loans c on c.loan_id = p.loan_id where member_id NOT IN (select member_id from bad_data_customer)\")"
   ]
  },
  {
   "cell_type": "code",
   "execution_count": 7,
   "id": "7a72094a",
   "metadata": {},
   "outputs": [],
   "source": [
    "ph_df.createOrReplaceTempView(\"ph_pts\")"
   ]
  },
  {
   "cell_type": "code",
   "execution_count": 8,
   "id": "54227471",
   "metadata": {},
   "outputs": [
    {
     "data": {
      "text/html": [
       "<table border='1'>\n",
       "<tr><th>member_id</th><th>last_payment_pts</th><th>total_payment_pts</th></tr>\n",
       "<tr><td>dcec9334e70f1cc95...</td><td>800</td><td>650</td></tr>\n",
       "<tr><td>fc58ca61f51f9dcac...</td><td>500</td><td>650</td></tr>\n",
       "<tr><td>2fb62a6ca51063b11...</td><td>500</td><td>650</td></tr>\n",
       "<tr><td>488268a5531951622...</td><td>800</td><td>650</td></tr>\n",
       "<tr><td>ade6026208e48f5f9...</td><td>500</td><td>650</td></tr>\n",
       "<tr><td>7c8b0ca6acddfaeb1...</td><td>800</td><td>650</td></tr>\n",
       "<tr><td>a707b7fe7c38bad65...</td><td>800</td><td>650</td></tr>\n",
       "<tr><td>1df639cddea30c288...</td><td>800</td><td>650</td></tr>\n",
       "<tr><td>22d67005e12d8726d...</td><td>500</td><td>650</td></tr>\n",
       "<tr><td>009cf312bd46551b4...</td><td>500</td><td>650</td></tr>\n",
       "<tr><td>2d995d383622fa80e...</td><td>500</td><td>650</td></tr>\n",
       "<tr><td>88b97663d2562f239...</td><td>500</td><td>650</td></tr>\n",
       "<tr><td>097d871ba6f21ee37...</td><td>500</td><td>650</td></tr>\n",
       "<tr><td>82e698108e1b8b88a...</td><td>500</td><td>650</td></tr>\n",
       "<tr><td>9e89f004a01479234...</td><td>500</td><td>650</td></tr>\n",
       "<tr><td>28ea534e78570f8d1...</td><td>800</td><td>650</td></tr>\n",
       "<tr><td>27a6888d24e06f6e2...</td><td>500</td><td>650</td></tr>\n",
       "<tr><td>c0d144ae7ab17c793...</td><td>500</td><td>500</td></tr>\n",
       "<tr><td>56d1102515f7d6a32...</td><td>800</td><td>650</td></tr>\n",
       "<tr><td>ba484052baf1e604c...</td><td>800</td><td>650</td></tr>\n",
       "</table>\n",
       "only showing top 20 rows\n"
      ],
      "text/plain": [
       "+--------------------+----------------+-----------------+\n",
       "|           member_id|last_payment_pts|total_payment_pts|\n",
       "+--------------------+----------------+-----------------+\n",
       "|dcec9334e70f1cc95...|             800|              650|\n",
       "|fc58ca61f51f9dcac...|             500|              650|\n",
       "|2fb62a6ca51063b11...|             500|              650|\n",
       "|488268a5531951622...|             800|              650|\n",
       "|ade6026208e48f5f9...|             500|              650|\n",
       "|7c8b0ca6acddfaeb1...|             800|              650|\n",
       "|a707b7fe7c38bad65...|             800|              650|\n",
       "|1df639cddea30c288...|             800|              650|\n",
       "|22d67005e12d8726d...|             500|              650|\n",
       "|009cf312bd46551b4...|             500|              650|\n",
       "|2d995d383622fa80e...|             500|              650|\n",
       "|88b97663d2562f239...|             500|              650|\n",
       "|097d871ba6f21ee37...|             500|              650|\n",
       "|82e698108e1b8b88a...|             500|              650|\n",
       "|9e89f004a01479234...|             500|              650|\n",
       "|28ea534e78570f8d1...|             800|              650|\n",
       "|27a6888d24e06f6e2...|             500|              650|\n",
       "|c0d144ae7ab17c793...|             500|              500|\n",
       "|56d1102515f7d6a32...|             800|              650|\n",
       "|ba484052baf1e604c...|             800|              650|\n",
       "+--------------------+----------------+-----------------+\n",
       "only showing top 20 rows"
      ]
     },
     "execution_count": 8,
     "metadata": {},
     "output_type": "execute_result"
    }
   ],
   "source": [
    "spark.sql(\"select * from ph_pts\")"
   ]
  },
  {
   "cell_type": "code",
   "execution_count": 9,
   "id": "0827e51e",
   "metadata": {},
   "outputs": [],
   "source": [
    "ldh_ph_df = spark.sql(\n",
    "\"select p.*, \\\n",
    "CASE \\\n",
    "WHEN d.delinq_2yrs = 0 THEN ${spark.sql.excellent_rated_pts} \\\n",
    "WHEN d.delinq_2yrs BETWEEN 1 AND 2 THEN ${spark.sql.bad_rated_pts} \\\n",
    "WHEN d.delinq_2yrs BETWEEN 3 AND 5 THEN ${spark.sql.very_bad_rated_pts} \\\n",
    "WHEN d.delinq_2yrs > 5 OR d.delinq_2yrs IS NULL THEN ${spark.sql.unacceptable_grade_pts} \\\n",
    "END AS delinq_pts, \\\n",
    "CASE \\\n",
    "WHEN l.pub_rec = 0 THEN ${spark.sql.excellent_rated_pts} \\\n",
    "WHEN l.pub_rec BETWEEN 1 AND 2 THEN ${spark.sql.bad_rated_pts} \\\n",
    "WHEN l.pub_rec BETWEEN 3 AND 5 THEN ${spark.sql.very_bad_rated_pts} \\\n",
    "WHEN l.pub_rec > 5 OR l.pub_rec IS NULL THEN ${spark.sql.very_bad_rated_pts} \\\n",
    "END AS public_records_pts, \\\n",
    "CASE \\\n",
    "WHEN l.pub_rec_bankruptcies = 0 THEN ${spark.sql.excellent_rated_pts} \\\n",
    "WHEN l.pub_rec_bankruptcies BETWEEN 1 AND 2 THEN ${spark.sql.bad_rated_pts} \\\n",
    "WHEN l.pub_rec_bankruptcies BETWEEN 3 AND 5 THEN ${spark.sql.very_bad_rated_pts} \\\n",
    "WHEN l.pub_rec_bankruptcies > 5 OR l.pub_rec_bankruptcies IS NULL THEN ${spark.sql.very_bad_rated_pts} \\\n",
    "END as public_bankruptcies_pts, \\\n",
    "CASE \\\n",
    "WHEN l.inq_last_6mths = 0 THEN ${spark.sql.excellent_rated_pts} \\\n",
    "WHEN l.inq_last_6mths BETWEEN 1 AND 2 THEN ${spark.sql.bad_rated_pts} \\\n",
    "WHEN l.inq_last_6mths BETWEEN 3 AND 5 THEN ${spark.sql.very_bad_rated_pts} \\\n",
    "WHEN l.inq_last_6mths > 5 OR l.inq_last_6mths IS NULL THEN ${spark.sql.unacceptable_rated_pts} \\\n",
    "END AS enq_pts \\\n",
    "FROM itv009198_lending_club.loans_defaulters_detail_records_enq_new l \\\n",
    "INNER JOIN itv009198_lending_club.loans_defaulters_delinq_new d ON d.member_id = l.member_id  \\\n",
    "INNER JOIN ph_pts p ON p.member_id = l.member_id where l.member_id NOT IN (select member_id from bad_data_customer)\")"
   ]
  },
  {
   "cell_type": "code",
   "execution_count": 10,
   "id": "4ca144b9",
   "metadata": {},
   "outputs": [],
   "source": [
    "ldh_ph_df.createOrReplaceTempView(\"ldh_ph_pts\")"
   ]
  },
  {
   "cell_type": "code",
   "execution_count": 11,
   "id": "9850de47",
   "metadata": {},
   "outputs": [
    {
     "data": {
      "text/html": [
       "<table border='1'>\n",
       "<tr><th>member_id</th><th>last_payment_pts</th><th>total_payment_pts</th><th>delinq_pts</th><th>public_records_pts</th><th>public_bankruptcies_pts</th><th>enq_pts</th></tr>\n",
       "<tr><td>000c8875b71a6b47c...</td><td>800</td><td>650</td><td>250</td><td>800</td><td>800</td><td>800</td></tr>\n",
       "<tr><td>003769d7f54c7859e...</td><td>500</td><td>500</td><td>250</td><td>800</td><td>800</td><td>800</td></tr>\n",
       "<tr><td>003e1e6cbd2920bbb...</td><td>500</td><td>650</td><td>250</td><td>250</td><td>250</td><td>800</td></tr>\n",
       "<tr><td>004017b21bd4d6271...</td><td>100</td><td>650</td><td>750</td><td>800</td><td>800</td><td>800</td></tr>\n",
       "<tr><td>005b4c3db3fce07dc...</td><td>500</td><td>650</td><td>250</td><td>250</td><td>800</td><td>250</td></tr>\n",
       "<tr><td>00710707c563c2119...</td><td>800</td><td>650</td><td>250</td><td>800</td><td>800</td><td>800</td></tr>\n",
       "<tr><td>007da79904f69970d...</td><td>800</td><td>650</td><td>250</td><td>800</td><td>800</td><td>800</td></tr>\n",
       "<tr><td>00f435a80d0440ece...</td><td>500</td><td>500</td><td>100</td><td>800</td><td>800</td><td>800</td></tr>\n",
       "<tr><td>00fc2ae3ffb1213e4...</td><td>650</td><td>650</td><td>250</td><td>800</td><td>800</td><td>800</td></tr>\n",
       "<tr><td>00fc8144cb210ba8c...</td><td>500</td><td>650</td><td>250</td><td>250</td><td>250</td><td>800</td></tr>\n",
       "<tr><td>01121d7f3f6f27495...</td><td>800</td><td>650</td><td>250</td><td>800</td><td>800</td><td>800</td></tr>\n",
       "<tr><td>0112e15adaf0c0029...</td><td>500</td><td>650</td><td>250</td><td>800</td><td>800</td><td>800</td></tr>\n",
       "<tr><td>017ce564dc0d6f975...</td><td>500</td><td>500</td><td>250</td><td>800</td><td>800</td><td>250</td></tr>\n",
       "<tr><td>017d1fd3d6169ee29...</td><td>800</td><td>500</td><td>800</td><td>250</td><td>250</td><td>250</td></tr>\n",
       "<tr><td>018a82c47453bf02d...</td><td>100</td><td>650</td><td>800</td><td>250</td><td>800</td><td>800</td></tr>\n",
       "<tr><td>018b0f369c2d63913...</td><td>100</td><td>650</td><td>800</td><td>800</td><td>800</td><td>100</td></tr>\n",
       "<tr><td>01b39bf7187932c4a...</td><td>800</td><td>650</td><td>250</td><td>250</td><td>800</td><td>800</td></tr>\n",
       "<tr><td>01d0686210978f0a7...</td><td>500</td><td>500</td><td>750</td><td>800</td><td>800</td><td>800</td></tr>\n",
       "<tr><td>01d0c48835e969a01...</td><td>500</td><td>500</td><td>800</td><td>800</td><td>800</td><td>250</td></tr>\n",
       "<tr><td>01ef63fce64f41ef9...</td><td>800</td><td>650</td><td>250</td><td>800</td><td>800</td><td>800</td></tr>\n",
       "</table>\n",
       "only showing top 20 rows\n"
      ],
      "text/plain": [
       "+--------------------+----------------+-----------------+----------+------------------+-----------------------+-------+\n",
       "|           member_id|last_payment_pts|total_payment_pts|delinq_pts|public_records_pts|public_bankruptcies_pts|enq_pts|\n",
       "+--------------------+----------------+-----------------+----------+------------------+-----------------------+-------+\n",
       "|000c8875b71a6b47c...|             800|              650|       250|               800|                    800|    800|\n",
       "|003769d7f54c7859e...|             500|              500|       250|               800|                    800|    800|\n",
       "|003e1e6cbd2920bbb...|             500|              650|       250|               250|                    250|    800|\n",
       "|004017b21bd4d6271...|             100|              650|       750|               800|                    800|    800|\n",
       "|005b4c3db3fce07dc...|             500|              650|       250|               250|                    800|    250|\n",
       "|00710707c563c2119...|             800|              650|       250|               800|                    800|    800|\n",
       "|007da79904f69970d...|             800|              650|       250|               800|                    800|    800|\n",
       "|00f435a80d0440ece...|             500|              500|       100|               800|                    800|    800|\n",
       "|00fc2ae3ffb1213e4...|             650|              650|       250|               800|                    800|    800|\n",
       "|00fc8144cb210ba8c...|             500|              650|       250|               250|                    250|    800|\n",
       "|01121d7f3f6f27495...|             800|              650|       250|               800|                    800|    800|\n",
       "|0112e15adaf0c0029...|             500|              650|       250|               800|                    800|    800|\n",
       "|017ce564dc0d6f975...|             500|              500|       250|               800|                    800|    250|\n",
       "|017d1fd3d6169ee29...|             800|              500|       800|               250|                    250|    250|\n",
       "|018a82c47453bf02d...|             100|              650|       800|               250|                    800|    800|\n",
       "|018b0f369c2d63913...|             100|              650|       800|               800|                    800|    100|\n",
       "|01b39bf7187932c4a...|             800|              650|       250|               250|                    800|    800|\n",
       "|01d0686210978f0a7...|             500|              500|       750|               800|                    800|    800|\n",
       "|01d0c48835e969a01...|             500|              500|       800|               800|                    800|    250|\n",
       "|01ef63fce64f41ef9...|             800|              650|       250|               800|                    800|    800|\n",
       "+--------------------+----------------+-----------------+----------+------------------+-----------------------+-------+\n",
       "only showing top 20 rows"
      ]
     },
     "execution_count": 11,
     "metadata": {},
     "output_type": "execute_result"
    }
   ],
   "source": [
    "spark.sql(\"select * from ldh_ph_pts\")"
   ]
  },
  {
   "cell_type": "code",
   "execution_count": 12,
   "id": "8ee49525",
   "metadata": {},
   "outputs": [],
   "source": [
    "fh_ldh_ph_df = spark.sql(\"SELECT ldef.*, \\\n",
    "CASE \\\n",
    "   WHEN LOWER(l.loan_status) LIKE '%fully paid%' THEN ${spark.sql.excellent_rated_pts} \\\n",
    "   WHEN LOWER(l.loan_status) LIKE '%current%' THEN ${spark.sql.good_rated_pts} \\\n",
    "   WHEN LOWER(l.loan_status) LIKE '%in grace period%' THEN ${spark.sql.bad_rated_pts} \\\n",
    "   WHEN LOWER(l.loan_status) LIKE '%late (16-30 days)%' OR LOWER(l.loan_status) LIKE '%late (31-120 days)%' THEN ${spark.sql.very_bad_rated_pts} \\\n",
    "   WHEN LOWER(l.loan_status) LIKE '%charged off%' THEN ${spark.sql.unacceptable_rated_pts} \\\n",
    "   else ${spark.sql.unacceptable_rated_pts} \\\n",
    "  END AS loan_status_pts, \\\n",
    "  CASE \\\n",
    "   WHEN LOWER(a.home_ownership) LIKE '%own' THEN ${spark.sql.excellent_rated_pts} \\\n",
    "   WHEN LOWER(a.home_ownership) LIKE '%rent' THEN ${spark.sql.good_rated_pts} \\\n",
    "   WHEN LOWER(a.home_ownership) LIKE '%mortgage' THEN ${spark.sql.bad_rated_pts} \\\n",
    "   WHEN LOWER(a.home_ownership) LIKE '%any' OR LOWER(a.home_ownership) IS NULL THEN ${spark.sql.very_bad_rated_pts} \\\n",
    "  END AS home_pts, \\\n",
    "  CASE \\\n",
    "   WHEN l.funded_amount <= (a.total_high_credit_limit * 0.10) THEN ${spark.sql.excellent_rated_pts} \\\n",
    "   WHEN l.funded_amount > (a.total_high_credit_limit * 0.10) AND l.funded_amount <= (a.total_high_credit_limit * 0.20) THEN ${spark.sql.very_good_rated_pts} \\\n",
    "   WHEN l.funded_amount > (a.total_high_credit_limit * 0.20) AND l.funded_amount <= (a.total_high_credit_limit * 0.30) THEN ${spark.sql.good_rated_pts} \\\n",
    "   WHEN l.funded_amount > (a.total_high_credit_limit * 0.30) AND l.funded_amount <= (a.total_high_credit_limit * 0.50) THEN ${spark.sql.bad_rated_pts} \\\n",
    "   WHEN l.funded_amount > (a.total_high_credit_limit * 0.50) AND l.funded_amount <= (a.total_high_credit_limit * 0.70) THEN ${spark.sql.very_bad_rated_pts} \\\n",
    "   WHEN l.funded_amount > (a.total_high_credit_limit * 0.70) THEN ${spark.sql.unacceptable_rated_pts} \\\n",
    "   else ${spark.sql.unacceptable_rated_pts} \\\n",
    "   END AS credit_limit_pts, \\\n",
    "   CASE \\\n",
    "   WHEN (a.grade) = 'A' and (a.sub_grade)='A1' THEN ${spark.sql.excellent_rated_pts} \\\n",
    "   WHEN (a.grade) = 'A' and (a.sub_grade)='A2' THEN (${spark.sql.excellent_rated_pts} * 0.95) \\\n",
    "   WHEN (a.grade) = 'A' and (a.sub_grade)='A3' THEN (${spark.sql.excellent_rated_pts} * 0.90) \\\n",
    "   WHEN (a.grade) = 'A' and (a.sub_grade)='A4' THEN (${spark.sql.excellent_rated_pts} * 0.85) \\\n",
    "   WHEN (a.grade) = 'A' and (a.sub_grade)='A5' THEN (${spark.sql.excellent_rated_pts} * 0.80) \\\n",
    "   WHEN (a.grade) = 'B' and (a.sub_grade)='B1' THEN (${spark.sql.very_good_rated_pts}) \\\n",
    "   WHEN (a.grade) = 'B' and (a.sub_grade)='B2' THEN (${spark.sql.very_good_rated_pts} * 0.95) \\\n",
    "   WHEN (a.grade) = 'B' and (a.sub_grade)='B3' THEN (${spark.sql.very_good_rated_pts} * 0.90) \\\n",
    "   WHEN (a.grade) = 'B' and (a.sub_grade)='B4' THEN (${spark.sql.very_good_rated_pts} * 0.85) \\\n",
    "   WHEN (a.grade) = 'B' and (a.sub_grade)='B5' THEN (${spark.sql.very_good_rated_pts} * 0.80) \\\n",
    "   WHEN (a.grade) = 'C' and (a.sub_grade)='C1' THEN (${spark.sql.good_rated_pts}) \\\n",
    "   WHEN (a.grade) = 'C' and (a.sub_grade)='C2' THEN (${spark.sql.good_rated_pts} * 0.95) \\\n",
    "   WHEN (a.grade) = 'C' and (a.sub_grade)='C3' THEN (${spark.sql.good_rated_pts} * 0.90) \\\n",
    "   WHEN (a.grade) = 'C' and (a.sub_grade)='C4' THEN (${spark.sql.good_rated_pts} * 0.85) \\\n",
    "   WHEN (a.grade) = 'C' and (a.sub_grade)='C5' THEN (${spark.sql.good_rated_pts} * 0.80) \\\n",
    "   WHEN (a.grade) = 'D' and (a.sub_grade)='D1' THEN (${spark.sql.bad_rated_pts}) \\\n",
    "   WHEN (a.grade) = 'D' and (a.sub_grade)='D2' THEN (${spark.sql.bad_rated_pts} * 0.95) \\\n",
    "   WHEN (a.grade) = 'D' and (a.sub_grade)='D3' THEN (${spark.sql.bad_rated_pts} * 0.90) \\\n",
    "   WHEN (a.grade) = 'D' and (a.sub_grade)='D4' THEN (${spark.sql.bad_rated_pts} * 0.85) \\\n",
    "   WHEN (a.grade) = 'D' and (a.sub_grade)='D5' THEN (${spark.sql.bad_rated_pts} * 0.80) \\\n",
    "   WHEN (a.grade) = 'E' and (a.sub_grade)='E1' THEN (${spark.sql.very_bad_rated_pts}) \\\n",
    "   WHEN (a.grade) = 'E' and (a.sub_grade)='E2' THEN (${spark.sql.very_bad_rated_pts} * 0.95) \\\n",
    "   WHEN (a.grade) = 'E' and (a.sub_grade)='E3' THEN (${spark.sql.very_bad_rated_pts} * 0.90) \\\n",
    "   WHEN (a.grade) = 'E' and (a.sub_grade)='E4' THEN (${spark.sql.very_bad_rated_pts} * 0.85) \\\n",
    "   WHEN (a.grade) = 'E' and (a.sub_grade)='E5' THEN (${spark.sql.very_bad_rated_pts} * 0.80) \\\n",
    "   WHEN (a.grade) in ('F', 'G') THEN (${spark.sql.unacceptable_rated_pts}) \\\n",
    "  END AS grade_pts \\\n",
    "FROM ldh_ph_pts ldef \\\n",
    "INNER JOIN itv009198_lending_club.loans l ON ldef.member_id = l.member_id \\\n",
    "INNER JOIN itv009198_lending_club.customers_new a ON a.member_id = ldef.member_id where ldef.member_id NOT IN (select member_id from bad_data_customer)\") "
   ]
  },
  {
   "cell_type": "code",
   "execution_count": 13,
   "id": "6d03f0bc",
   "metadata": {},
   "outputs": [],
   "source": [
    "fh_ldh_ph_df.createOrReplaceTempView(\"fh_ldh_ph_pts\")"
   ]
  },
  {
   "cell_type": "code",
   "execution_count": 14,
   "id": "5e7e6c18",
   "metadata": {},
   "outputs": [
    {
     "data": {
      "text/html": [
       "<table border='1'>\n",
       "<tr><th>member_id</th><th>last_payment_pts</th><th>total_payment_pts</th><th>delinq_pts</th><th>public_records_pts</th><th>public_bankruptcies_pts</th><th>enq_pts</th><th>loan_status_pts</th><th>home_pts</th><th>credit_limit_pts</th><th>grade_pts</th></tr>\n",
       "<tr><td>000c8875b71a6b47c...</td><td>800</td><td>650</td><td>250</td><td>800</td><td>800</td><td>800</td><td>800</td><td>250</td><td>800</td><td>680.00</td></tr>\n",
       "<tr><td>003769d7f54c7859e...</td><td>500</td><td>500</td><td>250</td><td>800</td><td>800</td><td>800</td><td>0</td><td>250</td><td>800</td><td>100.00</td></tr>\n",
       "<tr><td>003e1e6cbd2920bbb...</td><td>500</td><td>650</td><td>250</td><td>250</td><td>250</td><td>800</td><td>500</td><td>250</td><td>800</td><td>640.00</td></tr>\n",
       "<tr><td>004017b21bd4d6271...</td><td>100</td><td>650</td><td>750</td><td>800</td><td>800</td><td>800</td><td>800</td><td>250</td><td>800</td><td>500.00</td></tr>\n",
       "<tr><td>005b4c3db3fce07dc...</td><td>500</td><td>650</td><td>250</td><td>250</td><td>800</td><td>250</td><td>500</td><td>250</td><td>500</td><td>520.00</td></tr>\n",
       "<tr><td>00710707c563c2119...</td><td>800</td><td>650</td><td>250</td><td>800</td><td>800</td><td>800</td><td>800</td><td>250</td><td>800</td><td>520.00</td></tr>\n",
       "<tr><td>007da79904f69970d...</td><td>800</td><td>650</td><td>250</td><td>800</td><td>800</td><td>800</td><td>800</td><td>500</td><td>250</td><td>800.00</td></tr>\n",
       "<tr><td>00f435a80d0440ece...</td><td>500</td><td>500</td><td>100</td><td>800</td><td>800</td><td>800</td><td>500</td><td>250</td><td>800</td><td>475.00</td></tr>\n",
       "<tr><td>00fc2ae3ffb1213e4...</td><td>650</td><td>650</td><td>250</td><td>800</td><td>800</td><td>800</td><td>800</td><td>250</td><td>650</td><td>450.00</td></tr>\n",
       "<tr><td>00fc8144cb210ba8c...</td><td>500</td><td>650</td><td>250</td><td>250</td><td>250</td><td>800</td><td>500</td><td>250</td><td>800</td><td>500.00</td></tr>\n",
       "<tr><td>01121d7f3f6f27495...</td><td>800</td><td>650</td><td>250</td><td>800</td><td>800</td><td>800</td><td>800</td><td>250</td><td>800</td><td>617.50</td></tr>\n",
       "<tr><td>0112e15adaf0c0029...</td><td>500</td><td>650</td><td>250</td><td>800</td><td>800</td><td>800</td><td>500</td><td>250</td><td>500</td><td>450.00</td></tr>\n",
       "<tr><td>017ce564dc0d6f975...</td><td>500</td><td>500</td><td>250</td><td>800</td><td>800</td><td>250</td><td>0</td><td>250</td><td>800</td><td>640.00</td></tr>\n",
       "<tr><td>017d1fd3d6169ee29...</td><td>800</td><td>500</td><td>800</td><td>250</td><td>250</td><td>250</td><td>500</td><td>250</td><td>650</td><td>585.00</td></tr>\n",
       "<tr><td>018a82c47453bf02d...</td><td>100</td><td>650</td><td>800</td><td>250</td><td>800</td><td>800</td><td>800</td><td>500</td><td>650</td><td>760.00</td></tr>\n",
       "<tr><td>018b0f369c2d63913...</td><td>100</td><td>650</td><td>800</td><td>800</td><td>800</td><td>100</td><td>800</td><td>250</td><td>800</td><td>250.00</td></tr>\n",
       "<tr><td>01b39bf7187932c4a...</td><td>800</td><td>650</td><td>250</td><td>250</td><td>800</td><td>800</td><td>800</td><td>500</td><td>800</td><td>585.00</td></tr>\n",
       "<tr><td>01d0686210978f0a7...</td><td>500</td><td>500</td><td>750</td><td>800</td><td>800</td><td>800</td><td>0</td><td>250</td><td>800</td><td>720.00</td></tr>\n",
       "<tr><td>01d0c48835e969a01...</td><td>500</td><td>500</td><td>800</td><td>800</td><td>800</td><td>250</td><td>0</td><td>500</td><td>250</td><td>0.00</td></tr>\n",
       "<tr><td>01ef63fce64f41ef9...</td><td>800</td><td>650</td><td>250</td><td>800</td><td>800</td><td>800</td><td>800</td><td>500</td><td>650</td><td>552.50</td></tr>\n",
       "</table>\n",
       "only showing top 20 rows\n"
      ],
      "text/plain": [
       "+--------------------+----------------+-----------------+----------+------------------+-----------------------+-------+---------------+--------+----------------+---------+\n",
       "|           member_id|last_payment_pts|total_payment_pts|delinq_pts|public_records_pts|public_bankruptcies_pts|enq_pts|loan_status_pts|home_pts|credit_limit_pts|grade_pts|\n",
       "+--------------------+----------------+-----------------+----------+------------------+-----------------------+-------+---------------+--------+----------------+---------+\n",
       "|000c8875b71a6b47c...|             800|              650|       250|               800|                    800|    800|            800|     250|             800|   680.00|\n",
       "|003769d7f54c7859e...|             500|              500|       250|               800|                    800|    800|              0|     250|             800|   100.00|\n",
       "|003e1e6cbd2920bbb...|             500|              650|       250|               250|                    250|    800|            500|     250|             800|   640.00|\n",
       "|004017b21bd4d6271...|             100|              650|       750|               800|                    800|    800|            800|     250|             800|   500.00|\n",
       "|005b4c3db3fce07dc...|             500|              650|       250|               250|                    800|    250|            500|     250|             500|   520.00|\n",
       "|00710707c563c2119...|             800|              650|       250|               800|                    800|    800|            800|     250|             800|   520.00|\n",
       "|007da79904f69970d...|             800|              650|       250|               800|                    800|    800|            800|     500|             250|   800.00|\n",
       "|00f435a80d0440ece...|             500|              500|       100|               800|                    800|    800|            500|     250|             800|   475.00|\n",
       "|00fc2ae3ffb1213e4...|             650|              650|       250|               800|                    800|    800|            800|     250|             650|   450.00|\n",
       "|00fc8144cb210ba8c...|             500|              650|       250|               250|                    250|    800|            500|     250|             800|   500.00|\n",
       "|01121d7f3f6f27495...|             800|              650|       250|               800|                    800|    800|            800|     250|             800|   617.50|\n",
       "|0112e15adaf0c0029...|             500|              650|       250|               800|                    800|    800|            500|     250|             500|   450.00|\n",
       "|017ce564dc0d6f975...|             500|              500|       250|               800|                    800|    250|              0|     250|             800|   640.00|\n",
       "|017d1fd3d6169ee29...|             800|              500|       800|               250|                    250|    250|            500|     250|             650|   585.00|\n",
       "|018a82c47453bf02d...|             100|              650|       800|               250|                    800|    800|            800|     500|             650|   760.00|\n",
       "|018b0f369c2d63913...|             100|              650|       800|               800|                    800|    100|            800|     250|             800|   250.00|\n",
       "|01b39bf7187932c4a...|             800|              650|       250|               250|                    800|    800|            800|     500|             800|   585.00|\n",
       "|01d0686210978f0a7...|             500|              500|       750|               800|                    800|    800|              0|     250|             800|   720.00|\n",
       "|01d0c48835e969a01...|             500|              500|       800|               800|                    800|    250|              0|     500|             250|     0.00|\n",
       "|01ef63fce64f41ef9...|             800|              650|       250|               800|                    800|    800|            800|     500|             650|   552.50|\n",
       "+--------------------+----------------+-----------------+----------+------------------+-----------------------+-------+---------------+--------+----------------+---------+\n",
       "only showing top 20 rows"
      ]
     },
     "execution_count": 14,
     "metadata": {},
     "output_type": "execute_result"
    }
   ],
   "source": [
    "fh_ldh_ph_df"
   ]
  },
  {
   "cell_type": "code",
   "execution_count": 15,
   "id": "c0d01ddd",
   "metadata": {},
   "outputs": [],
   "source": [
    "#### Final loan score calculation by considering all the 3 criterias with the following %**"
   ]
  },
  {
   "cell_type": "code",
   "execution_count": 16,
   "id": "50de136b",
   "metadata": {},
   "outputs": [],
   "source": [
    "#### 1. Payment History = 20%\n",
    "#### 2. Loan Defaults = 45%\n",
    "#### 3. Financial Health = 35%"
   ]
  },
  {
   "cell_type": "code",
   "execution_count": 17,
   "id": "8bb7bfda",
   "metadata": {},
   "outputs": [],
   "source": [
    "loan_score = spark.sql(\"SELECT member_id, \\\n",
    "    ((last_payment_pts+total_payment_pts)*0.20) as payment_history_pts, \\\n",
    "    ((delinq_pts + public_records_pts + public_bankruptcies_pts + enq_pts) * 0.45) as defaulters_history_pts, \\\n",
    "    ((loan_status_pts + home_pts + credit_limit_pts + grade_pts)*0.35) as financial_health_pts \\\n",
    "    FROM fh_ldh_ph_pts\")"
   ]
  },
  {
   "cell_type": "code",
   "execution_count": 18,
   "id": "38decdfb",
   "metadata": {},
   "outputs": [
    {
     "data": {
      "text/html": [
       "<table border='1'>\n",
       "<tr><th>member_id</th><th>payment_history_pts</th><th>defaulters_history_pts</th><th>financial_health_pts</th></tr>\n",
       "<tr><td>000c8875b71a6b47c...</td><td>290.00</td><td>1192.50</td><td>885.5000</td></tr>\n",
       "<tr><td>003769d7f54c7859e...</td><td>200.00</td><td>1192.50</td><td>402.5000</td></tr>\n",
       "<tr><td>003e1e6cbd2920bbb...</td><td>230.00</td><td>697.50</td><td>766.5000</td></tr>\n",
       "<tr><td>004017b21bd4d6271...</td><td>150.00</td><td>1417.50</td><td>822.5000</td></tr>\n",
       "<tr><td>005b4c3db3fce07dc...</td><td>230.00</td><td>697.50</td><td>619.5000</td></tr>\n",
       "<tr><td>00710707c563c2119...</td><td>290.00</td><td>1192.50</td><td>829.5000</td></tr>\n",
       "<tr><td>007da79904f69970d...</td><td>290.00</td><td>1192.50</td><td>822.5000</td></tr>\n",
       "<tr><td>00f435a80d0440ece...</td><td>200.00</td><td>1125.00</td><td>708.7500</td></tr>\n",
       "<tr><td>00fc2ae3ffb1213e4...</td><td>260.00</td><td>1192.50</td><td>752.5000</td></tr>\n",
       "<tr><td>00fc8144cb210ba8c...</td><td>230.00</td><td>697.50</td><td>717.5000</td></tr>\n",
       "<tr><td>01121d7f3f6f27495...</td><td>290.00</td><td>1192.50</td><td>863.6250</td></tr>\n",
       "<tr><td>0112e15adaf0c0029...</td><td>230.00</td><td>1192.50</td><td>595.0000</td></tr>\n",
       "<tr><td>017ce564dc0d6f975...</td><td>200.00</td><td>945.00</td><td>591.5000</td></tr>\n",
       "<tr><td>017d1fd3d6169ee29...</td><td>260.00</td><td>697.50</td><td>694.7500</td></tr>\n",
       "<tr><td>018a82c47453bf02d...</td><td>150.00</td><td>1192.50</td><td>948.5000</td></tr>\n",
       "<tr><td>018b0f369c2d63913...</td><td>150.00</td><td>1125.00</td><td>735.0000</td></tr>\n",
       "<tr><td>01b39bf7187932c4a...</td><td>290.00</td><td>945.00</td><td>939.7500</td></tr>\n",
       "<tr><td>01d0686210978f0a7...</td><td>200.00</td><td>1417.50</td><td>619.5000</td></tr>\n",
       "<tr><td>01d0c48835e969a01...</td><td>200.00</td><td>1192.50</td><td>262.5000</td></tr>\n",
       "<tr><td>01ef63fce64f41ef9...</td><td>290.00</td><td>1192.50</td><td>875.8750</td></tr>\n",
       "</table>\n",
       "only showing top 20 rows\n"
      ],
      "text/plain": [
       "+--------------------+-------------------+----------------------+--------------------+\n",
       "|           member_id|payment_history_pts|defaulters_history_pts|financial_health_pts|\n",
       "+--------------------+-------------------+----------------------+--------------------+\n",
       "|000c8875b71a6b47c...|             290.00|               1192.50|            885.5000|\n",
       "|003769d7f54c7859e...|             200.00|               1192.50|            402.5000|\n",
       "|003e1e6cbd2920bbb...|             230.00|                697.50|            766.5000|\n",
       "|004017b21bd4d6271...|             150.00|               1417.50|            822.5000|\n",
       "|005b4c3db3fce07dc...|             230.00|                697.50|            619.5000|\n",
       "|00710707c563c2119...|             290.00|               1192.50|            829.5000|\n",
       "|007da79904f69970d...|             290.00|               1192.50|            822.5000|\n",
       "|00f435a80d0440ece...|             200.00|               1125.00|            708.7500|\n",
       "|00fc2ae3ffb1213e4...|             260.00|               1192.50|            752.5000|\n",
       "|00fc8144cb210ba8c...|             230.00|                697.50|            717.5000|\n",
       "|01121d7f3f6f27495...|             290.00|               1192.50|            863.6250|\n",
       "|0112e15adaf0c0029...|             230.00|               1192.50|            595.0000|\n",
       "|017ce564dc0d6f975...|             200.00|                945.00|            591.5000|\n",
       "|017d1fd3d6169ee29...|             260.00|                697.50|            694.7500|\n",
       "|018a82c47453bf02d...|             150.00|               1192.50|            948.5000|\n",
       "|018b0f369c2d63913...|             150.00|               1125.00|            735.0000|\n",
       "|01b39bf7187932c4a...|             290.00|                945.00|            939.7500|\n",
       "|01d0686210978f0a7...|             200.00|               1417.50|            619.5000|\n",
       "|01d0c48835e969a01...|             200.00|               1192.50|            262.5000|\n",
       "|01ef63fce64f41ef9...|             290.00|               1192.50|            875.8750|\n",
       "+--------------------+-------------------+----------------------+--------------------+\n",
       "only showing top 20 rows"
      ]
     },
     "execution_count": 18,
     "metadata": {},
     "output_type": "execute_result"
    }
   ],
   "source": [
    "loan_score"
   ]
  },
  {
   "cell_type": "code",
   "execution_count": 19,
   "id": "2d96c77d",
   "metadata": {},
   "outputs": [],
   "source": [
    "final_loan_score = loan_score.withColumn('loan_score',loan_score.payment_history_pts+loan_score.financial_health_pts)"
   ]
  },
  {
   "cell_type": "code",
   "execution_count": 20,
   "id": "297c5c76",
   "metadata": {},
   "outputs": [
    {
     "data": {
      "text/html": [
       "<table border='1'>\n",
       "<tr><th>member_id</th><th>payment_history_pts</th><th>defaulters_history_pts</th><th>financial_health_pts</th><th>loan_score</th></tr>\n",
       "<tr><td>000c8875b71a6b47c...</td><td>290.00</td><td>1192.50</td><td>885.5000</td><td>1175.5000</td></tr>\n",
       "<tr><td>003769d7f54c7859e...</td><td>200.00</td><td>1192.50</td><td>402.5000</td><td>602.5000</td></tr>\n",
       "<tr><td>003e1e6cbd2920bbb...</td><td>230.00</td><td>697.50</td><td>766.5000</td><td>996.5000</td></tr>\n",
       "<tr><td>004017b21bd4d6271...</td><td>150.00</td><td>1417.50</td><td>822.5000</td><td>972.5000</td></tr>\n",
       "<tr><td>005b4c3db3fce07dc...</td><td>230.00</td><td>697.50</td><td>619.5000</td><td>849.5000</td></tr>\n",
       "<tr><td>00710707c563c2119...</td><td>290.00</td><td>1192.50</td><td>829.5000</td><td>1119.5000</td></tr>\n",
       "<tr><td>007da79904f69970d...</td><td>290.00</td><td>1192.50</td><td>822.5000</td><td>1112.5000</td></tr>\n",
       "<tr><td>00f435a80d0440ece...</td><td>200.00</td><td>1125.00</td><td>708.7500</td><td>908.7500</td></tr>\n",
       "<tr><td>00fc2ae3ffb1213e4...</td><td>260.00</td><td>1192.50</td><td>752.5000</td><td>1012.5000</td></tr>\n",
       "<tr><td>00fc8144cb210ba8c...</td><td>230.00</td><td>697.50</td><td>717.5000</td><td>947.5000</td></tr>\n",
       "<tr><td>01121d7f3f6f27495...</td><td>290.00</td><td>1192.50</td><td>863.6250</td><td>1153.6250</td></tr>\n",
       "<tr><td>0112e15adaf0c0029...</td><td>230.00</td><td>1192.50</td><td>595.0000</td><td>825.0000</td></tr>\n",
       "<tr><td>017ce564dc0d6f975...</td><td>200.00</td><td>945.00</td><td>591.5000</td><td>791.5000</td></tr>\n",
       "<tr><td>017d1fd3d6169ee29...</td><td>260.00</td><td>697.50</td><td>694.7500</td><td>954.7500</td></tr>\n",
       "<tr><td>018a82c47453bf02d...</td><td>150.00</td><td>1192.50</td><td>948.5000</td><td>1098.5000</td></tr>\n",
       "<tr><td>018b0f369c2d63913...</td><td>150.00</td><td>1125.00</td><td>735.0000</td><td>885.0000</td></tr>\n",
       "<tr><td>01b39bf7187932c4a...</td><td>290.00</td><td>945.00</td><td>939.7500</td><td>1229.7500</td></tr>\n",
       "<tr><td>01d0686210978f0a7...</td><td>200.00</td><td>1417.50</td><td>619.5000</td><td>819.5000</td></tr>\n",
       "<tr><td>01d0c48835e969a01...</td><td>200.00</td><td>1192.50</td><td>262.5000</td><td>462.5000</td></tr>\n",
       "<tr><td>01ef63fce64f41ef9...</td><td>290.00</td><td>1192.50</td><td>875.8750</td><td>1165.8750</td></tr>\n",
       "</table>\n",
       "only showing top 20 rows\n"
      ],
      "text/plain": [
       "+--------------------+-------------------+----------------------+--------------------+----------+\n",
       "|           member_id|payment_history_pts|defaulters_history_pts|financial_health_pts|loan_score|\n",
       "+--------------------+-------------------+----------------------+--------------------+----------+\n",
       "|000c8875b71a6b47c...|             290.00|               1192.50|            885.5000| 1175.5000|\n",
       "|003769d7f54c7859e...|             200.00|               1192.50|            402.5000|  602.5000|\n",
       "|003e1e6cbd2920bbb...|             230.00|                697.50|            766.5000|  996.5000|\n",
       "|004017b21bd4d6271...|             150.00|               1417.50|            822.5000|  972.5000|\n",
       "|005b4c3db3fce07dc...|             230.00|                697.50|            619.5000|  849.5000|\n",
       "|00710707c563c2119...|             290.00|               1192.50|            829.5000| 1119.5000|\n",
       "|007da79904f69970d...|             290.00|               1192.50|            822.5000| 1112.5000|\n",
       "|00f435a80d0440ece...|             200.00|               1125.00|            708.7500|  908.7500|\n",
       "|00fc2ae3ffb1213e4...|             260.00|               1192.50|            752.5000| 1012.5000|\n",
       "|00fc8144cb210ba8c...|             230.00|                697.50|            717.5000|  947.5000|\n",
       "|01121d7f3f6f27495...|             290.00|               1192.50|            863.6250| 1153.6250|\n",
       "|0112e15adaf0c0029...|             230.00|               1192.50|            595.0000|  825.0000|\n",
       "|017ce564dc0d6f975...|             200.00|                945.00|            591.5000|  791.5000|\n",
       "|017d1fd3d6169ee29...|             260.00|                697.50|            694.7500|  954.7500|\n",
       "|018a82c47453bf02d...|             150.00|               1192.50|            948.5000| 1098.5000|\n",
       "|018b0f369c2d63913...|             150.00|               1125.00|            735.0000|  885.0000|\n",
       "|01b39bf7187932c4a...|             290.00|                945.00|            939.7500| 1229.7500|\n",
       "|01d0686210978f0a7...|             200.00|               1417.50|            619.5000|  819.5000|\n",
       "|01d0c48835e969a01...|             200.00|               1192.50|            262.5000|  462.5000|\n",
       "|01ef63fce64f41ef9...|             290.00|               1192.50|            875.8750| 1165.8750|\n",
       "+--------------------+-------------------+----------------------+--------------------+----------+\n",
       "only showing top 20 rows"
      ]
     },
     "execution_count": 20,
     "metadata": {},
     "output_type": "execute_result"
    }
   ],
   "source": [
    "final_loan_score"
   ]
  },
  {
   "cell_type": "code",
   "execution_count": 21,
   "id": "f4cc08b6",
   "metadata": {},
   "outputs": [],
   "source": [
    "final_loan_score.createOrReplaceTempView(\"loan_score_eval\")"
   ]
  },
  {
   "cell_type": "code",
   "execution_count": 22,
   "id": "a4c499e4",
   "metadata": {},
   "outputs": [
    {
     "data": {
      "text/html": [
       "<table border='1'>\n",
       "<tr><th>member_id</th><th>payment_history_pts</th><th>defaulters_history_pts</th><th>financial_health_pts</th><th>loan_score</th></tr>\n",
       "<tr><td>000c8875b71a6b47c...</td><td>290.00</td><td>1192.50</td><td>885.5000</td><td>1175.5000</td></tr>\n",
       "<tr><td>003769d7f54c7859e...</td><td>200.00</td><td>1192.50</td><td>402.5000</td><td>602.5000</td></tr>\n",
       "<tr><td>003e1e6cbd2920bbb...</td><td>230.00</td><td>697.50</td><td>766.5000</td><td>996.5000</td></tr>\n",
       "<tr><td>004017b21bd4d6271...</td><td>150.00</td><td>1417.50</td><td>822.5000</td><td>972.5000</td></tr>\n",
       "<tr><td>005b4c3db3fce07dc...</td><td>230.00</td><td>697.50</td><td>619.5000</td><td>849.5000</td></tr>\n",
       "<tr><td>00710707c563c2119...</td><td>290.00</td><td>1192.50</td><td>829.5000</td><td>1119.5000</td></tr>\n",
       "<tr><td>007da79904f69970d...</td><td>290.00</td><td>1192.50</td><td>822.5000</td><td>1112.5000</td></tr>\n",
       "<tr><td>00f435a80d0440ece...</td><td>200.00</td><td>1125.00</td><td>708.7500</td><td>908.7500</td></tr>\n",
       "<tr><td>00fc2ae3ffb1213e4...</td><td>260.00</td><td>1192.50</td><td>752.5000</td><td>1012.5000</td></tr>\n",
       "<tr><td>00fc8144cb210ba8c...</td><td>230.00</td><td>697.50</td><td>717.5000</td><td>947.5000</td></tr>\n",
       "<tr><td>01121d7f3f6f27495...</td><td>290.00</td><td>1192.50</td><td>863.6250</td><td>1153.6250</td></tr>\n",
       "<tr><td>0112e15adaf0c0029...</td><td>230.00</td><td>1192.50</td><td>595.0000</td><td>825.0000</td></tr>\n",
       "<tr><td>017ce564dc0d6f975...</td><td>200.00</td><td>945.00</td><td>591.5000</td><td>791.5000</td></tr>\n",
       "<tr><td>017d1fd3d6169ee29...</td><td>260.00</td><td>697.50</td><td>694.7500</td><td>954.7500</td></tr>\n",
       "<tr><td>018a82c47453bf02d...</td><td>150.00</td><td>1192.50</td><td>948.5000</td><td>1098.5000</td></tr>\n",
       "<tr><td>018b0f369c2d63913...</td><td>150.00</td><td>1125.00</td><td>735.0000</td><td>885.0000</td></tr>\n",
       "<tr><td>01b39bf7187932c4a...</td><td>290.00</td><td>945.00</td><td>939.7500</td><td>1229.7500</td></tr>\n",
       "<tr><td>01d0686210978f0a7...</td><td>200.00</td><td>1417.50</td><td>619.5000</td><td>819.5000</td></tr>\n",
       "<tr><td>01d0c48835e969a01...</td><td>200.00</td><td>1192.50</td><td>262.5000</td><td>462.5000</td></tr>\n",
       "<tr><td>01ef63fce64f41ef9...</td><td>290.00</td><td>1192.50</td><td>875.8750</td><td>1165.8750</td></tr>\n",
       "</table>\n",
       "only showing top 20 rows\n"
      ],
      "text/plain": [
       "+--------------------+-------------------+----------------------+--------------------+----------+\n",
       "|           member_id|payment_history_pts|defaulters_history_pts|financial_health_pts|loan_score|\n",
       "+--------------------+-------------------+----------------------+--------------------+----------+\n",
       "|000c8875b71a6b47c...|             290.00|               1192.50|            885.5000| 1175.5000|\n",
       "|003769d7f54c7859e...|             200.00|               1192.50|            402.5000|  602.5000|\n",
       "|003e1e6cbd2920bbb...|             230.00|                697.50|            766.5000|  996.5000|\n",
       "|004017b21bd4d6271...|             150.00|               1417.50|            822.5000|  972.5000|\n",
       "|005b4c3db3fce07dc...|             230.00|                697.50|            619.5000|  849.5000|\n",
       "|00710707c563c2119...|             290.00|               1192.50|            829.5000| 1119.5000|\n",
       "|007da79904f69970d...|             290.00|               1192.50|            822.5000| 1112.5000|\n",
       "|00f435a80d0440ece...|             200.00|               1125.00|            708.7500|  908.7500|\n",
       "|00fc2ae3ffb1213e4...|             260.00|               1192.50|            752.5000| 1012.5000|\n",
       "|00fc8144cb210ba8c...|             230.00|                697.50|            717.5000|  947.5000|\n",
       "|01121d7f3f6f27495...|             290.00|               1192.50|            863.6250| 1153.6250|\n",
       "|0112e15adaf0c0029...|             230.00|               1192.50|            595.0000|  825.0000|\n",
       "|017ce564dc0d6f975...|             200.00|                945.00|            591.5000|  791.5000|\n",
       "|017d1fd3d6169ee29...|             260.00|                697.50|            694.7500|  954.7500|\n",
       "|018a82c47453bf02d...|             150.00|               1192.50|            948.5000| 1098.5000|\n",
       "|018b0f369c2d63913...|             150.00|               1125.00|            735.0000|  885.0000|\n",
       "|01b39bf7187932c4a...|             290.00|                945.00|            939.7500| 1229.7500|\n",
       "|01d0686210978f0a7...|             200.00|               1417.50|            619.5000|  819.5000|\n",
       "|01d0c48835e969a01...|             200.00|               1192.50|            262.5000|  462.5000|\n",
       "|01ef63fce64f41ef9...|             290.00|               1192.50|            875.8750| 1165.8750|\n",
       "+--------------------+-------------------+----------------------+--------------------+----------+\n",
       "only showing top 20 rows"
      ]
     },
     "execution_count": 22,
     "metadata": {},
     "output_type": "execute_result"
    }
   ],
   "source": [
    "spark.sql(\"select * from loan_score_eval\")"
   ]
  },
  {
   "cell_type": "code",
   "execution_count": 23,
   "id": "12d335e4",
   "metadata": {},
   "outputs": [],
   "source": [
    "loan_score_final = spark.sql(\"select ls.*, \\\n",
    "case \\\n",
    "WHEN loan_score > ${spark.sql.very_good_grade_pts} THEN 'A' \\\n",
    "WHEN loan_score <= ${spark.sql.very_good_grade_pts} AND loan_score > ${spark.sql.good_grade_pts} THEN 'B' \\\n",
    "WHEN loan_score <= ${spark.sql.good_grade_pts} AND loan_score > ${spark.sql.bad_grade_pts} THEN 'C' \\\n",
    "WHEN loan_score <= ${spark.sql.bad_grade_pts} AND loan_score  > ${spark.sql.very_bad_grade_pts} THEN 'D' \\\n",
    "WHEN loan_score <= ${spark.sql.very_bad_grade_pts} AND loan_score > ${spark.sql.unacceptable_grade_pts} THEN 'E'  \\\n",
    "WHEN loan_score <= ${spark.sql.unacceptable_grade_pts} THEN 'F' \\\n",
    "end as loan_final_grade \\\n",
    "from loan_score_eval ls\")"
   ]
  },
  {
   "cell_type": "code",
   "execution_count": 24,
   "id": "d2622d1d",
   "metadata": {},
   "outputs": [
    {
     "name": "stdout",
     "output_type": "stream",
     "text": [
      "+--------------------+-------------------+----------------------+--------------------+----------+----------------+\n",
      "|           member_id|payment_history_pts|defaulters_history_pts|financial_health_pts|loan_score|loan_final_grade|\n",
      "+--------------------+-------------------+----------------------+--------------------+----------+----------------+\n",
      "|000c8875b71a6b47c...|             290.00|               1192.50|            885.5000| 1175.5000|               D|\n",
      "|003769d7f54c7859e...|             200.00|               1192.50|            402.5000|  602.5000|               F|\n",
      "|003e1e6cbd2920bbb...|             230.00|                697.50|            766.5000|  996.5000|               E|\n",
      "|004017b21bd4d6271...|             150.00|               1417.50|            822.5000|  972.5000|               E|\n",
      "|005b4c3db3fce07dc...|             230.00|                697.50|            619.5000|  849.5000|               E|\n",
      "|00710707c563c2119...|             290.00|               1192.50|            829.5000| 1119.5000|               D|\n",
      "|007da79904f69970d...|             290.00|               1192.50|            822.5000| 1112.5000|               D|\n",
      "|00f435a80d0440ece...|             200.00|               1125.00|            708.7500|  908.7500|               E|\n",
      "|00fc2ae3ffb1213e4...|             260.00|               1192.50|            752.5000| 1012.5000|               D|\n",
      "|00fc8144cb210ba8c...|             230.00|                697.50|            717.5000|  947.5000|               E|\n",
      "|01121d7f3f6f27495...|             290.00|               1192.50|            863.6250| 1153.6250|               D|\n",
      "|0112e15adaf0c0029...|             230.00|               1192.50|            595.0000|  825.0000|               E|\n",
      "|017ce564dc0d6f975...|             200.00|                945.00|            591.5000|  791.5000|               E|\n",
      "|017d1fd3d6169ee29...|             260.00|                697.50|            694.7500|  954.7500|               E|\n",
      "|018a82c47453bf02d...|             150.00|               1192.50|            948.5000| 1098.5000|               D|\n",
      "|018b0f369c2d63913...|             150.00|               1125.00|            735.0000|  885.0000|               E|\n",
      "|01b39bf7187932c4a...|             290.00|                945.00|            939.7500| 1229.7500|               D|\n",
      "|01d0686210978f0a7...|             200.00|               1417.50|            619.5000|  819.5000|               E|\n",
      "|01d0c48835e969a01...|             200.00|               1192.50|            262.5000|  462.5000|               F|\n",
      "|01ef63fce64f41ef9...|             290.00|               1192.50|            875.8750| 1165.8750|               D|\n",
      "|01fc6f6fef13f1c25...|             230.00|               1192.50|            796.2500| 1026.2500|               D|\n",
      "|021a6ce1b67f3bc81...|             200.00|                450.00|            758.6250|  958.6250|               E|\n",
      "|0254ff8e153212a53...|             290.00|               1192.50|            852.2500| 1142.2500|               D|\n",
      "|026fe0d0c50c871ec...|             200.00|               1125.00|            782.2500|  982.2500|               E|\n",
      "|0272f4e8082fdb6ad...|             230.00|               1440.00|            498.7500|  728.7500|               F|\n",
      "|027f8b81d6f9083f7...|             290.00|               1192.50|            822.5000| 1112.5000|               D|\n",
      "|02844f1aff78c7121...|             290.00|                945.00|            787.5000| 1077.5000|               D|\n",
      "|029e4d764317ff543...|             200.00|               1192.50|            822.5000| 1022.5000|               D|\n",
      "|02ab44b8adcd19607...|             150.00|               1192.50|            796.2500|  946.2500|               E|\n",
      "|02ad95cbf42e6d4dd...|             290.00|                945.00|            829.5000| 1119.5000|               D|\n",
      "|02f69de1384fcf78c...|             150.00|                945.00|            864.5000| 1014.5000|               D|\n",
      "|032503cc8f86dea72...|             200.00|                945.00|            647.5000|  847.5000|               E|\n",
      "|0352a8e06529828d9...|             290.00|               1192.50|            700.0000|  990.0000|               E|\n",
      "|035a8c46279041682...|             230.00|               1192.50|            507.5000|  737.5000|               F|\n",
      "|03a21fa53c022b4f4...|             290.00|               1192.50|            707.0000|  997.0000|               E|\n",
      "|03bb18c48d709b28b...|             290.00|               1440.00|            721.8750| 1011.8750|               D|\n",
      "|03c814d2820c4f5ca...|             200.00|               1125.00|            573.1250|  773.1250|               E|\n",
      "|0401f0eff7d188d40...|             200.00|                945.00|            612.5000|  812.5000|               E|\n",
      "|044605ddb5536b14d...|             290.00|               1192.50|            481.2500|  771.2500|               E|\n",
      "|047e58a29eaf50dea...|             290.00|                945.00|            675.5000|  965.5000|               E|\n",
      "+--------------------+-------------------+----------------------+--------------------+----------+----------------+\n",
      "only showing top 40 rows\n",
      "\n"
     ]
    }
   ],
   "source": [
    "loan_score_final.show(40)"
   ]
  },
  {
   "cell_type": "code",
   "execution_count": 25,
   "id": "76c0de86",
   "metadata": {},
   "outputs": [],
   "source": [
    "loan_score_final.createOrReplaceTempView(\"loan_final_table\")"
   ]
  },
  {
   "cell_type": "code",
   "execution_count": 26,
   "id": "fb8d662a",
   "metadata": {},
   "outputs": [
    {
     "name": "stdout",
     "output_type": "stream",
     "text": [
      "+--------------------+-------------------+----------------------+--------------------+----------+----------------+\n",
      "|           member_id|payment_history_pts|defaulters_history_pts|financial_health_pts|loan_score|loan_final_grade|\n",
      "+--------------------+-------------------+----------------------+--------------------+----------+----------------+\n",
      "|000c8875b71a6b47c...|             290.00|               1192.50|            885.5000| 1175.5000|               D|\n",
      "|00710707c563c2119...|             290.00|               1192.50|            829.5000| 1119.5000|               D|\n",
      "|007da79904f69970d...|             290.00|               1192.50|            822.5000| 1112.5000|               D|\n",
      "|00fc2ae3ffb1213e4...|             260.00|               1192.50|            752.5000| 1012.5000|               D|\n",
      "|01121d7f3f6f27495...|             290.00|               1192.50|            863.6250| 1153.6250|               D|\n",
      "|018a82c47453bf02d...|             150.00|               1192.50|            948.5000| 1098.5000|               D|\n",
      "|01b39bf7187932c4a...|             290.00|                945.00|            939.7500| 1229.7500|               D|\n",
      "|01ef63fce64f41ef9...|             290.00|               1192.50|            875.8750| 1165.8750|               D|\n",
      "|01fc6f6fef13f1c25...|             230.00|               1192.50|            796.2500| 1026.2500|               D|\n",
      "|0254ff8e153212a53...|             290.00|               1192.50|            852.2500| 1142.2500|               D|\n",
      "|027f8b81d6f9083f7...|             290.00|               1192.50|            822.5000| 1112.5000|               D|\n",
      "|02844f1aff78c7121...|             290.00|                945.00|            787.5000| 1077.5000|               D|\n",
      "|029e4d764317ff543...|             200.00|               1192.50|            822.5000| 1022.5000|               D|\n",
      "|02ad95cbf42e6d4dd...|             290.00|                945.00|            829.5000| 1119.5000|               D|\n",
      "|02f69de1384fcf78c...|             150.00|                945.00|            864.5000| 1014.5000|               D|\n",
      "|03bb18c48d709b28b...|             290.00|               1440.00|            721.8750| 1011.8750|               D|\n",
      "|049e7275f5507eea8...|             290.00|               1192.50|            752.5000| 1042.5000|               D|\n",
      "|04df54ba1ef4f4ec4...|             290.00|               1192.50|            899.5000| 1189.5000|               D|\n",
      "|050e6ee62b94e9cd4...|             290.00|               1192.50|            846.1250| 1136.1250|               D|\n",
      "|0510c57ca7363a531...|             230.00|               1192.50|            829.5000| 1059.5000|               D|\n",
      "+--------------------+-------------------+----------------------+--------------------+----------+----------------+\n",
      "only showing top 20 rows\n",
      "\n"
     ]
    }
   ],
   "source": [
    "result = spark.sql(\"SELECT * FROM loan_final_table WHERE loan_final_grade IN ('D')\")\n",
    "result.show()"
   ]
  },
  {
   "cell_type": "code",
   "execution_count": 27,
   "id": "4db6d10c",
   "metadata": {},
   "outputs": [
    {
     "data": {
      "text/html": [
       "<table border='1'>\n",
       "<tr><th>count(1)</th></tr>\n",
       "<tr><td>482842</td></tr>\n",
       "</table>\n"
      ],
      "text/plain": [
       "+--------+\n",
       "|count(1)|\n",
       "+--------+\n",
       "|  482842|\n",
       "+--------+"
      ]
     },
     "execution_count": 27,
     "metadata": {},
     "output_type": "execute_result"
    }
   ],
   "source": [
    "spark.sql(\"select count (*) from loan_final_table\")"
   ]
  },
  {
   "cell_type": "code",
   "execution_count": 28,
   "id": "dac6b018",
   "metadata": {},
   "outputs": [],
   "source": [
    "loan_score_final.write \\\n",
    ".format(\"parquet\") \\\n",
    ".mode(\"overwrite\") \\\n",
    ".option(\"path\",\"public/trendytech/lendingclubproject/processed/loan_score\") \\\n",
    ".save()"
   ]
  },
  {
   "cell_type": "code",
   "execution_count": 29,
   "id": "27bafbc8",
   "metadata": {},
   "outputs": [],
   "source": [
    "spark.stop()"
   ]
  },
  {
   "cell_type": "code",
   "execution_count": null,
   "id": "94b99f61",
   "metadata": {},
   "outputs": [],
   "source": []
  }
 ],
 "metadata": {
  "kernelspec": {
   "display_name": "Pyspark 3",
   "language": "python",
   "name": "pyspark3"
  },
  "language_info": {
   "codemirror_mode": {
    "name": "ipython",
    "version": 3
   },
   "file_extension": ".py",
   "mimetype": "text/x-python",
   "name": "python",
   "nbconvert_exporter": "python",
   "pygments_lexer": "ipython3",
   "version": "3.6.12"
  }
 },
 "nbformat": 4,
 "nbformat_minor": 5
}
