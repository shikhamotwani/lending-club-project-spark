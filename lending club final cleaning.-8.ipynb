{
 "cells": [
  {
   "cell_type": "code",
   "execution_count": 1,
   "id": "913eaf52",
   "metadata": {},
   "outputs": [],
   "source": [
    "from pyspark.sql import SparkSession\n",
    "import getpass \n",
    "username = getpass.getuser()\n",
    "spark = SparkSession. \\\n",
    "     builder. \\\n",
    "     config('spark.ui.port', '0'). \\\n",
    "     config(\"spark.sql.warehouse.dir\", f\"/user/itv009198/warehouse\"). \\\n",
    "     config('spark.shuffle.useOldFetchProtocol', 'true'). \\\n",
    "     enableHiveSupport(). \\\n",
    "     master('yarn'). \\\n",
    "     getOrCreate()"
   ]
  },
  {
   "cell_type": "code",
   "execution_count": 2,
   "id": "e87c6c87",
   "metadata": {},
   "outputs": [
    {
     "data": {
      "text/html": [
       "<table border='1'>\n",
       "<tr><th>member_id</th><th>total</th></tr>\n",
       "<tr><td>e4c167053d5418230...</td><td>5</td></tr>\n",
       "<tr><td>76b577467eda5bdbc...</td><td>4</td></tr>\n",
       "<tr><td>3f87585a20f702838...</td><td>4</td></tr>\n",
       "<tr><td>ad8e5d384dae17e06...</td><td>4</td></tr>\n",
       "<tr><td>498bb6b1f0099cb47...</td><td>3</td></tr>\n",
       "<tr><td>e7d8d16928817ec8f...</td><td>3</td></tr>\n",
       "<tr><td>d9ce4046daf599732...</td><td>3</td></tr>\n",
       "<tr><td>066ddaa64bee66dff...</td><td>3</td></tr>\n",
       "<tr><td>a2356725aa9da92c6...</td><td>3</td></tr>\n",
       "<tr><td>4ab6205de571ccb7b...</td><td>3</td></tr>\n",
       "<tr><td>035bf3d8288d803bd...</td><td>3</td></tr>\n",
       "<tr><td>53789bea7edc660ed...</td><td>3</td></tr>\n",
       "<tr><td>3ae415acd6bbfaac1...</td><td>3</td></tr>\n",
       "<tr><td>819453be77718d747...</td><td>3</td></tr>\n",
       "<tr><td>291ca1b09ef11ca3e...</td><td>3</td></tr>\n",
       "<tr><td>5d52e7773cb0efff3...</td><td>3</td></tr>\n",
       "<tr><td>c563428cb58da48ff...</td><td>3</td></tr>\n",
       "<tr><td>d3731bad3e6a82515...</td><td>3</td></tr>\n",
       "<tr><td>22593a1870543b2db...</td><td>3</td></tr>\n",
       "<tr><td>f54295a60946dedad...</td><td>3</td></tr>\n",
       "</table>\n",
       "only showing top 20 rows\n"
      ],
      "text/plain": [
       "+--------------------+-----+\n",
       "|           member_id|total|\n",
       "+--------------------+-----+\n",
       "|e4c167053d5418230...|    5|\n",
       "|76b577467eda5bdbc...|    4|\n",
       "|3f87585a20f702838...|    4|\n",
       "|ad8e5d384dae17e06...|    4|\n",
       "|f54295a60946dedad...|    3|\n",
       "|53789bea7edc660ed...|    3|\n",
       "|d9ce4046daf599732...|    3|\n",
       "|059d401bb603d9a80...|    3|\n",
       "|819453be77718d747...|    3|\n",
       "|5d52e7773cb0efff3...|    3|\n",
       "|035bf3d8288d803bd...|    3|\n",
       "|22593a1870543b2db...|    3|\n",
       "|c92062bb371842b3d...|    3|\n",
       "|e7d8d16928817ec8f...|    3|\n",
       "|291ca1b09ef11ca3e...|    3|\n",
       "|a2356725aa9da92c6...|    3|\n",
       "|4ab6205de571ccb7b...|    3|\n",
       "|d3731bad3e6a82515...|    3|\n",
       "|c563428cb58da48ff...|    3|\n",
       "|066ddaa64bee66dff...|    3|\n",
       "+--------------------+-----+\n",
       "only showing top 20 rows"
      ]
     },
     "execution_count": 2,
     "metadata": {},
     "output_type": "execute_result"
    }
   ],
   "source": [
    "spark.sql(\"select member_id, count(*) as total from itv009198_lending_club.customers group by member_id order by total desc\")"
   ]
  },
  {
   "cell_type": "code",
   "execution_count": 3,
   "id": "e894e4f5",
   "metadata": {},
   "outputs": [
    {
     "data": {
      "text/html": [
       "<table border='1'>\n",
       "<tr><th>member_id</th><th>emp_title</th><th>emp_length</th><th>home_ownership</th><th>annual_income</th><th>address_state</th><th>address_zipcode</th><th>address_country</th><th>grade</th><th>sub_grade</th><th>verification_status</th><th>total_high_credit_limit</th><th>application_type</th><th>join_annual_income</th><th>verification_status_joint</th><th>ingest_data</th></tr>\n",
       "<tr><td>e4c167053d5418230...</td><td>null</td><td>6</td><td>MORTGAGE</td><td>55000.0</td><td>IL</td><td>604xx</td><td>USA</td><td>B</td><td>B5</td><td>Verified</td><td>138780.0</td><td>Individual</td><td>null</td><td>null</td><td>null</td></tr>\n",
       "<tr><td>e4c167053d5418230...</td><td>null</td><td>6</td><td>MORTGAGE</td><td>55000.0</td><td>IL</td><td>604xx</td><td>USA</td><td>B</td><td>B5</td><td>Verified</td><td>171165.0</td><td>Individual</td><td>null</td><td>null</td><td>null</td></tr>\n",
       "<tr><td>e4c167053d5418230...</td><td>null</td><td>6</td><td>MORTGAGE</td><td>55000.0</td><td>IL</td><td>604xx</td><td>USA</td><td>B</td><td>B5</td><td>Verified</td><td>110907.0</td><td>Individual</td><td>null</td><td>null</td><td>null</td></tr>\n",
       "<tr><td>e4c167053d5418230...</td><td>null</td><td>6</td><td>MORTGAGE</td><td>55000.0</td><td>IL</td><td>604xx</td><td>USA</td><td>B</td><td>B5</td><td>Verified</td><td>129833.0</td><td>Individual</td><td>null</td><td>null</td><td>null</td></tr>\n",
       "<tr><td>e4c167053d5418230...</td><td>null</td><td>6</td><td>MORTGAGE</td><td>55000.0</td><td>IL</td><td>604xx</td><td>USA</td><td>B</td><td>B5</td><td>Verified</td><td>207300.0</td><td>Individual</td><td>null</td><td>null</td><td>null</td></tr>\n",
       "</table>\n"
      ],
      "text/plain": [
       "+--------------------+---------+----------+--------------+-------------+-------------+---------------+---------------+-----+---------+-------------------+-----------------------+----------------+------------------+-------------------------+-----------+\n",
       "|           member_id|emp_title|emp_length|home_ownership|annual_income|address_state|address_zipcode|address_country|grade|sub_grade|verification_status|total_high_credit_limit|application_type|join_annual_income|verification_status_joint|ingest_data|\n",
       "+--------------------+---------+----------+--------------+-------------+-------------+---------------+---------------+-----+---------+-------------------+-----------------------+----------------+------------------+-------------------------+-----------+\n",
       "|e4c167053d5418230...|     null|         6|      MORTGAGE|      55000.0|           IL|          604xx|            USA|    B|       B5|           Verified|               138780.0|      Individual|              null|                     null|       null|\n",
       "|e4c167053d5418230...|     null|         6|      MORTGAGE|      55000.0|           IL|          604xx|            USA|    B|       B5|           Verified|               171165.0|      Individual|              null|                     null|       null|\n",
       "|e4c167053d5418230...|     null|         6|      MORTGAGE|      55000.0|           IL|          604xx|            USA|    B|       B5|           Verified|               110907.0|      Individual|              null|                     null|       null|\n",
       "|e4c167053d5418230...|     null|         6|      MORTGAGE|      55000.0|           IL|          604xx|            USA|    B|       B5|           Verified|               129833.0|      Individual|              null|                     null|       null|\n",
       "|e4c167053d5418230...|     null|         6|      MORTGAGE|      55000.0|           IL|          604xx|            USA|    B|       B5|           Verified|               207300.0|      Individual|              null|                     null|       null|\n",
       "+--------------------+---------+----------+--------------+-------------+-------------+---------------+---------------+-----+---------+-------------------+-----------------------+----------------+------------------+-------------------------+-----------+"
      ]
     },
     "execution_count": 3,
     "metadata": {},
     "output_type": "execute_result"
    }
   ],
   "source": [
    "spark.sql(\"\"\"select * from itv009198_lending_club.customers where member_id like 'e4c167053d5418230%'\"\"\")"
   ]
  },
  {
   "cell_type": "code",
   "execution_count": 4,
   "id": "2d0ca9fa",
   "metadata": {},
   "outputs": [
    {
     "data": {
      "text/html": [
       "<table border='1'>\n",
       "<tr><th>member_id</th><th>total</th></tr>\n",
       "<tr><td>e4c167053d5418230...</td><td>3</td></tr>\n",
       "<tr><td>b3d4eb0c5a9239348...</td><td>2</td></tr>\n",
       "<tr><td>58dde656f747cee8b...</td><td>2</td></tr>\n",
       "<tr><td>c23eb88fed4893030...</td><td>2</td></tr>\n",
       "<tr><td>77db5fdf951dd04b2...</td><td>2</td></tr>\n",
       "<tr><td>4f7579700cd9d49d7...</td><td>2</td></tr>\n",
       "<tr><td>17d76ba5141e1c33a...</td><td>2</td></tr>\n",
       "<tr><td>db887c1d4cb004ca8...</td><td>2</td></tr>\n",
       "<tr><td>8d2c605c7ad9209cc...</td><td>2</td></tr>\n",
       "<tr><td>6918b9861ba5a4c67...</td><td>2</td></tr>\n",
       "<tr><td>0b44a10bc749eabb2...</td><td>2</td></tr>\n",
       "<tr><td>cbede54df344cdb94...</td><td>2</td></tr>\n",
       "<tr><td>694c6cb86608015e9...</td><td>2</td></tr>\n",
       "<tr><td>dbe5ec23d01598dbf...</td><td>2</td></tr>\n",
       "<tr><td>c16e1f92ae5ccc785...</td><td>2</td></tr>\n",
       "<tr><td>343344c3c65b023af...</td><td>2</td></tr>\n",
       "<tr><td>6c2b63ff231e520d4...</td><td>2</td></tr>\n",
       "<tr><td>bbe43331566910d55...</td><td>2</td></tr>\n",
       "<tr><td>b5ded5638e54e1692...</td><td>2</td></tr>\n",
       "<tr><td>a93a44c9d83793451...</td><td>2</td></tr>\n",
       "</table>\n",
       "only showing top 20 rows\n"
      ],
      "text/plain": [
       "+--------------------+-----+\n",
       "|           member_id|total|\n",
       "+--------------------+-----+\n",
       "|e4c167053d5418230...|    3|\n",
       "|ac9a3da3b89f9228e...|    2|\n",
       "|17d76ba5141e1c33a...|    2|\n",
       "|20ffcd8c1f8f988dd...|    2|\n",
       "|77db5fdf951dd04b2...|    2|\n",
       "|cbede54df344cdb94...|    2|\n",
       "|c23eb88fed4893030...|    2|\n",
       "|50483e24eadd7a278...|    2|\n",
       "|6918b9861ba5a4c67...|    2|\n",
       "|b5ded5638e54e1692...|    2|\n",
       "|0b44a10bc749eabb2...|    2|\n",
       "|4f7579700cd9d49d7...|    2|\n",
       "|dbe5ec23d01598dbf...|    2|\n",
       "|db887c1d4cb004ca8...|    2|\n",
       "|343344c3c65b023af...|    2|\n",
       "|c16e1f92ae5ccc785...|    2|\n",
       "|58dde656f747cee8b...|    2|\n",
       "|8d2c605c7ad9209cc...|    2|\n",
       "|bbe43331566910d55...|    2|\n",
       "|a93a44c9d83793451...|    2|\n",
       "+--------------------+-----+\n",
       "only showing top 20 rows"
      ]
     },
     "execution_count": 4,
     "metadata": {},
     "output_type": "execute_result"
    }
   ],
   "source": [
    "spark.sql(\"select member_id, count(*) as total from itv009198_lending_club.loans_defaulters_delinq group by member_id order by total desc\")"
   ]
  },
  {
   "cell_type": "code",
   "execution_count": 5,
   "id": "4e3facb5",
   "metadata": {},
   "outputs": [
    {
     "data": {
      "text/html": [
       "<table border='1'>\n",
       "<tr><th>member_id</th><th>delinq_2yrs</th><th>delinq_amnt</th><th>mths_since_last_delinq</th></tr>\n",
       "<tr><td>e4c167053d5418230...</td><td>3</td><td>0.0</td><td>0</td></tr>\n",
       "<tr><td>e4c167053d5418230...</td><td>1</td><td>0.0</td><td>0</td></tr>\n",
       "<tr><td>e4c167053d5418230...</td><td>1</td><td>0.0</td><td>45</td></tr>\n",
       "</table>\n"
      ],
      "text/plain": [
       "+--------------------+-----------+-----------+----------------------+\n",
       "|           member_id|delinq_2yrs|delinq_amnt|mths_since_last_delinq|\n",
       "+--------------------+-----------+-----------+----------------------+\n",
       "|e4c167053d5418230...|          3|        0.0|                     0|\n",
       "|e4c167053d5418230...|          1|        0.0|                     0|\n",
       "|e4c167053d5418230...|          1|        0.0|                    45|\n",
       "+--------------------+-----------+-----------+----------------------+"
      ]
     },
     "execution_count": 5,
     "metadata": {},
     "output_type": "execute_result"
    }
   ],
   "source": [
    "spark.sql(\"\"\"select * from itv009198_lending_club.loans_defaulters_delinq where member_id like 'e4c167053d5418230%'\"\"\")"
   ]
  },
  {
   "cell_type": "code",
   "execution_count": 6,
   "id": "ffb88e02",
   "metadata": {},
   "outputs": [
    {
     "data": {
      "text/html": [
       "<table border='1'>\n",
       "<tr><th>member_id</th><th>total</th></tr>\n",
       "<tr><td>3823b0722a59dd3df...</td><td>1</td></tr>\n",
       "<tr><td>b6eeaecbc19f1af2c...</td><td>1</td></tr>\n",
       "<tr><td>a748c66c15f9ef18d...</td><td>1</td></tr>\n",
       "<tr><td>0137ab86e4724edd2...</td><td>1</td></tr>\n",
       "<tr><td>3a0829ce7a0b3377d...</td><td>1</td></tr>\n",
       "<tr><td>fd7fe83c1f3e26a70...</td><td>1</td></tr>\n",
       "<tr><td>3c0cc0279dd8feb51...</td><td>1</td></tr>\n",
       "<tr><td>b5ba45a5e06e5bea2...</td><td>1</td></tr>\n",
       "<tr><td>9fffa061f3ce74c24...</td><td>1</td></tr>\n",
       "<tr><td>b390a8635309b3e67...</td><td>1</td></tr>\n",
       "<tr><td>0dae90b3b24b6e8ef...</td><td>1</td></tr>\n",
       "<tr><td>a6e966b8bf6283cdb...</td><td>1</td></tr>\n",
       "<tr><td>83594d68c7e1c0156...</td><td>1</td></tr>\n",
       "<tr><td>1497a67bfd7835ddb...</td><td>1</td></tr>\n",
       "<tr><td>c6cf1993c5e67c350...</td><td>1</td></tr>\n",
       "<tr><td>2388daa5623bbbdba...</td><td>1</td></tr>\n",
       "<tr><td>3f0fba14097cc578b...</td><td>1</td></tr>\n",
       "<tr><td>7f57de8163a154b32...</td><td>1</td></tr>\n",
       "<tr><td>7b7b3b47057531452...</td><td>1</td></tr>\n",
       "<tr><td>f1e1f049021594765...</td><td>1</td></tr>\n",
       "</table>\n",
       "only showing top 20 rows\n"
      ],
      "text/plain": [
       "+--------------------+-----+\n",
       "|           member_id|total|\n",
       "+--------------------+-----+\n",
       "|aa98d20213e804ed2...|    1|\n",
       "|db3c57530fda7a112...|    1|\n",
       "|3cc251fd142446966...|    1|\n",
       "|401229060beb72613...|    1|\n",
       "|977b5789d2588fe27...|    1|\n",
       "|b6d5dd2a15078085e...|    1|\n",
       "|8e2d55988d0c794e6...|    1|\n",
       "|62a6db5a28b608ffb...|    1|\n",
       "|78f12e5168cda9697...|    1|\n",
       "|9b77b849fc7b13ac8...|    1|\n",
       "|7cbda41ac77c25ec5...|    1|\n",
       "|1941798c4d15384d5...|    1|\n",
       "|f34a7679c62ff4116...|    1|\n",
       "|e43ba206dffd82fec...|    1|\n",
       "|c7655d4d4e81ff975...|    1|\n",
       "|83bacdd7ff509e4da...|    1|\n",
       "|66ecb2b77886ba3be...|    1|\n",
       "|37b832fa6fd7ee59b...|    1|\n",
       "|4ffe96425d8c9799e...|    1|\n",
       "|3b27dbeeb85629128...|    1|\n",
       "+--------------------+-----+\n",
       "only showing top 20 rows"
      ]
     },
     "execution_count": 6,
     "metadata": {},
     "output_type": "execute_result"
    }
   ],
   "source": [
    "spark.sql(\"select member_id, count(*) as total from itv009198_lending_club.loans_defaulters_detail_records_enq group by member_id order by total desc\")"
   ]
  },
  {
   "cell_type": "code",
   "execution_count": 7,
   "id": "3377c80f",
   "metadata": {},
   "outputs": [
    {
     "data": {
      "text/html": [
       "<table border='1'>\n",
       "<tr><th></th></tr>\n",
       "</table>\n"
      ],
      "text/plain": [
       "++\n",
       "||\n",
       "++\n",
       "++"
      ]
     },
     "execution_count": 7,
     "metadata": {},
     "output_type": "execute_result"
    }
   ],
   "source": [
    "spark.sql(\"USE itv009198_lending_club\")"
   ]
  },
  {
   "cell_type": "code",
   "execution_count": 8,
   "id": "bb846191",
   "metadata": {},
   "outputs": [
    {
     "name": "stdout",
     "output_type": "stream",
     "text": [
      "+----------------------+-----------------------------------+-----------+\n",
      "|database              |tableName                          |isTemporary|\n",
      "+----------------------+-----------------------------------+-----------+\n",
      "|itv009198_lending_club|customers                          |false      |\n",
      "|itv009198_lending_club|customers_loan_t                   |false      |\n",
      "|itv009198_lending_club|customers_loan_v                   |false      |\n",
      "|itv009198_lending_club|customers_new                      |false      |\n",
      "|itv009198_lending_club|loans                              |false      |\n",
      "|itv009198_lending_club|loans_defaulters_delinq            |false      |\n",
      "|itv009198_lending_club|loans_defaulters_detail_records_enq|false      |\n",
      "|itv009198_lending_club|loans_repayments                   |false      |\n",
      "+----------------------+-----------------------------------+-----------+\n",
      "\n"
     ]
    }
   ],
   "source": [
    "spark.sql(\"SHOW TABLES IN itv009198_lending_club\").show(truncate=False)\n"
   ]
  },
  {
   "cell_type": "code",
   "execution_count": 9,
   "id": "ba5acc0f",
   "metadata": {},
   "outputs": [],
   "source": [
    "bad_data_customers_df = spark.sql(\"\"\" select member_id from (select member_id, count(*)\n",
    "as total from itv009198_lending_club.customers\n",
    "group by member_id having total > 1)\"\"\")"
   ]
  },
  {
   "cell_type": "code",
   "execution_count": 10,
   "id": "f7bd1e6d",
   "metadata": {},
   "outputs": [
    {
     "data": {
      "text/plain": [
       "3157"
      ]
     },
     "execution_count": 10,
     "metadata": {},
     "output_type": "execute_result"
    }
   ],
   "source": [
    "bad_data_customers_df.count()"
   ]
  },
  {
   "cell_type": "code",
   "execution_count": 11,
   "id": "fcb1d96d",
   "metadata": {},
   "outputs": [
    {
     "data": {
      "text/html": [
       "<table border='1'>\n",
       "<tr><th>member_id</th></tr>\n",
       "<tr><td>7115ace193e13d8f3...</td></tr>\n",
       "<tr><td>eebbd89aa7efc13e7...</td></tr>\n",
       "<tr><td>4231a55d0199c619a...</td></tr>\n",
       "<tr><td>3b8ffe19f24749a73...</td></tr>\n",
       "<tr><td>d4782ddad8591f44d...</td></tr>\n",
       "<tr><td>01b2223757c3b62e7...</td></tr>\n",
       "<tr><td>a2af7506825a7dcff...</td></tr>\n",
       "<tr><td>675151e58a628e87b...</td></tr>\n",
       "<tr><td>a53e2f488d2d76a30...</td></tr>\n",
       "<tr><td>fc0e468bff11ac7c3...</td></tr>\n",
       "<tr><td>61be6498c93cadf89...</td></tr>\n",
       "<tr><td>cd1fdca829c443fa7...</td></tr>\n",
       "<tr><td>f99c6e9cfe3a7a2d2...</td></tr>\n",
       "<tr><td>761b2f1e61999e14e...</td></tr>\n",
       "<tr><td>5130d0087970e032e...</td></tr>\n",
       "<tr><td>cbede54df344cdb94...</td></tr>\n",
       "<tr><td>2bae2e4dd6d5f2b21...</td></tr>\n",
       "<tr><td>f284044b881f218c0...</td></tr>\n",
       "<tr><td>22593a1870543b2db...</td></tr>\n",
       "<tr><td>53789bea7edc660ed...</td></tr>\n",
       "</table>\n",
       "only showing top 20 rows\n"
      ],
      "text/plain": [
       "+--------------------+\n",
       "|           member_id|\n",
       "+--------------------+\n",
       "|4231a55d0199c619a...|\n",
       "|3b8ffe19f24749a73...|\n",
       "|d4782ddad8591f44d...|\n",
       "|01b2223757c3b62e7...|\n",
       "|f284044b881f218c0...|\n",
       "|a2af7506825a7dcff...|\n",
       "|a53e2f488d2d76a30...|\n",
       "|cd1fdca829c443fa7...|\n",
       "|675151e58a628e87b...|\n",
       "|fc0e468bff11ac7c3...|\n",
       "|cbede54df344cdb94...|\n",
       "|761b2f1e61999e14e...|\n",
       "|2bae2e4dd6d5f2b21...|\n",
       "|eebbd89aa7efc13e7...|\n",
       "|5130d0087970e032e...|\n",
       "|61be6498c93cadf89...|\n",
       "|f99c6e9cfe3a7a2d2...|\n",
       "|7115ace193e13d8f3...|\n",
       "|46cb438a0bd1b7194...|\n",
       "|e61af5f79c2480a8b...|\n",
       "+--------------------+\n",
       "only showing top 20 rows"
      ]
     },
     "execution_count": 11,
     "metadata": {},
     "output_type": "execute_result"
    }
   ],
   "source": [
    "bad_data_customers_df"
   ]
  },
  {
   "cell_type": "code",
   "execution_count": 12,
   "id": "dfc0c990",
   "metadata": {},
   "outputs": [],
   "source": [
    "bad_data_loans_defaulters_delinq_df = spark.sql(\"\"\"select member_id from (select member_id, count(*)\n",
    "as total from itv009198_lending_club.loans_defaulters_delinq\n",
    "group by member_id having total > 1)\"\"\")"
   ]
  },
  {
   "cell_type": "code",
   "execution_count": 13,
   "id": "92029350",
   "metadata": {},
   "outputs": [
    {
     "data": {
      "text/html": [
       "<table border='1'>\n",
       "<tr><th>member_id</th></tr>\n",
       "<tr><td>cbede54df344cdb94...</td></tr>\n",
       "<tr><td>8d2c605c7ad9209cc...</td></tr>\n",
       "<tr><td>bbe43331566910d55...</td></tr>\n",
       "<tr><td>6918b9861ba5a4c67...</td></tr>\n",
       "<tr><td>a93a44c9d83793451...</td></tr>\n",
       "<tr><td>b5ded5638e54e1692...</td></tr>\n",
       "<tr><td>6c2b63ff231e520d4...</td></tr>\n",
       "<tr><td>694c6cb86608015e9...</td></tr>\n",
       "<tr><td>58dde656f747cee8b...</td></tr>\n",
       "<tr><td>0b44a10bc749eabb2...</td></tr>\n",
       "<tr><td>62394e3f9d063413b...</td></tr>\n",
       "<tr><td>77db5fdf951dd04b2...</td></tr>\n",
       "<tr><td>4f7579700cd9d49d7...</td></tr>\n",
       "<tr><td>dbe5ec23d01598dbf...</td></tr>\n",
       "<tr><td>17d76ba5141e1c33a...</td></tr>\n",
       "<tr><td>343344c3c65b023af...</td></tr>\n",
       "<tr><td>c16e1f92ae5ccc785...</td></tr>\n",
       "<tr><td>db887c1d4cb004ca8...</td></tr>\n",
       "<tr><td>c23eb88fed4893030...</td></tr>\n",
       "<tr><td>ac9a3da3b89f9228e...</td></tr>\n",
       "</table>\n",
       "only showing top 20 rows\n"
      ],
      "text/plain": [
       "+--------------------+\n",
       "|           member_id|\n",
       "+--------------------+\n",
       "|cbede54df344cdb94...|\n",
       "|8d2c605c7ad9209cc...|\n",
       "|bbe43331566910d55...|\n",
       "|6918b9861ba5a4c67...|\n",
       "|a93a44c9d83793451...|\n",
       "|b5ded5638e54e1692...|\n",
       "|6c2b63ff231e520d4...|\n",
       "|694c6cb86608015e9...|\n",
       "|58dde656f747cee8b...|\n",
       "|77db5fdf951dd04b2...|\n",
       "|62394e3f9d063413b...|\n",
       "|0b44a10bc749eabb2...|\n",
       "|4f7579700cd9d49d7...|\n",
       "|17d76ba5141e1c33a...|\n",
       "|dbe5ec23d01598dbf...|\n",
       "|343344c3c65b023af...|\n",
       "|c16e1f92ae5ccc785...|\n",
       "|db887c1d4cb004ca8...|\n",
       "|c23eb88fed4893030...|\n",
       "|ac9a3da3b89f9228e...|\n",
       "+--------------------+\n",
       "only showing top 20 rows"
      ]
     },
     "execution_count": 13,
     "metadata": {},
     "output_type": "execute_result"
    }
   ],
   "source": [
    "bad_data_loans_defaulters_delinq_df"
   ]
  },
  {
   "cell_type": "code",
   "execution_count": 14,
   "id": "eb77c976",
   "metadata": {},
   "outputs": [],
   "source": [
    "bad_data_loans_defaulters_detail_records_enq_df = spark.sql(\"\"\"select member_id from (select member_id, count(*)\n",
    "as total from itv009198_lending_club.loans_defaulters_detail_records_enq\n",
    "group by member_id having total > 1)\"\"\")"
   ]
  },
  {
   "cell_type": "code",
   "execution_count": 16,
   "id": "a9704a57",
   "metadata": {},
   "outputs": [
    {
     "data": {
      "text/html": [
       "<table border='1'>\n",
       "<tr><th>member_id</th></tr>\n",
       "</table>\n"
      ],
      "text/plain": [
       "+---------+\n",
       "|member_id|\n",
       "+---------+\n",
       "+---------+"
      ]
     },
     "execution_count": 16,
     "metadata": {},
     "output_type": "execute_result"
    }
   ],
   "source": [
    "bad_data_loans_defaulters_detail_records_enq_df"
   ]
  },
  {
   "cell_type": "code",
   "execution_count": 17,
   "id": "9fd563d0",
   "metadata": {},
   "outputs": [],
   "source": [
    "bad_data_customers_df.repartition(1).write \\\n",
    "    .format(\"csv\") \\\n",
    "    .option(\"header\", True) \\\n",
    "    .mode(\"overwrite\") \\\n",
    "    .option(\"path\",\"public/trendytech/lendingclubproject/bad/bad_data_customers\") \\\n",
    "    .save()\n"
   ]
  },
  {
   "cell_type": "code",
   "execution_count": 18,
   "id": "668938bc",
   "metadata": {},
   "outputs": [],
   "source": [
    "bad_data_loans_defaulters_delinq_df.repartition(1).write \\\n",
    "    .format(\"csv\") \\\n",
    "    .option(\"header\", True) \\\n",
    "    .mode(\"overwrite\") \\\n",
    "    .option(\"path\",\"public/trendytech/lendingclubproject/bad/bad_data_loans_defaulters_delinq\") \\\n",
    "    .save()\n"
   ]
  },
  {
   "cell_type": "code",
   "execution_count": 19,
   "id": "0805526d",
   "metadata": {},
   "outputs": [],
   "source": [
    "bad_data_loans_defaulters_detail_records_enq_df.repartition(1).write \\\n",
    "    .format(\"csv\") \\\n",
    "    .option(\"header\", True) \\\n",
    "    .mode(\"overwrite\") \\\n",
    "    .option(\"path\",\"public/trendytech/lendingclubproject/bad/bad_data_loans_defaulters_detail_records_enq_new\") \\\n",
    "    .save()\n"
   ]
  },
  {
   "cell_type": "code",
   "execution_count": 20,
   "id": "c522e943",
   "metadata": {},
   "outputs": [],
   "source": [
    "bad_customers_data_df = bad_data_customers_df.select(\"member_id\") \\\n",
    ".union(bad_data_loans_defaulters_delinq_df.select(\"member_id\")) \\\n",
    ".union(bad_data_loans_defaulters_detail_records_enq_df.select(\"member_id\")) \\\n"
   ]
  },
  {
   "cell_type": "code",
   "execution_count": 21,
   "id": "9f47f3c4",
   "metadata": {},
   "outputs": [],
   "source": [
    "bad_customers_data_final_df = bad_customers_data_df.distinct()"
   ]
  },
  {
   "cell_type": "code",
   "execution_count": 22,
   "id": "deccf277",
   "metadata": {},
   "outputs": [
    {
     "data": {
      "text/html": [
       "<table border='1'>\n",
       "<tr><th>member_id</th></tr>\n",
       "<tr><td>4231a55d0199c619a...</td></tr>\n",
       "<tr><td>3b8ffe19f24749a73...</td></tr>\n",
       "<tr><td>d4782ddad8591f44d...</td></tr>\n",
       "<tr><td>01b2223757c3b62e7...</td></tr>\n",
       "<tr><td>cd1fdca829c443fa7...</td></tr>\n",
       "<tr><td>61be6498c93cadf89...</td></tr>\n",
       "<tr><td>fc0e468bff11ac7c3...</td></tr>\n",
       "<tr><td>a2af7506825a7dcff...</td></tr>\n",
       "<tr><td>675151e58a628e87b...</td></tr>\n",
       "<tr><td>a53e2f488d2d76a30...</td></tr>\n",
       "<tr><td>cbede54df344cdb94...</td></tr>\n",
       "<tr><td>761b2f1e61999e14e...</td></tr>\n",
       "<tr><td>2bae2e4dd6d5f2b21...</td></tr>\n",
       "<tr><td>eebbd89aa7efc13e7...</td></tr>\n",
       "<tr><td>5130d0087970e032e...</td></tr>\n",
       "<tr><td>f99c6e9cfe3a7a2d2...</td></tr>\n",
       "<tr><td>7115ace193e13d8f3...</td></tr>\n",
       "<tr><td>f284044b881f218c0...</td></tr>\n",
       "<tr><td>d12c5766068d3b377...</td></tr>\n",
       "<tr><td>8408f3b8762d8d8bc...</td></tr>\n",
       "</table>\n",
       "only showing top 20 rows\n"
      ],
      "text/plain": [
       "+--------------------+\n",
       "|           member_id|\n",
       "+--------------------+\n",
       "|01b2223757c3b62e7...|\n",
       "|a2af7506825a7dcff...|\n",
       "|675151e58a628e87b...|\n",
       "|a53e2f488d2d76a30...|\n",
       "|fc0e468bff11ac7c3...|\n",
       "|cbede54df344cdb94...|\n",
       "|761b2f1e61999e14e...|\n",
       "|2bae2e4dd6d5f2b21...|\n",
       "|61be6498c93cadf89...|\n",
       "|cd1fdca829c443fa7...|\n",
       "|7115ace193e13d8f3...|\n",
       "|eebbd89aa7efc13e7...|\n",
       "|4231a55d0199c619a...|\n",
       "|f284044b881f218c0...|\n",
       "|3b8ffe19f24749a73...|\n",
       "|d4782ddad8591f44d...|\n",
       "|f99c6e9cfe3a7a2d2...|\n",
       "|5130d0087970e032e...|\n",
       "|46cb438a0bd1b7194...|\n",
       "|e61af5f79c2480a8b...|\n",
       "+--------------------+\n",
       "only showing top 20 rows"
      ]
     },
     "execution_count": 22,
     "metadata": {},
     "output_type": "execute_result"
    }
   ],
   "source": [
    "bad_customers_data_final_df"
   ]
  },
  {
   "cell_type": "code",
   "execution_count": 23,
   "id": "4e3393cd",
   "metadata": {},
   "outputs": [
    {
     "data": {
      "text/plain": [
       "3160"
      ]
     },
     "execution_count": 23,
     "metadata": {},
     "output_type": "execute_result"
    }
   ],
   "source": [
    "bad_customers_data_final_df.count()"
   ]
  },
  {
   "cell_type": "code",
   "execution_count": 24,
   "id": "2e0be64f",
   "metadata": {},
   "outputs": [],
   "source": [
    "bad_customers_data_final_df.repartition(1).write \\\n",
    "    .format(\"csv\") \\\n",
    "    .option(\"header\", True) \\\n",
    "    .mode(\"overwrite\") \\\n",
    "    .option(\"path\",\"public/trendytech/lendingclubproject/bad/bad_customers_data_final\") \\\n",
    "    .save()"
   ]
  },
  {
   "cell_type": "code",
   "execution_count": 25,
   "id": "3f44220b",
   "metadata": {},
   "outputs": [],
   "source": [
    "bad_customers_data_final_df.createOrReplaceTempView(\"bad_data_customers\")"
   ]
  },
  {
   "cell_type": "code",
   "execution_count": 26,
   "id": "66e3373e",
   "metadata": {},
   "outputs": [
    {
     "data": {
      "text/html": [
       "<table border='1'>\n",
       "<tr><th>member_id</th></tr>\n",
       "<tr><td>cd1fdca829c443fa7...</td></tr>\n",
       "<tr><td>61be6498c93cadf89...</td></tr>\n",
       "<tr><td>f99c6e9cfe3a7a2d2...</td></tr>\n",
       "<tr><td>761b2f1e61999e14e...</td></tr>\n",
       "<tr><td>5130d0087970e032e...</td></tr>\n",
       "<tr><td>675151e58a628e87b...</td></tr>\n",
       "<tr><td>7115ace193e13d8f3...</td></tr>\n",
       "<tr><td>fc0e468bff11ac7c3...</td></tr>\n",
       "<tr><td>cbede54df344cdb94...</td></tr>\n",
       "<tr><td>2bae2e4dd6d5f2b21...</td></tr>\n",
       "<tr><td>4231a55d0199c619a...</td></tr>\n",
       "<tr><td>3b8ffe19f24749a73...</td></tr>\n",
       "<tr><td>d4782ddad8591f44d...</td></tr>\n",
       "<tr><td>01b2223757c3b62e7...</td></tr>\n",
       "<tr><td>eebbd89aa7efc13e7...</td></tr>\n",
       "<tr><td>f284044b881f218c0...</td></tr>\n",
       "<tr><td>a2af7506825a7dcff...</td></tr>\n",
       "<tr><td>a53e2f488d2d76a30...</td></tr>\n",
       "<tr><td>8d2c605c7ad9209cc...</td></tr>\n",
       "<tr><td>0fa3654dfc604c1d4...</td></tr>\n",
       "</table>\n",
       "only showing top 20 rows\n"
      ],
      "text/plain": [
       "DataFrame[member_id: string]"
      ]
     },
     "execution_count": 26,
     "metadata": {},
     "output_type": "execute_result"
    }
   ],
   "source": [
    "bad_customers_data_final_df"
   ]
  },
  {
   "cell_type": "code",
   "execution_count": 27,
   "id": "e55e6fb1",
   "metadata": {},
   "outputs": [],
   "source": [
    "customers_df =spark.sql(\"\"\" select * from itv009198_lending_club.customers where member_id NOT IN (select member_id from bad_data_customers)\"\"\")"
   ]
  },
  {
   "cell_type": "code",
   "execution_count": 28,
   "id": "b1d16b3f",
   "metadata": {},
   "outputs": [
    {
     "data": {
      "text/html": [
       "<table border='1'>\n",
       "<tr><th>member_id</th><th>emp_title</th><th>emp_length</th><th>home_ownership</th><th>annual_income</th><th>address_state</th><th>address_zipcode</th><th>address_country</th><th>grade</th><th>sub_grade</th><th>verification_status</th><th>total_high_credit_limit</th><th>application_type</th><th>join_annual_income</th><th>verification_status_joint</th><th>ingest_data</th></tr>\n",
       "<tr><td>de8d40bb549f3e676...</td><td>Slot Club Lead</td><td>10</td><td>RENT</td><td>42000.0</td><td>CO</td><td>800xx</td><td>USA</td><td>A</td><td>A5</td><td>Source Verified</td><td>19200.0</td><td>Individual</td><td>null</td><td>null</td><td>null</td></tr>\n",
       "<tr><td>cb2bfe6ba8d8040ea...</td><td>Development Manager</td><td>1</td><td>MORTGAGE</td><td>120000.0</td><td>NJ</td><td>080xx</td><td>USA</td><td>B</td><td>B2</td><td>Verified</td><td>521247.0</td><td>Individual</td><td>null</td><td>null</td><td>null</td></tr>\n",
       "<tr><td>fd6cd0f257e376951...</td><td>Chef/Baker</td><td>5</td><td>RENT</td><td>25000.0</td><td>GA</td><td>310xx</td><td>USA</td><td>E</td><td>E2</td><td>Source Verified</td><td>18200.0</td><td>Individual</td><td>null</td><td>null</td><td>null</td></tr>\n",
       "<tr><td>46a7d1486ffcd4024...</td><td>Service Manager</td><td>3</td><td>MORTGAGE</td><td>122000.0</td><td>NY</td><td>113xx</td><td>USA</td><td>C</td><td>C3</td><td>Verified</td><td>232468.0</td><td>Individual</td><td>null</td><td>null</td><td>null</td></tr>\n",
       "<tr><td>ec70891c26a58aad8...</td><td>Maintenance Manager</td><td>1</td><td>RENT</td><td>35000.0</td><td>CO</td><td>804xx</td><td>USA</td><td>C</td><td>C1</td><td>Verified</td><td>16200.0</td><td>Individual</td><td>null</td><td>null</td><td>null</td></tr>\n",
       "<tr><td>8b5e4553da13c2336...</td><td>Driver</td><td>10</td><td>RENT</td><td>65000.0</td><td>NY</td><td>112xx</td><td>USA</td><td>C</td><td>C2</td><td>Verified</td><td>15200.0</td><td>Individual</td><td>null</td><td>null</td><td>null</td></tr>\n",
       "<tr><td>ea940e76460ba9551...</td><td>Carpenter</td><td>2</td><td>MORTGAGE</td><td>72000.0</td><td>IL</td><td>622xx</td><td>USA</td><td>B</td><td>B3</td><td>Source Verified</td><td>75875.0</td><td>Individual</td><td>null</td><td>null</td><td>null</td></tr>\n",
       "<tr><td>1bff1ca3a1f99b4d7...</td><td>Owner</td><td>3</td><td>RENT</td><td>103000.0</td><td>NC</td><td>282xx</td><td>USA</td><td>D</td><td>D2</td><td>Source Verified</td><td>18700.0</td><td>Individual</td><td>null</td><td>null</td><td>null</td></tr>\n",
       "<tr><td>78caf872bd06843ef...</td><td>Rural Carrier</td><td>10</td><td>OWN</td><td>70000.0</td><td>CA</td><td>932xx</td><td>USA</td><td>B</td><td>B4</td><td>Source Verified</td><td>71235.0</td><td>Individual</td><td>null</td><td>null</td><td>null</td></tr>\n",
       "<tr><td>8c0e5cf855a938944...</td><td>NotAsked</td><td>10</td><td>RENT</td><td>87600.0</td><td>CO</td><td>802xx</td><td>USA</td><td>B</td><td>B2</td><td>Source Verified</td><td>84826.0</td><td>Individual</td><td>null</td><td>null</td><td>null</td></tr>\n",
       "<tr><td>95e255082fddc76b1...</td><td>null</td><td>6</td><td>RENT</td><td>43500.0</td><td>NC</td><td>277xx</td><td>USA</td><td>C</td><td>C5</td><td>Source Verified</td><td>11500.0</td><td>Individual</td><td>null</td><td>null</td><td>null</td></tr>\n",
       "<tr><td>d810bbf2aa830e901...</td><td>Manager</td><td>5</td><td>MORTGAGE</td><td>52000.0</td><td>NJ</td><td>080xx</td><td>USA</td><td>F</td><td>F4</td><td>Source Verified</td><td>208107.0</td><td>Joint App</td><td>84000.0</td><td>Source Verified</td><td>null</td></tr>\n",
       "<tr><td>3e6ea68758d5452b0...</td><td>Operations</td><td>3</td><td>RENT</td><td>52000.0</td><td>CA</td><td>900xx</td><td>USA</td><td>B</td><td>B5</td><td>Not Verified</td><td>52930.0</td><td>Individual</td><td>null</td><td>null</td><td>null</td></tr>\n",
       "<tr><td>420c2ef97194d5a3e...</td><td>Tax Supervisor</td><td>2</td><td>OWN</td><td>140000.0</td><td>NJ</td><td>076xx</td><td>USA</td><td>B</td><td>B2</td><td>Source Verified</td><td>519721.0</td><td>Individual</td><td>null</td><td>null</td><td>null</td></tr>\n",
       "<tr><td>0705e81348a43ee77...</td><td>Commercial Lender</td><td>1</td><td>MORTGAGE</td><td>100000.0</td><td>NC</td><td>278xx</td><td>USA</td><td>A</td><td>A4</td><td>Not Verified</td><td>286058.0</td><td>Individual</td><td>null</td><td>null</td><td>null</td></tr>\n",
       "<tr><td>2cfd201844e15facc...</td><td>Material Specialist</td><td>10</td><td>RENT</td><td>42016.0</td><td>OR</td><td>970xx</td><td>USA</td><td>C</td><td>C2</td><td>Source Verified</td><td>37362.0</td><td>Individual</td><td>null</td><td>null</td><td>null</td></tr>\n",
       "<tr><td>b655449b933ef76bd...</td><td>Owner</td><td>5</td><td>MORTGAGE</td><td>91000.0</td><td>FL</td><td>322xx</td><td>USA</td><td>B</td><td>B1</td><td>Source Verified</td><td>300896.0</td><td>Individual</td><td>null</td><td>null</td><td>null</td></tr>\n",
       "<tr><td>e6a45ffa9540f58f9...</td><td>Marketing &amp; Event...</td><td>5</td><td>MORTGAGE</td><td>52000.0</td><td>CA</td><td>923xx</td><td>USA</td><td>B</td><td>B1</td><td>Not Verified</td><td>6700.0</td><td>Individual</td><td>null</td><td>null</td><td>null</td></tr>\n",
       "<tr><td>c3d1d95882cad2753...</td><td>Chief of Staff</td><td>10</td><td>MORTGAGE</td><td>131000.0</td><td>TX</td><td>782xx</td><td>USA</td><td>B</td><td>B5</td><td>Verified</td><td>380611.0</td><td>Individual</td><td>null</td><td>null</td><td>null</td></tr>\n",
       "<tr><td>163baad89b63af52b...</td><td>Gel coat team lead</td><td>7</td><td>MORTGAGE</td><td>60000.0</td><td>TN</td><td>377xx</td><td>USA</td><td>E</td><td>E3</td><td>Verified</td><td>163484.0</td><td>Individual</td><td>null</td><td>null</td><td>null</td></tr>\n",
       "</table>\n",
       "only showing top 20 rows\n"
      ],
      "text/plain": [
       "+--------------------+--------------------+----------+--------------+-------------+-------------+---------------+---------------+-----+---------+-------------------+-----------------------+----------------+------------------+-------------------------+-----------+\n",
       "|           member_id|           emp_title|emp_length|home_ownership|annual_income|address_state|address_zipcode|address_country|grade|sub_grade|verification_status|total_high_credit_limit|application_type|join_annual_income|verification_status_joint|ingest_data|\n",
       "+--------------------+--------------------+----------+--------------+-------------+-------------+---------------+---------------+-----+---------+-------------------+-----------------------+----------------+------------------+-------------------------+-----------+\n",
       "|de8d40bb549f3e676...|      Slot Club Lead|        10|          RENT|      42000.0|           CO|          800xx|            USA|    A|       A5|    Source Verified|                19200.0|      Individual|              null|                     null|       null|\n",
       "|cb2bfe6ba8d8040ea...| Development Manager|         1|      MORTGAGE|     120000.0|           NJ|          080xx|            USA|    B|       B2|           Verified|               521247.0|      Individual|              null|                     null|       null|\n",
       "|fd6cd0f257e376951...|          Chef/Baker|         5|          RENT|      25000.0|           GA|          310xx|            USA|    E|       E2|    Source Verified|                18200.0|      Individual|              null|                     null|       null|\n",
       "|46a7d1486ffcd4024...|     Service Manager|         3|      MORTGAGE|     122000.0|           NY|          113xx|            USA|    C|       C3|           Verified|               232468.0|      Individual|              null|                     null|       null|\n",
       "|ec70891c26a58aad8...| Maintenance Manager|         1|          RENT|      35000.0|           CO|          804xx|            USA|    C|       C1|           Verified|                16200.0|      Individual|              null|                     null|       null|\n",
       "|8b5e4553da13c2336...|              Driver|        10|          RENT|      65000.0|           NY|          112xx|            USA|    C|       C2|           Verified|                15200.0|      Individual|              null|                     null|       null|\n",
       "|ea940e76460ba9551...|           Carpenter|         2|      MORTGAGE|      72000.0|           IL|          622xx|            USA|    B|       B3|    Source Verified|                75875.0|      Individual|              null|                     null|       null|\n",
       "|1bff1ca3a1f99b4d7...|               Owner|         3|          RENT|     103000.0|           NC|          282xx|            USA|    D|       D2|    Source Verified|                18700.0|      Individual|              null|                     null|       null|\n",
       "|78caf872bd06843ef...|       Rural Carrier|        10|           OWN|      70000.0|           CA|          932xx|            USA|    B|       B4|    Source Verified|                71235.0|      Individual|              null|                     null|       null|\n",
       "|8c0e5cf855a938944...|            NotAsked|        10|          RENT|      87600.0|           CO|          802xx|            USA|    B|       B2|    Source Verified|                84826.0|      Individual|              null|                     null|       null|\n",
       "|95e255082fddc76b1...|                null|         6|          RENT|      43500.0|           NC|          277xx|            USA|    C|       C5|    Source Verified|                11500.0|      Individual|              null|                     null|       null|\n",
       "|d810bbf2aa830e901...|             Manager|         5|      MORTGAGE|      52000.0|           NJ|          080xx|            USA|    F|       F4|    Source Verified|               208107.0|       Joint App|           84000.0|          Source Verified|       null|\n",
       "|3e6ea68758d5452b0...|          Operations|         3|          RENT|      52000.0|           CA|          900xx|            USA|    B|       B5|       Not Verified|                52930.0|      Individual|              null|                     null|       null|\n",
       "|420c2ef97194d5a3e...|      Tax Supervisor|         2|           OWN|     140000.0|           NJ|          076xx|            USA|    B|       B2|    Source Verified|               519721.0|      Individual|              null|                     null|       null|\n",
       "|0705e81348a43ee77...|   Commercial Lender|         1|      MORTGAGE|     100000.0|           NC|          278xx|            USA|    A|       A4|       Not Verified|               286058.0|      Individual|              null|                     null|       null|\n",
       "|2cfd201844e15facc...| Material Specialist|        10|          RENT|      42016.0|           OR|          970xx|            USA|    C|       C2|    Source Verified|                37362.0|      Individual|              null|                     null|       null|\n",
       "|b655449b933ef76bd...|               Owner|         5|      MORTGAGE|      91000.0|           FL|          322xx|            USA|    B|       B1|    Source Verified|               300896.0|      Individual|              null|                     null|       null|\n",
       "|e6a45ffa9540f58f9...|Marketing & Event...|         5|      MORTGAGE|      52000.0|           CA|          923xx|            USA|    B|       B1|       Not Verified|                 6700.0|      Individual|              null|                     null|       null|\n",
       "|c3d1d95882cad2753...|      Chief of Staff|        10|      MORTGAGE|     131000.0|           TX|          782xx|            USA|    B|       B5|           Verified|               380611.0|      Individual|              null|                     null|       null|\n",
       "|163baad89b63af52b...|  Gel coat team lead|         7|      MORTGAGE|      60000.0|           TN|          377xx|            USA|    E|       E3|           Verified|               163484.0|      Individual|              null|                     null|       null|\n",
       "+--------------------+--------------------+----------+--------------+-------------+-------------+---------------+---------------+-----+---------+-------------------+-----------------------+----------------+------------------+-------------------------+-----------+\n",
       "only showing top 20 rows"
      ]
     },
     "execution_count": 28,
     "metadata": {},
     "output_type": "execute_result"
    }
   ],
   "source": [
    "customers_df"
   ]
  },
  {
   "cell_type": "code",
   "execution_count": 29,
   "id": "e2a6eeac",
   "metadata": {},
   "outputs": [],
   "source": [
    "customers_df.write \\\n",
    "    .format(\"parquet\") \\\n",
    "    .mode(\"overwrite\") \\\n",
    "    .option(\"path\",\"public/trendytech/lendingclubproject/cleaned_new/customers_parquet\") \\\n",
    "    .save()"
   ]
  },
  {
   "cell_type": "code",
   "execution_count": 30,
   "id": "ed587508",
   "metadata": {},
   "outputs": [],
   "source": [
    "loans_defaulters_delinq_df = spark.sql(\"\"\" select * from itv009198_lending_club.loans_defaulters_delinq \n",
    "where member_id NOT IN (select member_id from bad_data_customers)\"\"\")"
   ]
  },
  {
   "cell_type": "code",
   "execution_count": 31,
   "id": "18afeb77",
   "metadata": {},
   "outputs": [
    {
     "data": {
      "text/html": [
       "<table border='1'>\n",
       "<tr><th>member_id</th><th>delinq_2yrs</th><th>delinq_amnt</th><th>mths_since_last_delinq</th></tr>\n",
       "<tr><td>9cb79aa7323e81be1...</td><td>2</td><td>0.0</td><td>0</td></tr>\n",
       "<tr><td>aac68850fdac09fd0...</td><td>1</td><td>0.0</td><td>0</td></tr>\n",
       "<tr><td>c89986155a070db2e...</td><td>1</td><td>0.0</td><td>15</td></tr>\n",
       "<tr><td>4e1c30a5dfe9f1e20...</td><td>0</td><td>0.0</td><td>34</td></tr>\n",
       "<tr><td>1eef79a0e79b72c7a...</td><td>1</td><td>0.0</td><td>0</td></tr>\n",
       "<tr><td>ec1953dba2cfb89ad...</td><td>2</td><td>0.0</td><td>0</td></tr>\n",
       "<tr><td>3712c9da85e54b7b1...</td><td>1</td><td>0.0</td><td>0</td></tr>\n",
       "<tr><td>030e5c9c411c936c5...</td><td>2</td><td>0.0</td><td>0</td></tr>\n",
       "<tr><td>252736f8401b6b046...</td><td>2</td><td>0.0</td><td>0</td></tr>\n",
       "<tr><td>2d73c65a7b7d1a351...</td><td>1</td><td>0.0</td><td>0</td></tr>\n",
       "<tr><td>4c5cc017a06ad9cee...</td><td>1</td><td>0.0</td><td>0</td></tr>\n",
       "<tr><td>b2ae51f7010bda712...</td><td>2</td><td>0.0</td><td>0</td></tr>\n",
       "<tr><td>e3fda103b038638f2...</td><td>1</td><td>0.0</td><td>0</td></tr>\n",
       "<tr><td>c1553a3186575c87d...</td><td>2</td><td>0.0</td><td>0</td></tr>\n",
       "<tr><td>e889fe8e41d1fc74a...</td><td>1</td><td>0.0</td><td>0</td></tr>\n",
       "<tr><td>66f29d01599e4497e...</td><td>1</td><td>0.0</td><td>0</td></tr>\n",
       "<tr><td>8d52067d7d93c7ba1...</td><td>2</td><td>0.0</td><td>0</td></tr>\n",
       "<tr><td>aff24625c7c7a2108...</td><td>3</td><td>0.0</td><td>0</td></tr>\n",
       "<tr><td>60cf7ca69b4fc0b04...</td><td>2</td><td>0.0</td><td>0</td></tr>\n",
       "<tr><td>5b7cc2ef3ee4be20e...</td><td>1</td><td>0.0</td><td>0</td></tr>\n",
       "</table>\n",
       "only showing top 20 rows\n"
      ],
      "text/plain": [
       "+--------------------+-----------+-----------+----------------------+\n",
       "|           member_id|delinq_2yrs|delinq_amnt|mths_since_last_delinq|\n",
       "+--------------------+-----------+-----------+----------------------+\n",
       "|9cb79aa7323e81be1...|          2|        0.0|                     0|\n",
       "|aac68850fdac09fd0...|          1|        0.0|                     0|\n",
       "|c89986155a070db2e...|          1|        0.0|                    15|\n",
       "|4e1c30a5dfe9f1e20...|          0|        0.0|                    34|\n",
       "|1eef79a0e79b72c7a...|          1|        0.0|                     0|\n",
       "|ec1953dba2cfb89ad...|          2|        0.0|                     0|\n",
       "|3712c9da85e54b7b1...|          1|        0.0|                     0|\n",
       "|030e5c9c411c936c5...|          2|        0.0|                     0|\n",
       "|252736f8401b6b046...|          2|        0.0|                     0|\n",
       "|2d73c65a7b7d1a351...|          1|        0.0|                     0|\n",
       "|4c5cc017a06ad9cee...|          1|        0.0|                     0|\n",
       "|b2ae51f7010bda712...|          2|        0.0|                     0|\n",
       "|e3fda103b038638f2...|          1|        0.0|                     0|\n",
       "|c1553a3186575c87d...|          2|        0.0|                     0|\n",
       "|e889fe8e41d1fc74a...|          1|        0.0|                     0|\n",
       "|66f29d01599e4497e...|          1|        0.0|                     0|\n",
       "|8d52067d7d93c7ba1...|          2|        0.0|                     0|\n",
       "|aff24625c7c7a2108...|          3|        0.0|                     0|\n",
       "|60cf7ca69b4fc0b04...|          2|        0.0|                     0|\n",
       "|5b7cc2ef3ee4be20e...|          1|        0.0|                     0|\n",
       "+--------------------+-----------+-----------+----------------------+\n",
       "only showing top 20 rows"
      ]
     },
     "execution_count": 31,
     "metadata": {},
     "output_type": "execute_result"
    }
   ],
   "source": [
    "loans_defaulters_delinq_df"
   ]
  },
  {
   "cell_type": "code",
   "execution_count": 32,
   "id": "aa15a94c",
   "metadata": {},
   "outputs": [],
   "source": [
    "loans_defaulters_delinq_df.write \\\n",
    "    .format(\"parquet\") \\\n",
    "    .mode(\"overwrite\") \\\n",
    "    .option(\"path\",\"public/trendytech/lendingclubproject/cleaned_new/bad_data_loans_defaulters_delinq\") \\\n",
    "    .save()"
   ]
  },
  {
   "cell_type": "code",
   "execution_count": 34,
   "id": "b90bc4d6",
   "metadata": {},
   "outputs": [],
   "source": [
    "loans_defaulters_detail_rec_enq_df = spark.sql(\"\"\"select * from itv009198_lending_club.loans_defaulters_detail_records_enq \n",
    "where member_id NOT IN (select member_id from bad_data_customers)\"\"\")"
   ]
  },
  {
   "cell_type": "code",
   "execution_count": 35,
   "id": "52bc0667",
   "metadata": {},
   "outputs": [
    {
     "data": {
      "text/html": [
       "<table border='1'>\n",
       "<tr><th>member_id</th><th>pub_rec</th><th>pub_rec_bankruptcies</th><th>inq_last_6mths</th></tr>\n",
       "<tr><td>9cb79aa7323e81be1...</td><td>0</td><td>0</td><td>0</td></tr>\n",
       "<tr><td>0dd2bbc517e3c8f9e...</td><td>1</td><td>1</td><td>3</td></tr>\n",
       "<tr><td>458458599d3df3bfc...</td><td>1</td><td>1</td><td>1</td></tr>\n",
       "<tr><td>05ea141ec28b5c7f7...</td><td>0</td><td>0</td><td>0</td></tr>\n",
       "<tr><td>aac68850fdac09fd0...</td><td>0</td><td>0</td><td>0</td></tr>\n",
       "<tr><td>3a423e4589e89f429...</td><td>0</td><td>0</td><td>0</td></tr>\n",
       "<tr><td>f1efcf7dfbfef21be...</td><td>0</td><td>0</td><td>1</td></tr>\n",
       "<tr><td>c89986155a070db2e...</td><td>0</td><td>0</td><td>1</td></tr>\n",
       "<tr><td>118dc629b6e134419...</td><td>0</td><td>0</td><td>0</td></tr>\n",
       "<tr><td>a86fa4b7493708333...</td><td>0</td><td>0</td><td>0</td></tr>\n",
       "<tr><td>6e8d94bf446e97025...</td><td>0</td><td>0</td><td>0</td></tr>\n",
       "<tr><td>3de585156dc6b73f6...</td><td>0</td><td>0</td><td>0</td></tr>\n",
       "<tr><td>e88945f86a96f8d71...</td><td>0</td><td>0</td><td>1</td></tr>\n",
       "<tr><td>42f73fd8a01f1c475...</td><td>0</td><td>0</td><td>0</td></tr>\n",
       "<tr><td>c680bca32456530e6...</td><td>0</td><td>0</td><td>0</td></tr>\n",
       "<tr><td>3c36e35bcc0379690...</td><td>0</td><td>0</td><td>0</td></tr>\n",
       "<tr><td>4e1c30a5dfe9f1e20...</td><td>0</td><td>0</td><td>1</td></tr>\n",
       "<tr><td>1eef79a0e79b72c7a...</td><td>0</td><td>0</td><td>0</td></tr>\n",
       "<tr><td>89d42771f79636d22...</td><td>0</td><td>0</td><td>0</td></tr>\n",
       "<tr><td>1dd1d1b51473d4993...</td><td>0</td><td>0</td><td>0</td></tr>\n",
       "</table>\n",
       "only showing top 20 rows\n"
      ],
      "text/plain": [
       "+--------------------+-------+--------------------+--------------+\n",
       "|           member_id|pub_rec|pub_rec_bankruptcies|inq_last_6mths|\n",
       "+--------------------+-------+--------------------+--------------+\n",
       "|9cb79aa7323e81be1...|      0|                   0|             0|\n",
       "|0dd2bbc517e3c8f9e...|      1|                   1|             3|\n",
       "|458458599d3df3bfc...|      1|                   1|             1|\n",
       "|05ea141ec28b5c7f7...|      0|                   0|             0|\n",
       "|aac68850fdac09fd0...|      0|                   0|             0|\n",
       "|3a423e4589e89f429...|      0|                   0|             0|\n",
       "|f1efcf7dfbfef21be...|      0|                   0|             1|\n",
       "|c89986155a070db2e...|      0|                   0|             1|\n",
       "|118dc629b6e134419...|      0|                   0|             0|\n",
       "|a86fa4b7493708333...|      0|                   0|             0|\n",
       "|6e8d94bf446e97025...|      0|                   0|             0|\n",
       "|3de585156dc6b73f6...|      0|                   0|             0|\n",
       "|e88945f86a96f8d71...|      0|                   0|             1|\n",
       "|42f73fd8a01f1c475...|      0|                   0|             0|\n",
       "|c680bca32456530e6...|      0|                   0|             0|\n",
       "|3c36e35bcc0379690...|      0|                   0|             0|\n",
       "|4e1c30a5dfe9f1e20...|      0|                   0|             1|\n",
       "|1eef79a0e79b72c7a...|      0|                   0|             0|\n",
       "|89d42771f79636d22...|      0|                   0|             0|\n",
       "|1dd1d1b51473d4993...|      0|                   0|             0|\n",
       "+--------------------+-------+--------------------+--------------+\n",
       "only showing top 20 rows"
      ]
     },
     "execution_count": 35,
     "metadata": {},
     "output_type": "execute_result"
    }
   ],
   "source": [
    "loans_defaulters_detail_rec_enq_df"
   ]
  },
  {
   "cell_type": "code",
   "execution_count": 36,
   "id": "7d572fde",
   "metadata": {},
   "outputs": [],
   "source": [
    "loans_defaulters_detail_rec_enq_df.write \\\n",
    "    .format(\"parquet\") \\\n",
    "    .mode(\"overwrite\") \\\n",
    "    .option(\"path\",\"public/trendytech/lendingclubproject/cleaned_new/bad_data_loans_defaulters_detail_rec_enq\") \\\n",
    "    .save()"
   ]
  },
  {
   "cell_type": "code",
   "execution_count": 37,
   "id": "a9b30ac6",
   "metadata": {},
   "outputs": [
    {
     "data": {
      "text/html": [
       "<table border='1'>\n",
       "<tr><th></th></tr>\n",
       "</table>\n"
      ],
      "text/plain": [
       "++\n",
       "||\n",
       "++\n",
       "++"
      ]
     },
     "execution_count": 37,
     "metadata": {},
     "output_type": "execute_result"
    }
   ],
   "source": [
    "spark.sql(\"DROP TABLE IF EXISTS itv009198_lending_club.customers_new\")"
   ]
  },
  {
   "cell_type": "code",
   "execution_count": 38,
   "id": "55cb0cc4",
   "metadata": {},
   "outputs": [
    {
     "data": {
      "text/html": [
       "<table border='1'>\n",
       "<tr><th></th></tr>\n",
       "</table>\n"
      ],
      "text/plain": [
       "++\n",
       "||\n",
       "++\n",
       "++"
      ]
     },
     "execution_count": 38,
     "metadata": {},
     "output_type": "execute_result"
    }
   ],
   "source": [
    "spark.sql(\"\"\"CREATE EXTERNAL TABLE itv009198_lending_club.customers_new\n",
    "(member_id string,emp_title string,emp_length int,home_ownership string,annual_income float,address_state string,\n",
    "address_zipcode string,address_country string,grade string,sub_grade string,verification_status string,total_high_credit_limit float,\n",
    "application_type string,join_annual_income float,verification_status_joint string,ingest_data timestamp) stored as parquet\n",
    "LOCATION '/public/trendytech/lendingclubproject/cleaned_new/customers_parquet'\"\"\")"
   ]
  },
  {
   "cell_type": "code",
   "execution_count": 39,
   "id": "c97f64c9",
   "metadata": {},
   "outputs": [
    {
     "data": {
      "text/html": [
       "<table border='1'>\n",
       "<tr><th></th></tr>\n",
       "</table>\n"
      ],
      "text/plain": [
       "++\n",
       "||\n",
       "++\n",
       "++"
      ]
     },
     "execution_count": 39,
     "metadata": {},
     "output_type": "execute_result"
    }
   ],
   "source": [
    "spark.sql(\"DROP TABLE IF EXISTS itv009198_lending_club.loans_defaulters_delinq_new\")\n"
   ]
  },
  {
   "cell_type": "code",
   "execution_count": 40,
   "id": "872670fc",
   "metadata": {},
   "outputs": [
    {
     "data": {
      "text/html": [
       "<table border='1'>\n",
       "<tr><th></th></tr>\n",
       "</table>\n"
      ],
      "text/plain": [
       "++\n",
       "||\n",
       "++\n",
       "++"
      ]
     },
     "execution_count": 40,
     "metadata": {},
     "output_type": "execute_result"
    }
   ],
   "source": [
    "spark.sql(\"\"\"\n",
    "CREATE EXTERNAL TABLE itv009198_lending_club.loans_defaulters_delinq_new(\n",
    "    member_id STRING,\n",
    "    delinq_2yrs INTEGER,\n",
    "    delinq_amnt FLOAT,\n",
    "    mths_since_last_delinq INTEGER)\n",
    "STORED AS PARQUET\n",
    "LOCATION '/public/trendytech/lendingclubproject/cleaned_new/loan_defaulters_delinq_parquet'\"\"\")"
   ]
  },
  {
   "cell_type": "code",
   "execution_count": 41,
   "id": "393aab63",
   "metadata": {},
   "outputs": [
    {
     "data": {
      "text/html": [
       "<table border='1'>\n",
       "<tr><th></th></tr>\n",
       "</table>\n"
      ],
      "text/plain": [
       "++\n",
       "||\n",
       "++\n",
       "++"
      ]
     },
     "execution_count": 41,
     "metadata": {},
     "output_type": "execute_result"
    }
   ],
   "source": [
    "spark.sql(\"DROP TABLE IF EXISTS itv009198_lending_club.loans_defaulters_detail_records_enq_new\")"
   ]
  },
  {
   "cell_type": "code",
   "execution_count": 42,
   "id": "7a8fbe7e",
   "metadata": {},
   "outputs": [
    {
     "data": {
      "text/html": [
       "<table border='1'>\n",
       "<tr><th></th></tr>\n",
       "</table>\n"
      ],
      "text/plain": [
       "++\n",
       "||\n",
       "++\n",
       "++"
      ]
     },
     "execution_count": 42,
     "metadata": {},
     "output_type": "execute_result"
    }
   ],
   "source": [
    "spark.sql(\"\"\"CREATE EXTERNAL TABLE\n",
    "itv009198_lending_club.loans_defaulters_detail_records_enq_new(member_id\n",
    "string, pub_rec integer, pub_rec_bankruptcies integer, \n",
    "inq_last_6mths integer)stored as parquet\n",
    "LOCATION '/public/trendytech/lendingclubproject/cleaned_new/loan_defaulters_detail_rec_enq_parquet'\"\"\") "
   ]
  },
  {
   "cell_type": "code",
   "execution_count": 43,
   "id": "5075054e",
   "metadata": {},
   "outputs": [
    {
     "data": {
      "text/html": [
       "<table border='1'>\n",
       "<tr><th>member_id</th><th>total</th></tr>\n",
       "<tr><td>99765e1eb7b202ef0...</td><td>1</td></tr>\n",
       "<tr><td>572fe824e24be7fe4...</td><td>1</td></tr>\n",
       "<tr><td>27dd78ee234aa94e5...</td><td>1</td></tr>\n",
       "<tr><td>d6408ac006ac28700...</td><td>1</td></tr>\n",
       "<tr><td>c0e7230c83a4e9d90...</td><td>1</td></tr>\n",
       "<tr><td>e925bfd29e1fa6e46...</td><td>1</td></tr>\n",
       "<tr><td>21da2a3803bca759c...</td><td>1</td></tr>\n",
       "<tr><td>6f84d2d5eec1ba606...</td><td>1</td></tr>\n",
       "<tr><td>05d9afdff1d27d0bf...</td><td>1</td></tr>\n",
       "<tr><td>e53f46ea9d016b924...</td><td>1</td></tr>\n",
       "<tr><td>e0d78927f20ac94f3...</td><td>1</td></tr>\n",
       "<tr><td>4ff5947e8b458d804...</td><td>1</td></tr>\n",
       "<tr><td>1df6710e99f05d749...</td><td>1</td></tr>\n",
       "<tr><td>dee7398d97b514814...</td><td>1</td></tr>\n",
       "<tr><td>c3fc3ec652f478439...</td><td>1</td></tr>\n",
       "<tr><td>6a029bbe3709f8162...</td><td>1</td></tr>\n",
       "<tr><td>96611822a416e558e...</td><td>1</td></tr>\n",
       "<tr><td>7aa73af8828c855a1...</td><td>1</td></tr>\n",
       "<tr><td>51341747ba0999bbe...</td><td>1</td></tr>\n",
       "<tr><td>7531a5bdb85a74e0b...</td><td>1</td></tr>\n",
       "</table>\n",
       "only showing top 20 rows\n"
      ],
      "text/plain": [
       "+--------------------+-----+\n",
       "|           member_id|total|\n",
       "+--------------------+-----+\n",
       "|6cf5b731a2416f8b8...|    1|\n",
       "|b9ce5eca76c8f84ae...|    1|\n",
       "|bd815dc9d57babc8c...|    1|\n",
       "|491738555976b1fbe...|    1|\n",
       "|8afdf6e365f339147...|    1|\n",
       "|d8c7a3ffd60afcdef...|    1|\n",
       "|cb390e7716d181ddd...|    1|\n",
       "|15dfa5b4b112da9b7...|    1|\n",
       "|9f3adb2f65f4bb4ed...|    1|\n",
       "|f333b2f388bf95333...|    1|\n",
       "|fd5186656c2140f5d...|    1|\n",
       "|b5c0783cc23d39bb2...|    1|\n",
       "|31513348098f90f76...|    1|\n",
       "|4cc880541e9c39fac...|    1|\n",
       "|dbb8f50825496f12a...|    1|\n",
       "|dfbcfe61e914bc9d5...|    1|\n",
       "|e4d571b7dff91acd7...|    1|\n",
       "|e4c059a17957133d0...|    1|\n",
       "|122e93e7a41585d35...|    1|\n",
       "|6c4933f70374a9cc5...|    1|\n",
       "+--------------------+-----+\n",
       "only showing top 20 rows"
      ]
     },
     "execution_count": 43,
     "metadata": {},
     "output_type": "execute_result"
    }
   ],
   "source": [
    "spark.sql(\"select member_id, count(*) as total from itv009198_lending_club.customers_new group by member_id order by total desc\")"
   ]
  },
  {
   "cell_type": "code",
   "execution_count": null,
   "id": "7175b1a3",
   "metadata": {},
   "outputs": [],
   "source": []
  },
  {
   "cell_type": "code",
   "execution_count": null,
   "id": "52f496fc",
   "metadata": {},
   "outputs": [],
   "source": []
  },
  {
   "cell_type": "code",
   "execution_count": null,
   "id": "4ee8c4b3",
   "metadata": {},
   "outputs": [],
   "source": []
  },
  {
   "cell_type": "code",
   "execution_count": null,
   "id": "c2e21904",
   "metadata": {},
   "outputs": [],
   "source": []
  },
  {
   "cell_type": "code",
   "execution_count": null,
   "id": "28f392cd",
   "metadata": {},
   "outputs": [],
   "source": []
  }
 ],
 "metadata": {
  "kernelspec": {
   "display_name": "Pyspark 3",
   "language": "python",
   "name": "pyspark3"
  },
  "language_info": {
   "codemirror_mode": {
    "name": "ipython",
    "version": 3
   },
   "file_extension": ".py",
   "mimetype": "text/x-python",
   "name": "python",
   "nbconvert_exporter": "python",
   "pygments_lexer": "ipython3",
   "version": "3.6.12"
  }
 },
 "nbformat": 4,
 "nbformat_minor": 5
}
