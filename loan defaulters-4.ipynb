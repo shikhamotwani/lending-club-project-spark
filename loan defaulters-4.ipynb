{
 "cells": [
  {
   "cell_type": "code",
   "execution_count": 1,
   "id": "ae51cf5e",
   "metadata": {},
   "outputs": [],
   "source": [
    "from pyspark.sql import SparkSession\n",
    "import getpass \n",
    "username = getpass.getuser()\n",
    "spark = SparkSession. \\\n",
    "     builder. \\\n",
    "     config('spark.ui.port', '0'). \\\n",
    "     config(\"spark.sql.warehouse.dir\", f\"/user/itv009198/warehouse\"). \\\n",
    "     config('spark.shuffle.useOldFetchProtocol', 'true'). \\\n",
    "     enableHiveSupport(). \\\n",
    "     master('yarn'). \\\n",
    "     getOrCreate()"
   ]
  },
  {
   "cell_type": "code",
   "execution_count": 2,
   "id": "4447566f",
   "metadata": {},
   "outputs": [],
   "source": [
    "loans_def_raw_df = spark.read \\\n",
    ".format(\"csv\") \\\n",
    ".option(\"inferSchema\",\"true\") \\\n",
    ".option(\"header\",\"true\") \\\n",
    ".load(\"/public/trendytech/lendingclubproject/raw/loans_defaulters_csv\")"
   ]
  },
  {
   "cell_type": "code",
   "execution_count": 3,
   "id": "e062d0ba",
   "metadata": {},
   "outputs": [
    {
     "data": {
      "text/html": [
       "<table border='1'>\n",
       "<tr><th>member_id</th><th>delinq_2yrs</th><th>delinq_amnt</th><th>pub_rec</th><th>pub_rec_bankruptcies</th><th>inq_last_6mths</th><th>total_rec_late_fee</th><th>mths_since_last_delinq</th><th>mths_since_last_record</th></tr>\n",
       "<tr><td>9cb79aa7323e81be1...</td><td>2.0</td><td>0.0</td><td>0.0</td><td>0.0</td><td>0.0</td><td>0.0</td><td>11.0</td><td>null</td></tr>\n",
       "<tr><td>0dd2bbc517e3c8f9e...</td><td>0.0</td><td>0.0</td><td>1.0</td><td>1.0</td><td>3.0</td><td>0.0</td><td>null</td><td>115.0</td></tr>\n",
       "<tr><td>458458599d3df3bfc...</td><td>0.0</td><td>0.0</td><td>1.0</td><td>1.0</td><td>1.0</td><td>0.0</td><td>null</td><td>76.0</td></tr>\n",
       "<tr><td>05ea141ec28b5c7f7...</td><td>0.0</td><td>0.0</td><td>0.0</td><td>0.0</td><td>0.0</td><td>0.0</td><td>null</td><td>null</td></tr>\n",
       "<tr><td>aac68850fdac09fd0...</td><td>1.0</td><td>0.0</td><td>0.0</td><td>0.0</td><td>0.0</td><td>0.0</td><td>21.0</td><td>null</td></tr>\n",
       "<tr><td>3a423e4589e89f429...</td><td>0.0</td><td>0.0</td><td>0.0</td><td>0.0</td><td>0.0</td><td>0.0</td><td>null</td><td>null</td></tr>\n",
       "<tr><td>f1efcf7dfbfef21be...</td><td>0.0</td><td>0.0</td><td>0.0</td><td>0.0</td><td>1.0</td><td>0.0</td><td>null</td><td>null</td></tr>\n",
       "<tr><td>c89986155a070db2e...</td><td>1.0</td><td>0.0</td><td>0.0</td><td>0.0</td><td>1.0</td><td>15.0</td><td>5.0</td><td>null</td></tr>\n",
       "<tr><td>118dc629b6e134419...</td><td>0.0</td><td>0.0</td><td>0.0</td><td>0.0</td><td>0.0</td><td>0.0</td><td>null</td><td>null</td></tr>\n",
       "<tr><td>a86fa4b7493708333...</td><td>0.0</td><td>0.0</td><td>0.0</td><td>0.0</td><td>0.0</td><td>0.0</td><td>null</td><td>null</td></tr>\n",
       "<tr><td>6e8d94bf446e97025...</td><td>0.0</td><td>0.0</td><td>0.0</td><td>0.0</td><td>0.0</td><td>0.0</td><td>36.0</td><td>null</td></tr>\n",
       "<tr><td>3de585156dc6b73f6...</td><td>0.0</td><td>0.0</td><td>0.0</td><td>0.0</td><td>0.0</td><td>0.0</td><td>null</td><td>null</td></tr>\n",
       "<tr><td>e88945f86a96f8d71...</td><td>0.0</td><td>0.0</td><td>0.0</td><td>0.0</td><td>1.0</td><td>0.0</td><td>null</td><td>null</td></tr>\n",
       "<tr><td>42f73fd8a01f1c475...</td><td>0.0</td><td>0.0</td><td>0.0</td><td>0.0</td><td>0.0</td><td>0.0</td><td>46.0</td><td>null</td></tr>\n",
       "<tr><td>c680bca32456530e6...</td><td>0.0</td><td>0.0</td><td>0.0</td><td>0.0</td><td>0.0</td><td>0.0</td><td>null</td><td>null</td></tr>\n",
       "<tr><td>3c36e35bcc0379690...</td><td>0.0</td><td>0.0</td><td>0.0</td><td>0.0</td><td>0.0</td><td>0.0</td><td>null</td><td>null</td></tr>\n",
       "<tr><td>4e1c30a5dfe9f1e20...</td><td>0.0</td><td>0.0</td><td>0.0</td><td>0.0</td><td>1.0</td><td>34.68</td><td>null</td><td>null</td></tr>\n",
       "<tr><td>1eef79a0e79b72c7a...</td><td>1.0</td><td>0.0</td><td>0.0</td><td>0.0</td><td>0.0</td><td>0.0</td><td>21.0</td><td>null</td></tr>\n",
       "<tr><td>89d42771f79636d22...</td><td>0.0</td><td>0.0</td><td>0.0</td><td>0.0</td><td>0.0</td><td>0.0</td><td>null</td><td>null</td></tr>\n",
       "<tr><td>1dd1d1b51473d4993...</td><td>0.0</td><td>0.0</td><td>0.0</td><td>0.0</td><td>0.0</td><td>0.0</td><td>44.0</td><td>null</td></tr>\n",
       "</table>\n",
       "only showing top 20 rows\n"
      ],
      "text/plain": [
       "+--------------------+-----------+-----------+-------+--------------------+--------------+------------------+----------------------+----------------------+\n",
       "|           member_id|delinq_2yrs|delinq_amnt|pub_rec|pub_rec_bankruptcies|inq_last_6mths|total_rec_late_fee|mths_since_last_delinq|mths_since_last_record|\n",
       "+--------------------+-----------+-----------+-------+--------------------+--------------+------------------+----------------------+----------------------+\n",
       "|9cb79aa7323e81be1...|        2.0|        0.0|    0.0|                 0.0|           0.0|               0.0|                  11.0|                  null|\n",
       "|0dd2bbc517e3c8f9e...|        0.0|        0.0|    1.0|                 1.0|           3.0|               0.0|                  null|                 115.0|\n",
       "|458458599d3df3bfc...|        0.0|        0.0|    1.0|                 1.0|           1.0|               0.0|                  null|                  76.0|\n",
       "|05ea141ec28b5c7f7...|        0.0|        0.0|    0.0|                 0.0|           0.0|               0.0|                  null|                  null|\n",
       "|aac68850fdac09fd0...|        1.0|        0.0|    0.0|                 0.0|           0.0|               0.0|                  21.0|                  null|\n",
       "|3a423e4589e89f429...|        0.0|        0.0|    0.0|                 0.0|           0.0|               0.0|                  null|                  null|\n",
       "|f1efcf7dfbfef21be...|        0.0|        0.0|    0.0|                 0.0|           1.0|               0.0|                  null|                  null|\n",
       "|c89986155a070db2e...|        1.0|        0.0|    0.0|                 0.0|           1.0|              15.0|                   5.0|                  null|\n",
       "|118dc629b6e134419...|        0.0|        0.0|    0.0|                 0.0|           0.0|               0.0|                  null|                  null|\n",
       "|a86fa4b7493708333...|        0.0|        0.0|    0.0|                 0.0|           0.0|               0.0|                  null|                  null|\n",
       "|6e8d94bf446e97025...|        0.0|        0.0|    0.0|                 0.0|           0.0|               0.0|                  36.0|                  null|\n",
       "|3de585156dc6b73f6...|        0.0|        0.0|    0.0|                 0.0|           0.0|               0.0|                  null|                  null|\n",
       "|e88945f86a96f8d71...|        0.0|        0.0|    0.0|                 0.0|           1.0|               0.0|                  null|                  null|\n",
       "|42f73fd8a01f1c475...|        0.0|        0.0|    0.0|                 0.0|           0.0|               0.0|                  46.0|                  null|\n",
       "|c680bca32456530e6...|        0.0|        0.0|    0.0|                 0.0|           0.0|               0.0|                  null|                  null|\n",
       "|3c36e35bcc0379690...|        0.0|        0.0|    0.0|                 0.0|           0.0|               0.0|                  null|                  null|\n",
       "|4e1c30a5dfe9f1e20...|        0.0|        0.0|    0.0|                 0.0|           1.0|             34.68|                  null|                  null|\n",
       "|1eef79a0e79b72c7a...|        1.0|        0.0|    0.0|                 0.0|           0.0|               0.0|                  21.0|                  null|\n",
       "|89d42771f79636d22...|        0.0|        0.0|    0.0|                 0.0|           0.0|               0.0|                  null|                  null|\n",
       "|1dd1d1b51473d4993...|        0.0|        0.0|    0.0|                 0.0|           0.0|               0.0|                  44.0|                  null|\n",
       "+--------------------+-----------+-----------+-------+--------------------+--------------+------------------+----------------------+----------------------+\n",
       "only showing top 20 rows"
      ]
     },
     "execution_count": 3,
     "metadata": {},
     "output_type": "execute_result"
    }
   ],
   "source": [
    "loans_def_raw_df"
   ]
  },
  {
   "cell_type": "code",
   "execution_count": 4,
   "id": "3173a816",
   "metadata": {},
   "outputs": [
    {
     "name": "stdout",
     "output_type": "stream",
     "text": [
      "root\n",
      " |-- member_id: string (nullable = true)\n",
      " |-- delinq_2yrs: string (nullable = true)\n",
      " |-- delinq_amnt: double (nullable = true)\n",
      " |-- pub_rec: string (nullable = true)\n",
      " |-- pub_rec_bankruptcies: double (nullable = true)\n",
      " |-- inq_last_6mths: string (nullable = true)\n",
      " |-- total_rec_late_fee: string (nullable = true)\n",
      " |-- mths_since_last_delinq: string (nullable = true)\n",
      " |-- mths_since_last_record: string (nullable = true)\n",
      "\n"
     ]
    }
   ],
   "source": [
    "loans_def_raw_df.printSchema()"
   ]
  },
  {
   "cell_type": "code",
   "execution_count": 5,
   "id": "0861834b",
   "metadata": {},
   "outputs": [],
   "source": [
    "loans_def_raw_df.createOrReplaceTempView(\"loan_defaulters\")"
   ]
  },
  {
   "cell_type": "code",
   "execution_count": 6,
   "id": "1df493e8",
   "metadata": {},
   "outputs": [
    {
     "data": {
      "text/html": [
       "<table border='1'>\n",
       "<tr><th>delinq_2yrs</th></tr>\n",
       "<tr><td>1.0</td></tr>\n",
       "<tr><td>I bike to work on...</td></tr>\n",
       "<tr><td>271 monthly payme...</td></tr>\n",
       "<tr><td>183xx</td></tr>\n",
       "<tr><td>VISA and AMEX cre...</td></tr>\n",
       "<tr><td>etc. and I feel t...</td></tr>\n",
       "<tr><td>AZ</td></tr>\n",
       "<tr><td>017xx</td></tr>\n",
       "<tr><td>923xx</td></tr>\n",
       "<tr><td>446xx</td></tr>\n",
       "<tr><td>who is a financia...</td></tr>\n",
       "<tr><td>and all of that c...</td></tr>\n",
       "<tr><td>LA</td></tr>\n",
       "<tr><td>24.66</td></tr>\n",
       "<tr><td>and the removal o...</td></tr>\n",
       "<tr><td>I would like to c...</td></tr>\n",
       "<tr><td>12.24</td></tr>\n",
       "<tr><td>22.0</td></tr>\n",
       "<tr><td>so most of my inc...</td></tr>\n",
       "<tr><td>I would like to p...</td></tr>\n",
       "</table>\n",
       "only showing top 20 rows\n"
      ],
      "text/plain": [
       "+--------------------+\n",
       "|         delinq_2yrs|\n",
       "+--------------------+\n",
       "|                 1.0|\n",
       "|I bike to work on...|\n",
       "|271 monthly payme...|\n",
       "|               183xx|\n",
       "|VISA and AMEX cre...|\n",
       "|etc. and I feel t...|\n",
       "|                  AZ|\n",
       "|               017xx|\n",
       "|               923xx|\n",
       "|               446xx|\n",
       "|who is a financia...|\n",
       "|and all of that c...|\n",
       "|                  LA|\n",
       "|               24.66|\n",
       "|and the removal o...|\n",
       "|I would like to c...|\n",
       "|               12.24|\n",
       "|                22.0|\n",
       "|so most of my inc...|\n",
       "|I would like to p...|\n",
       "+--------------------+\n",
       "only showing top 20 rows"
      ]
     },
     "execution_count": 6,
     "metadata": {},
     "output_type": "execute_result"
    }
   ],
   "source": [
    "spark.sql(\"select distinct(delinq_2yrs)from loan_defaulters\")"
   ]
  },
  {
   "cell_type": "code",
   "execution_count": 7,
   "id": "05915337",
   "metadata": {},
   "outputs": [
    {
     "name": "stdout",
     "output_type": "stream",
     "text": [
      "+------------------+-------+\n",
      "|       delinq_2yrs|  total|\n",
      "+------------------+-------+\n",
      "|               0.0|1838878|\n",
      "|               1.0| 281335|\n",
      "|               2.0|  81285|\n",
      "|               3.0|  29539|\n",
      "|               4.0|  13179|\n",
      "|               5.0|   6599|\n",
      "|               6.0|   3717|\n",
      "|               7.0|   2062|\n",
      "|               8.0|   1223|\n",
      "|               9.0|    818|\n",
      "|              10.0|    556|\n",
      "|              11.0|    363|\n",
      "|              12.0|    264|\n",
      "|              13.0|    165|\n",
      "|              14.0|    120|\n",
      "|              15.0|     87|\n",
      "|              null|     63|\n",
      "|              16.0|     55|\n",
      "|              17.0|     30|\n",
      "|              18.0|     30|\n",
      "|              19.0|     23|\n",
      "|              20.0|     17|\n",
      "|              21.0|     12|\n",
      "|                CA|      8|\n",
      "|                TX|      6|\n",
      "|                IL|      5|\n",
      "|              22.0|      5|\n",
      "|debt_consolidation|      5|\n",
      "|    small_business|      5|\n",
      "|                FL|      4|\n",
      "|              24.0|      4|\n",
      "|             452xx|      3|\n",
      "|                NY|      3|\n",
      "|              26.0|      3|\n",
      "|                NJ|      3|\n",
      "|       credit_card|      2|\n",
      "|              29.0|      2|\n",
      "|              30.0|      2|\n",
      "|              25.0|      2|\n",
      "|             other|      2|\n",
      "+------------------+-------+\n",
      "only showing top 40 rows\n",
      "\n"
     ]
    }
   ],
   "source": [
    "spark.sql(\"select delinq_2yrs, count(*) as total from loan_defaulters group by delinq_2yrs order by total desc \").show(40)"
   ]
  },
  {
   "cell_type": "code",
   "execution_count": 8,
   "id": "f9f6d4b6",
   "metadata": {},
   "outputs": [],
   "source": [
    "loan_defaulters_schema = \"member_id string,delinq_2yrs float,delinq_amnt float,pub_rec float,pub_rec_bankruptcies float,inq_last_6mths float,total_rec_late_fee float,mths_since_last_delinq float,mths_since_last_record float\""
   ]
  },
  {
   "cell_type": "code",
   "execution_count": 9,
   "id": "7c970088",
   "metadata": {},
   "outputs": [],
   "source": [
    "loans_def_raw_df = spark.read \\\n",
    ".format(\"csv\") \\\n",
    ".option(\"header\", True) \\\n",
    ".schema(loan_defaulters_schema) \\\n",
    ".load(\"/public/trendytech/lendingclubproject/raw/loans_defaulters_csv\")"
   ]
  },
  {
   "cell_type": "code",
   "execution_count": 10,
   "id": "0b569254",
   "metadata": {},
   "outputs": [],
   "source": [
    "loans_def_raw_df.createOrReplaceTempView(\"loan_defaulters\")"
   ]
  },
  {
   "cell_type": "code",
   "execution_count": 11,
   "id": "e5996b98",
   "metadata": {},
   "outputs": [
    {
     "name": "stdout",
     "output_type": "stream",
     "text": [
      "+-----------+-------+\n",
      "|delinq_2yrs|  total|\n",
      "+-----------+-------+\n",
      "|        0.0|1838878|\n",
      "|        1.0| 281335|\n",
      "|        2.0|  81285|\n",
      "|        3.0|  29539|\n",
      "|        4.0|  13179|\n",
      "|        5.0|   6599|\n",
      "|        6.0|   3717|\n",
      "|        7.0|   2062|\n",
      "|        8.0|   1223|\n",
      "|        9.0|    818|\n",
      "|       10.0|    556|\n",
      "|       11.0|    363|\n",
      "|       12.0|    264|\n",
      "|       null|    261|\n",
      "|       13.0|    165|\n",
      "|       14.0|    120|\n",
      "|       15.0|     87|\n",
      "|       16.0|     55|\n",
      "|       17.0|     30|\n",
      "|       18.0|     30|\n",
      "|       19.0|     23|\n",
      "|       20.0|     17|\n",
      "|       21.0|     12|\n",
      "|       22.0|      5|\n",
      "|       24.0|      4|\n",
      "|       26.0|      3|\n",
      "|       25.0|      2|\n",
      "|       29.0|      2|\n",
      "|       3.44|      2|\n",
      "|       23.0|      2|\n",
      "|       30.0|      2|\n",
      "|      10.92|      1|\n",
      "|       58.0|      1|\n",
      "|      18.53|      1|\n",
      "|       1.41|      1|\n",
      "|      26.24|      1|\n",
      "|       6.52|      1|\n",
      "|       5.52|      1|\n",
      "|      17.18|      1|\n",
      "|       9.44|      1|\n",
      "+-----------+-------+\n",
      "only showing top 40 rows\n",
      "\n"
     ]
    }
   ],
   "source": [
    "spark.sql(\"select delinq_2yrs, count(*) as total from loan_defaulters group by delinq_2yrs order by total desc \").show(40)"
   ]
  },
  {
   "cell_type": "code",
   "execution_count": 12,
   "id": "a904fa66",
   "metadata": {},
   "outputs": [],
   "source": [
    "from pyspark.sql.functions import col"
   ]
  },
  {
   "cell_type": "code",
   "execution_count": 13,
   "id": "8b17b90d",
   "metadata": {},
   "outputs": [],
   "source": [
    "loans_def_processed_df = loans_def_raw_df.withColumn(\"delinq_2yrs\", col(\"delinq_2yrs\").cast(\"integer\")).fillna(0, subset=[\"delinq_2yrs\"])\n"
   ]
  },
  {
   "cell_type": "code",
   "execution_count": 14,
   "id": "0c102c9a",
   "metadata": {},
   "outputs": [],
   "source": [
    "loans_def_processed_df.createOrReplaceTempView(\"loan_defaulters\")"
   ]
  },
  {
   "cell_type": "code",
   "execution_count": 15,
   "id": "e30e9317",
   "metadata": {},
   "outputs": [
    {
     "data": {
      "text/html": [
       "<table border='1'>\n",
       "<tr><th>count(1)</th></tr>\n",
       "<tr><td>0</td></tr>\n",
       "</table>\n"
      ],
      "text/plain": [
       "+--------+\n",
       "|count(1)|\n",
       "+--------+\n",
       "|       0|\n",
       "+--------+"
      ]
     },
     "execution_count": 15,
     "metadata": {},
     "output_type": "execute_result"
    }
   ],
   "source": [
    "spark.sql(\"select count(*) from loan_defaulters where delinq_2yrs is null\")"
   ]
  },
  {
   "cell_type": "code",
   "execution_count": 16,
   "id": "769f4e52",
   "metadata": {},
   "outputs": [
    {
     "name": "stdout",
     "output_type": "stream",
     "text": [
      "+-----------+-------+\n",
      "|delinq_2yrs|  total|\n",
      "+-----------+-------+\n",
      "|          0|1839141|\n",
      "|          1| 281337|\n",
      "|          2|  81285|\n",
      "|          3|  29545|\n",
      "|          4|  13180|\n",
      "|          5|   6601|\n",
      "|          6|   3719|\n",
      "|          7|   2063|\n",
      "|          8|   1226|\n",
      "|          9|    821|\n",
      "|         10|    558|\n",
      "|         11|    363|\n",
      "|         12|    266|\n",
      "|         13|    167|\n",
      "|         14|    123|\n",
      "|         15|     90|\n",
      "|         16|     56|\n",
      "|         17|     33|\n",
      "|         18|     32|\n",
      "|         19|     24|\n",
      "|         20|     19|\n",
      "|         21|     16|\n",
      "|         22|      7|\n",
      "|         24|      6|\n",
      "|         23|      5|\n",
      "|         26|      4|\n",
      "|         25|      2|\n",
      "|         30|      2|\n",
      "|         29|      2|\n",
      "|         27|      1|\n",
      "|         35|      1|\n",
      "|         28|      1|\n",
      "|         42|      1|\n",
      "|         39|      1|\n",
      "|         32|      1|\n",
      "|         36|      1|\n",
      "|         58|      1|\n",
      "+-----------+-------+\n",
      "\n"
     ]
    }
   ],
   "source": [
    "spark.sql(\"select delinq_2yrs, count(*) as total from loan_defaulters group by delinq_2yrs order by total desc \").show(40)"
   ]
  },
  {
   "cell_type": "code",
   "execution_count": 17,
   "id": "5bbf9829",
   "metadata": {},
   "outputs": [],
   "source": [
    "loans_def_delinq_df = spark.sql(\"select member_id, delinq_2yrs, delinq_amnt, int(mths_since_last_delinq) from loan_defaulters where delinq_2yrs > 0.0 or mths_since_last_delinq > 0.0\")\n"
   ]
  },
  {
   "cell_type": "code",
   "execution_count": 18,
   "id": "77030e2b",
   "metadata": {},
   "outputs": [
    {
     "data": {
      "text/html": [
       "<table border='1'>\n",
       "<tr><th>member_id</th><th>delinq_2yrs</th><th>delinq_amnt</th><th>mths_since_last_delinq</th></tr>\n",
       "<tr><td>9cb79aa7323e81be1...</td><td>2</td><td>0.0</td><td>11</td></tr>\n",
       "<tr><td>aac68850fdac09fd0...</td><td>1</td><td>0.0</td><td>21</td></tr>\n",
       "<tr><td>c89986155a070db2e...</td><td>1</td><td>0.0</td><td>5</td></tr>\n",
       "<tr><td>6e8d94bf446e97025...</td><td>0</td><td>0.0</td><td>36</td></tr>\n",
       "<tr><td>42f73fd8a01f1c475...</td><td>0</td><td>0.0</td><td>46</td></tr>\n",
       "<tr><td>1eef79a0e79b72c7a...</td><td>1</td><td>0.0</td><td>21</td></tr>\n",
       "<tr><td>1dd1d1b51473d4993...</td><td>0</td><td>0.0</td><td>44</td></tr>\n",
       "<tr><td>ec1953dba2cfb89ad...</td><td>2</td><td>0.0</td><td>13</td></tr>\n",
       "<tr><td>8241a6bb3a9350fb8...</td><td>0</td><td>0.0</td><td>57</td></tr>\n",
       "<tr><td>cdc94fa1c29a6a70a...</td><td>0</td><td>0.0</td><td>44</td></tr>\n",
       "<tr><td>3712c9da85e54b7b1...</td><td>1</td><td>0.0</td><td>19</td></tr>\n",
       "<tr><td>6ebc82410b3dc9dcb...</td><td>0</td><td>0.0</td><td>43</td></tr>\n",
       "<tr><td>d25f6d6da5a92a401...</td><td>0</td><td>0.0</td><td>45</td></tr>\n",
       "<tr><td>657a760b1d52967fb...</td><td>0</td><td>0.0</td><td>36</td></tr>\n",
       "<tr><td>030e5c9c411c936c5...</td><td>2</td><td>0.0</td><td>6</td></tr>\n",
       "<tr><td>7fd6a504a6486e061...</td><td>0</td><td>0.0</td><td>45</td></tr>\n",
       "<tr><td>a67f439593858be7c...</td><td>0</td><td>0.0</td><td>28</td></tr>\n",
       "<tr><td>252736f8401b6b046...</td><td>2</td><td>0.0</td><td>5</td></tr>\n",
       "<tr><td>bf7c24ada32d968a6...</td><td>0</td><td>0.0</td><td>49</td></tr>\n",
       "<tr><td>a36b7198a8d922b0c...</td><td>0</td><td>0.0</td><td>75</td></tr>\n",
       "</table>\n",
       "only showing top 20 rows\n"
      ],
      "text/plain": [
       "+--------------------+-----------+-----------+----------------------+\n",
       "|           member_id|delinq_2yrs|delinq_amnt|mths_since_last_delinq|\n",
       "+--------------------+-----------+-----------+----------------------+\n",
       "|9cb79aa7323e81be1...|          2|        0.0|                    11|\n",
       "|aac68850fdac09fd0...|          1|        0.0|                    21|\n",
       "|c89986155a070db2e...|          1|        0.0|                     5|\n",
       "|6e8d94bf446e97025...|          0|        0.0|                    36|\n",
       "|42f73fd8a01f1c475...|          0|        0.0|                    46|\n",
       "|1eef79a0e79b72c7a...|          1|        0.0|                    21|\n",
       "|1dd1d1b51473d4993...|          0|        0.0|                    44|\n",
       "|ec1953dba2cfb89ad...|          2|        0.0|                    13|\n",
       "|8241a6bb3a9350fb8...|          0|        0.0|                    57|\n",
       "|cdc94fa1c29a6a70a...|          0|        0.0|                    44|\n",
       "|3712c9da85e54b7b1...|          1|        0.0|                    19|\n",
       "|6ebc82410b3dc9dcb...|          0|        0.0|                    43|\n",
       "|d25f6d6da5a92a401...|          0|        0.0|                    45|\n",
       "|657a760b1d52967fb...|          0|        0.0|                    36|\n",
       "|030e5c9c411c936c5...|          2|        0.0|                     6|\n",
       "|7fd6a504a6486e061...|          0|        0.0|                    45|\n",
       "|a67f439593858be7c...|          0|        0.0|                    28|\n",
       "|252736f8401b6b046...|          2|        0.0|                     5|\n",
       "|bf7c24ada32d968a6...|          0|        0.0|                    49|\n",
       "|a36b7198a8d922b0c...|          0|        0.0|                    75|\n",
       "+--------------------+-----------+-----------+----------------------+\n",
       "only showing top 20 rows"
      ]
     },
     "execution_count": 18,
     "metadata": {},
     "output_type": "execute_result"
    }
   ],
   "source": [
    "loans_def_delinq_df"
   ]
  },
  {
   "cell_type": "code",
   "execution_count": 19,
   "id": "b8bb4f3f",
   "metadata": {},
   "outputs": [],
   "source": [
    "loans_def_record_enq_df = spark.sql(\"select member_id from loan_defaulters where pub_rec > 0.0 or pub_rec_bankruptcies > 0.0 or inq_last_6mths > 0.0\")"
   ]
  },
  {
   "cell_type": "code",
   "execution_count": 20,
   "id": "f3544dd1",
   "metadata": {},
   "outputs": [
    {
     "data": {
      "text/html": [
       "<table border='1'>\n",
       "<tr><th>member_id</th></tr>\n",
       "<tr><td>0dd2bbc517e3c8f9e...</td></tr>\n",
       "<tr><td>458458599d3df3bfc...</td></tr>\n",
       "<tr><td>f1efcf7dfbfef21be...</td></tr>\n",
       "<tr><td>c89986155a070db2e...</td></tr>\n",
       "<tr><td>e88945f86a96f8d71...</td></tr>\n",
       "<tr><td>4e1c30a5dfe9f1e20...</td></tr>\n",
       "<tr><td>76cbefe31f7834f47...</td></tr>\n",
       "<tr><td>47d002f59a274c6f2...</td></tr>\n",
       "<tr><td>09a1c6855801dad88...</td></tr>\n",
       "<tr><td>56d4375718ad6940d...</td></tr>\n",
       "<tr><td>6ebc82410b3dc9dcb...</td></tr>\n",
       "<tr><td>41a307b3c2c66aad8...</td></tr>\n",
       "<tr><td>d168c599b8aea3c0b...</td></tr>\n",
       "<tr><td>657a760b1d52967fb...</td></tr>\n",
       "<tr><td>b7d9da217c8256cfd...</td></tr>\n",
       "<tr><td>a67f439593858be7c...</td></tr>\n",
       "<tr><td>3a4aac093cddcdb0c...</td></tr>\n",
       "<tr><td>23bb4e7a5ed15c1fc...</td></tr>\n",
       "<tr><td>0b55b1efb75760dc3...</td></tr>\n",
       "<tr><td>04eedd3c6357df852...</td></tr>\n",
       "</table>\n",
       "only showing top 20 rows\n"
      ],
      "text/plain": [
       "+--------------------+\n",
       "|           member_id|\n",
       "+--------------------+\n",
       "|0dd2bbc517e3c8f9e...|\n",
       "|458458599d3df3bfc...|\n",
       "|f1efcf7dfbfef21be...|\n",
       "|c89986155a070db2e...|\n",
       "|e88945f86a96f8d71...|\n",
       "|4e1c30a5dfe9f1e20...|\n",
       "|76cbefe31f7834f47...|\n",
       "|47d002f59a274c6f2...|\n",
       "|09a1c6855801dad88...|\n",
       "|56d4375718ad6940d...|\n",
       "|6ebc82410b3dc9dcb...|\n",
       "|41a307b3c2c66aad8...|\n",
       "|d168c599b8aea3c0b...|\n",
       "|657a760b1d52967fb...|\n",
       "|b7d9da217c8256cfd...|\n",
       "|a67f439593858be7c...|\n",
       "|3a4aac093cddcdb0c...|\n",
       "|23bb4e7a5ed15c1fc...|\n",
       "|0b55b1efb75760dc3...|\n",
       "|04eedd3c6357df852...|\n",
       "+--------------------+\n",
       "only showing top 20 rows"
      ]
     },
     "execution_count": 20,
     "metadata": {},
     "output_type": "execute_result"
    }
   ],
   "source": [
    "loans_def_record_enq_df"
   ]
  },
  {
   "cell_type": "code",
   "execution_count": 21,
   "id": "efdb93fa",
   "metadata": {},
   "outputs": [],
   "source": [
    "loans_def_delinq_df.write \\\n",
    "    .option(\"header\", True) \\\n",
    "    .format(\"csv\") \\\n",
    "    .mode(\"overwrite\") \\\n",
    "    .option(\"path\",\"public/trendytech/datasets/lendingclubproject/cleaned/loans_defaulters_delinq_csv\") \\\n",
    "    .save()"
   ]
  },
  {
   "cell_type": "code",
   "execution_count": 22,
   "id": "4c2ca07d",
   "metadata": {},
   "outputs": [
    {
     "data": {
      "text/html": [
       "<table border='1'>\n",
       "<tr><th>member_id</th><th>delinq_2yrs</th><th>delinq_amnt</th><th>mths_since_last_delinq</th></tr>\n",
       "<tr><td>9cb79aa7323e81be1...</td><td>2</td><td>0.0</td><td>11</td></tr>\n",
       "<tr><td>aac68850fdac09fd0...</td><td>1</td><td>0.0</td><td>21</td></tr>\n",
       "<tr><td>c89986155a070db2e...</td><td>1</td><td>0.0</td><td>5</td></tr>\n",
       "<tr><td>6e8d94bf446e97025...</td><td>0</td><td>0.0</td><td>36</td></tr>\n",
       "<tr><td>42f73fd8a01f1c475...</td><td>0</td><td>0.0</td><td>46</td></tr>\n",
       "<tr><td>1eef79a0e79b72c7a...</td><td>1</td><td>0.0</td><td>21</td></tr>\n",
       "<tr><td>1dd1d1b51473d4993...</td><td>0</td><td>0.0</td><td>44</td></tr>\n",
       "<tr><td>ec1953dba2cfb89ad...</td><td>2</td><td>0.0</td><td>13</td></tr>\n",
       "<tr><td>8241a6bb3a9350fb8...</td><td>0</td><td>0.0</td><td>57</td></tr>\n",
       "<tr><td>cdc94fa1c29a6a70a...</td><td>0</td><td>0.0</td><td>44</td></tr>\n",
       "<tr><td>3712c9da85e54b7b1...</td><td>1</td><td>0.0</td><td>19</td></tr>\n",
       "<tr><td>6ebc82410b3dc9dcb...</td><td>0</td><td>0.0</td><td>43</td></tr>\n",
       "<tr><td>d25f6d6da5a92a401...</td><td>0</td><td>0.0</td><td>45</td></tr>\n",
       "<tr><td>657a760b1d52967fb...</td><td>0</td><td>0.0</td><td>36</td></tr>\n",
       "<tr><td>030e5c9c411c936c5...</td><td>2</td><td>0.0</td><td>6</td></tr>\n",
       "<tr><td>7fd6a504a6486e061...</td><td>0</td><td>0.0</td><td>45</td></tr>\n",
       "<tr><td>a67f439593858be7c...</td><td>0</td><td>0.0</td><td>28</td></tr>\n",
       "<tr><td>252736f8401b6b046...</td><td>2</td><td>0.0</td><td>5</td></tr>\n",
       "<tr><td>bf7c24ada32d968a6...</td><td>0</td><td>0.0</td><td>49</td></tr>\n",
       "<tr><td>a36b7198a8d922b0c...</td><td>0</td><td>0.0</td><td>75</td></tr>\n",
       "</table>\n",
       "only showing top 20 rows\n"
      ],
      "text/plain": [
       "DataFrame[member_id: string, delinq_2yrs: int, delinq_amnt: float, mths_since_last_delinq: int]"
      ]
     },
     "execution_count": 22,
     "metadata": {},
     "output_type": "execute_result"
    }
   ],
   "source": [
    "loans_def_delinq_df"
   ]
  },
  {
   "cell_type": "code",
   "execution_count": 23,
   "id": "86015e5b",
   "metadata": {},
   "outputs": [],
   "source": [
    "loans_def_delinq_df.write \\\n",
    ".option(\"header\", True) \\\n",
    ".format(\"parquet\") \\\n",
    ".mode(\"overwrite\") \\\n",
    ".option(\"path\",\"public/trendytech/datasets/lendingclubproject/cleaned/loans_defaulters_delinq_parquet\") \\\n",
    ".save()"
   ]
  },
  {
   "cell_type": "code",
   "execution_count": 24,
   "id": "37baf502",
   "metadata": {},
   "outputs": [
    {
     "data": {
      "text/html": [
       "<table border='1'>\n",
       "<tr><th>member_id</th><th>delinq_2yrs</th><th>delinq_amnt</th><th>mths_since_last_delinq</th></tr>\n",
       "<tr><td>9cb79aa7323e81be1...</td><td>2</td><td>0.0</td><td>11</td></tr>\n",
       "<tr><td>aac68850fdac09fd0...</td><td>1</td><td>0.0</td><td>21</td></tr>\n",
       "<tr><td>c89986155a070db2e...</td><td>1</td><td>0.0</td><td>5</td></tr>\n",
       "<tr><td>6e8d94bf446e97025...</td><td>0</td><td>0.0</td><td>36</td></tr>\n",
       "<tr><td>42f73fd8a01f1c475...</td><td>0</td><td>0.0</td><td>46</td></tr>\n",
       "<tr><td>1eef79a0e79b72c7a...</td><td>1</td><td>0.0</td><td>21</td></tr>\n",
       "<tr><td>1dd1d1b51473d4993...</td><td>0</td><td>0.0</td><td>44</td></tr>\n",
       "<tr><td>ec1953dba2cfb89ad...</td><td>2</td><td>0.0</td><td>13</td></tr>\n",
       "<tr><td>8241a6bb3a9350fb8...</td><td>0</td><td>0.0</td><td>57</td></tr>\n",
       "<tr><td>cdc94fa1c29a6a70a...</td><td>0</td><td>0.0</td><td>44</td></tr>\n",
       "<tr><td>3712c9da85e54b7b1...</td><td>1</td><td>0.0</td><td>19</td></tr>\n",
       "<tr><td>6ebc82410b3dc9dcb...</td><td>0</td><td>0.0</td><td>43</td></tr>\n",
       "<tr><td>d25f6d6da5a92a401...</td><td>0</td><td>0.0</td><td>45</td></tr>\n",
       "<tr><td>657a760b1d52967fb...</td><td>0</td><td>0.0</td><td>36</td></tr>\n",
       "<tr><td>030e5c9c411c936c5...</td><td>2</td><td>0.0</td><td>6</td></tr>\n",
       "<tr><td>7fd6a504a6486e061...</td><td>0</td><td>0.0</td><td>45</td></tr>\n",
       "<tr><td>a67f439593858be7c...</td><td>0</td><td>0.0</td><td>28</td></tr>\n",
       "<tr><td>252736f8401b6b046...</td><td>2</td><td>0.0</td><td>5</td></tr>\n",
       "<tr><td>bf7c24ada32d968a6...</td><td>0</td><td>0.0</td><td>49</td></tr>\n",
       "<tr><td>a36b7198a8d922b0c...</td><td>0</td><td>0.0</td><td>75</td></tr>\n",
       "</table>\n",
       "only showing top 20 rows\n"
      ],
      "text/plain": [
       "DataFrame[member_id: string, delinq_2yrs: int, delinq_amnt: float, mths_since_last_delinq: int]"
      ]
     },
     "execution_count": 24,
     "metadata": {},
     "output_type": "execute_result"
    }
   ],
   "source": [
    "loans_def_delinq_df"
   ]
  },
  {
   "cell_type": "code",
   "execution_count": 25,
   "id": "fd4fbf74",
   "metadata": {},
   "outputs": [
    {
     "data": {
      "text/html": [
       "<table border='1'>\n",
       "<tr><th>member_id</th><th>delinq_2yrs</th><th>delinq_amnt</th><th>mths_since_last_delinq</th></tr>\n",
       "<tr><td>9cb79aa7323e81be1...</td><td>2</td><td>0.0</td><td>11</td></tr>\n",
       "<tr><td>aac68850fdac09fd0...</td><td>1</td><td>0.0</td><td>21</td></tr>\n",
       "<tr><td>c89986155a070db2e...</td><td>1</td><td>0.0</td><td>5</td></tr>\n",
       "<tr><td>6e8d94bf446e97025...</td><td>0</td><td>0.0</td><td>36</td></tr>\n",
       "<tr><td>42f73fd8a01f1c475...</td><td>0</td><td>0.0</td><td>46</td></tr>\n",
       "<tr><td>1eef79a0e79b72c7a...</td><td>1</td><td>0.0</td><td>21</td></tr>\n",
       "<tr><td>1dd1d1b51473d4993...</td><td>0</td><td>0.0</td><td>44</td></tr>\n",
       "<tr><td>ec1953dba2cfb89ad...</td><td>2</td><td>0.0</td><td>13</td></tr>\n",
       "<tr><td>8241a6bb3a9350fb8...</td><td>0</td><td>0.0</td><td>57</td></tr>\n",
       "<tr><td>cdc94fa1c29a6a70a...</td><td>0</td><td>0.0</td><td>44</td></tr>\n",
       "<tr><td>3712c9da85e54b7b1...</td><td>1</td><td>0.0</td><td>19</td></tr>\n",
       "<tr><td>6ebc82410b3dc9dcb...</td><td>0</td><td>0.0</td><td>43</td></tr>\n",
       "<tr><td>d25f6d6da5a92a401...</td><td>0</td><td>0.0</td><td>45</td></tr>\n",
       "<tr><td>657a760b1d52967fb...</td><td>0</td><td>0.0</td><td>36</td></tr>\n",
       "<tr><td>030e5c9c411c936c5...</td><td>2</td><td>0.0</td><td>6</td></tr>\n",
       "<tr><td>7fd6a504a6486e061...</td><td>0</td><td>0.0</td><td>45</td></tr>\n",
       "<tr><td>a67f439593858be7c...</td><td>0</td><td>0.0</td><td>28</td></tr>\n",
       "<tr><td>252736f8401b6b046...</td><td>2</td><td>0.0</td><td>5</td></tr>\n",
       "<tr><td>bf7c24ada32d968a6...</td><td>0</td><td>0.0</td><td>49</td></tr>\n",
       "<tr><td>a36b7198a8d922b0c...</td><td>0</td><td>0.0</td><td>75</td></tr>\n",
       "</table>\n",
       "only showing top 20 rows\n"
      ],
      "text/plain": [
       "DataFrame[member_id: string, delinq_2yrs: int, delinq_amnt: float, mths_since_last_delinq: int]"
      ]
     },
     "execution_count": 25,
     "metadata": {},
     "output_type": "execute_result"
    }
   ],
   "source": [
    "loans_def_delinq_df"
   ]
  },
  {
   "cell_type": "code",
   "execution_count": 26,
   "id": "190773c6",
   "metadata": {},
   "outputs": [],
   "source": [
    "loans_def_record_enq_df.write \\\n",
    ".option(\"header\", True) \\\n",
    ".format(\"csv\") \\\n",
    ".mode(\"overwrite\") \\\n",
    ".option(\"path\",\"public/trendytech/datasets/lendingclubproject/cleaned/loans_defaulters_records_enq_csv\") \\\n",
    ".save()"
   ]
  },
  {
   "cell_type": "code",
   "execution_count": 27,
   "id": "0e8e1571",
   "metadata": {},
   "outputs": [
    {
     "data": {
      "text/html": [
       "<table border='1'>\n",
       "<tr><th>member_id</th></tr>\n",
       "<tr><td>0dd2bbc517e3c8f9e...</td></tr>\n",
       "<tr><td>458458599d3df3bfc...</td></tr>\n",
       "<tr><td>f1efcf7dfbfef21be...</td></tr>\n",
       "<tr><td>c89986155a070db2e...</td></tr>\n",
       "<tr><td>e88945f86a96f8d71...</td></tr>\n",
       "<tr><td>4e1c30a5dfe9f1e20...</td></tr>\n",
       "<tr><td>76cbefe31f7834f47...</td></tr>\n",
       "<tr><td>47d002f59a274c6f2...</td></tr>\n",
       "<tr><td>09a1c6855801dad88...</td></tr>\n",
       "<tr><td>56d4375718ad6940d...</td></tr>\n",
       "<tr><td>6ebc82410b3dc9dcb...</td></tr>\n",
       "<tr><td>41a307b3c2c66aad8...</td></tr>\n",
       "<tr><td>d168c599b8aea3c0b...</td></tr>\n",
       "<tr><td>657a760b1d52967fb...</td></tr>\n",
       "<tr><td>b7d9da217c8256cfd...</td></tr>\n",
       "<tr><td>a67f439593858be7c...</td></tr>\n",
       "<tr><td>3a4aac093cddcdb0c...</td></tr>\n",
       "<tr><td>23bb4e7a5ed15c1fc...</td></tr>\n",
       "<tr><td>0b55b1efb75760dc3...</td></tr>\n",
       "<tr><td>04eedd3c6357df852...</td></tr>\n",
       "</table>\n",
       "only showing top 20 rows\n"
      ],
      "text/plain": [
       "DataFrame[member_id: string]"
      ]
     },
     "execution_count": 27,
     "metadata": {},
     "output_type": "execute_result"
    }
   ],
   "source": [
    "loans_def_record_enq_df"
   ]
  },
  {
   "cell_type": "code",
   "execution_count": 28,
   "id": "43e8cbec",
   "metadata": {},
   "outputs": [],
   "source": [
    "loans_def_record_enq_df.write \\\n",
    ".option(\"header\", True) \\\n",
    ".format(\"parquet\") \\\n",
    ".mode(\"overwrite\") \\\n",
    ".option(\"path\",\"public/trendytech/datasets/lendingclubproject/cleaned/loans_defaulters_records_enq_parquet\") \\\n",
    ".save()"
   ]
  },
  {
   "cell_type": "code",
   "execution_count": 29,
   "id": "983ddba2",
   "metadata": {},
   "outputs": [
    {
     "data": {
      "text/html": [
       "<table border='1'>\n",
       "<tr><th>member_id</th></tr>\n",
       "<tr><td>0dd2bbc517e3c8f9e...</td></tr>\n",
       "<tr><td>458458599d3df3bfc...</td></tr>\n",
       "<tr><td>f1efcf7dfbfef21be...</td></tr>\n",
       "<tr><td>c89986155a070db2e...</td></tr>\n",
       "<tr><td>e88945f86a96f8d71...</td></tr>\n",
       "<tr><td>4e1c30a5dfe9f1e20...</td></tr>\n",
       "<tr><td>76cbefe31f7834f47...</td></tr>\n",
       "<tr><td>47d002f59a274c6f2...</td></tr>\n",
       "<tr><td>09a1c6855801dad88...</td></tr>\n",
       "<tr><td>56d4375718ad6940d...</td></tr>\n",
       "<tr><td>6ebc82410b3dc9dcb...</td></tr>\n",
       "<tr><td>41a307b3c2c66aad8...</td></tr>\n",
       "<tr><td>d168c599b8aea3c0b...</td></tr>\n",
       "<tr><td>657a760b1d52967fb...</td></tr>\n",
       "<tr><td>b7d9da217c8256cfd...</td></tr>\n",
       "<tr><td>a67f439593858be7c...</td></tr>\n",
       "<tr><td>3a4aac093cddcdb0c...</td></tr>\n",
       "<tr><td>23bb4e7a5ed15c1fc...</td></tr>\n",
       "<tr><td>0b55b1efb75760dc3...</td></tr>\n",
       "<tr><td>04eedd3c6357df852...</td></tr>\n",
       "</table>\n",
       "only showing top 20 rows\n"
      ],
      "text/plain": [
       "DataFrame[member_id: string]"
      ]
     },
     "execution_count": 29,
     "metadata": {},
     "output_type": "execute_result"
    }
   ],
   "source": [
    "loans_def_record_enq_df"
   ]
  },
  {
   "cell_type": "code",
   "execution_count": 30,
   "id": "e2f60992",
   "metadata": {},
   "outputs": [],
   "source": [
    "loans_def_p_pub_rec_df = loans_def_processed_df.withColumn(\"pub_rec\", col(\"pub_rec\").cast(\"integer\")).fillna(0, subset=[\"pub_rec\"])"
   ]
  },
  {
   "cell_type": "code",
   "execution_count": 31,
   "id": "1de5e44f",
   "metadata": {},
   "outputs": [
    {
     "data": {
      "text/html": [
       "<table border='1'>\n",
       "<tr><th>member_id</th><th>delinq_2yrs</th><th>delinq_amnt</th><th>pub_rec</th><th>pub_rec_bankruptcies</th><th>inq_last_6mths</th><th>total_rec_late_fee</th><th>mths_since_last_delinq</th><th>mths_since_last_record</th></tr>\n",
       "<tr><td>9cb79aa7323e81be1...</td><td>2</td><td>0.0</td><td>0</td><td>0.0</td><td>0.0</td><td>0.0</td><td>11.0</td><td>null</td></tr>\n",
       "<tr><td>0dd2bbc517e3c8f9e...</td><td>0</td><td>0.0</td><td>1</td><td>1.0</td><td>3.0</td><td>0.0</td><td>null</td><td>115.0</td></tr>\n",
       "<tr><td>458458599d3df3bfc...</td><td>0</td><td>0.0</td><td>1</td><td>1.0</td><td>1.0</td><td>0.0</td><td>null</td><td>76.0</td></tr>\n",
       "<tr><td>05ea141ec28b5c7f7...</td><td>0</td><td>0.0</td><td>0</td><td>0.0</td><td>0.0</td><td>0.0</td><td>null</td><td>null</td></tr>\n",
       "<tr><td>aac68850fdac09fd0...</td><td>1</td><td>0.0</td><td>0</td><td>0.0</td><td>0.0</td><td>0.0</td><td>21.0</td><td>null</td></tr>\n",
       "<tr><td>3a423e4589e89f429...</td><td>0</td><td>0.0</td><td>0</td><td>0.0</td><td>0.0</td><td>0.0</td><td>null</td><td>null</td></tr>\n",
       "<tr><td>f1efcf7dfbfef21be...</td><td>0</td><td>0.0</td><td>0</td><td>0.0</td><td>1.0</td><td>0.0</td><td>null</td><td>null</td></tr>\n",
       "<tr><td>c89986155a070db2e...</td><td>1</td><td>0.0</td><td>0</td><td>0.0</td><td>1.0</td><td>15.0</td><td>5.0</td><td>null</td></tr>\n",
       "<tr><td>118dc629b6e134419...</td><td>0</td><td>0.0</td><td>0</td><td>0.0</td><td>0.0</td><td>0.0</td><td>null</td><td>null</td></tr>\n",
       "<tr><td>a86fa4b7493708333...</td><td>0</td><td>0.0</td><td>0</td><td>0.0</td><td>0.0</td><td>0.0</td><td>null</td><td>null</td></tr>\n",
       "<tr><td>6e8d94bf446e97025...</td><td>0</td><td>0.0</td><td>0</td><td>0.0</td><td>0.0</td><td>0.0</td><td>36.0</td><td>null</td></tr>\n",
       "<tr><td>3de585156dc6b73f6...</td><td>0</td><td>0.0</td><td>0</td><td>0.0</td><td>0.0</td><td>0.0</td><td>null</td><td>null</td></tr>\n",
       "<tr><td>e88945f86a96f8d71...</td><td>0</td><td>0.0</td><td>0</td><td>0.0</td><td>1.0</td><td>0.0</td><td>null</td><td>null</td></tr>\n",
       "<tr><td>42f73fd8a01f1c475...</td><td>0</td><td>0.0</td><td>0</td><td>0.0</td><td>0.0</td><td>0.0</td><td>46.0</td><td>null</td></tr>\n",
       "<tr><td>c680bca32456530e6...</td><td>0</td><td>0.0</td><td>0</td><td>0.0</td><td>0.0</td><td>0.0</td><td>null</td><td>null</td></tr>\n",
       "<tr><td>3c36e35bcc0379690...</td><td>0</td><td>0.0</td><td>0</td><td>0.0</td><td>0.0</td><td>0.0</td><td>null</td><td>null</td></tr>\n",
       "<tr><td>4e1c30a5dfe9f1e20...</td><td>0</td><td>0.0</td><td>0</td><td>0.0</td><td>1.0</td><td>34.68</td><td>null</td><td>null</td></tr>\n",
       "<tr><td>1eef79a0e79b72c7a...</td><td>1</td><td>0.0</td><td>0</td><td>0.0</td><td>0.0</td><td>0.0</td><td>21.0</td><td>null</td></tr>\n",
       "<tr><td>89d42771f79636d22...</td><td>0</td><td>0.0</td><td>0</td><td>0.0</td><td>0.0</td><td>0.0</td><td>null</td><td>null</td></tr>\n",
       "<tr><td>1dd1d1b51473d4993...</td><td>0</td><td>0.0</td><td>0</td><td>0.0</td><td>0.0</td><td>0.0</td><td>44.0</td><td>null</td></tr>\n",
       "</table>\n",
       "only showing top 20 rows\n"
      ],
      "text/plain": [
       "+--------------------+-----------+-----------+-------+--------------------+--------------+------------------+----------------------+----------------------+\n",
       "|           member_id|delinq_2yrs|delinq_amnt|pub_rec|pub_rec_bankruptcies|inq_last_6mths|total_rec_late_fee|mths_since_last_delinq|mths_since_last_record|\n",
       "+--------------------+-----------+-----------+-------+--------------------+--------------+------------------+----------------------+----------------------+\n",
       "|9cb79aa7323e81be1...|          2|        0.0|      0|                 0.0|           0.0|               0.0|                  11.0|                  null|\n",
       "|0dd2bbc517e3c8f9e...|          0|        0.0|      1|                 1.0|           3.0|               0.0|                  null|                 115.0|\n",
       "|458458599d3df3bfc...|          0|        0.0|      1|                 1.0|           1.0|               0.0|                  null|                  76.0|\n",
       "|05ea141ec28b5c7f7...|          0|        0.0|      0|                 0.0|           0.0|               0.0|                  null|                  null|\n",
       "|aac68850fdac09fd0...|          1|        0.0|      0|                 0.0|           0.0|               0.0|                  21.0|                  null|\n",
       "|3a423e4589e89f429...|          0|        0.0|      0|                 0.0|           0.0|               0.0|                  null|                  null|\n",
       "|f1efcf7dfbfef21be...|          0|        0.0|      0|                 0.0|           1.0|               0.0|                  null|                  null|\n",
       "|c89986155a070db2e...|          1|        0.0|      0|                 0.0|           1.0|              15.0|                   5.0|                  null|\n",
       "|118dc629b6e134419...|          0|        0.0|      0|                 0.0|           0.0|               0.0|                  null|                  null|\n",
       "|a86fa4b7493708333...|          0|        0.0|      0|                 0.0|           0.0|               0.0|                  null|                  null|\n",
       "|6e8d94bf446e97025...|          0|        0.0|      0|                 0.0|           0.0|               0.0|                  36.0|                  null|\n",
       "|3de585156dc6b73f6...|          0|        0.0|      0|                 0.0|           0.0|               0.0|                  null|                  null|\n",
       "|e88945f86a96f8d71...|          0|        0.0|      0|                 0.0|           1.0|               0.0|                  null|                  null|\n",
       "|42f73fd8a01f1c475...|          0|        0.0|      0|                 0.0|           0.0|               0.0|                  46.0|                  null|\n",
       "|c680bca32456530e6...|          0|        0.0|      0|                 0.0|           0.0|               0.0|                  null|                  null|\n",
       "|3c36e35bcc0379690...|          0|        0.0|      0|                 0.0|           0.0|               0.0|                  null|                  null|\n",
       "|4e1c30a5dfe9f1e20...|          0|        0.0|      0|                 0.0|           1.0|             34.68|                  null|                  null|\n",
       "|1eef79a0e79b72c7a...|          1|        0.0|      0|                 0.0|           0.0|               0.0|                  21.0|                  null|\n",
       "|89d42771f79636d22...|          0|        0.0|      0|                 0.0|           0.0|               0.0|                  null|                  null|\n",
       "|1dd1d1b51473d4993...|          0|        0.0|      0|                 0.0|           0.0|               0.0|                  44.0|                  null|\n",
       "+--------------------+-----------+-----------+-------+--------------------+--------------+------------------+----------------------+----------------------+\n",
       "only showing top 20 rows"
      ]
     },
     "execution_count": 31,
     "metadata": {},
     "output_type": "execute_result"
    }
   ],
   "source": [
    "loans_def_p_pub_rec_df"
   ]
  },
  {
   "cell_type": "code",
   "execution_count": 32,
   "id": "0467f6d4",
   "metadata": {},
   "outputs": [],
   "source": [
    "loans_def_p_pub_rec_bankruptcies_df = loans_def_p_pub_rec_df.withColumn(\"pub_rec_bankruptcies\", col(\"pub_rec_bankruptcies\").cast(\"integer\")).fillna(0, subset=[\"pub_rec_bankruptcies\"])"
   ]
  },
  {
   "cell_type": "code",
   "execution_count": 33,
   "id": "385403db",
   "metadata": {},
   "outputs": [],
   "source": [
    "loans_def_p_inq_last_6mths_df = loans_def_p_pub_rec_bankruptcies_df.withColumn(\"inq_last_6mths\", col(\"inq_last_6mths\").cast(\"integer\")).fillna(0, subset=[\"inq_last_6mths\"])"
   ]
  },
  {
   "cell_type": "code",
   "execution_count": 34,
   "id": "c43f5de3",
   "metadata": {},
   "outputs": [
    {
     "data": {
      "text/html": [
       "<table border='1'>\n",
       "<tr><th>member_id</th><th>delinq_2yrs</th><th>delinq_amnt</th><th>pub_rec</th><th>pub_rec_bankruptcies</th><th>inq_last_6mths</th><th>total_rec_late_fee</th><th>mths_since_last_delinq</th><th>mths_since_last_record</th></tr>\n",
       "<tr><td>9cb79aa7323e81be1...</td><td>2</td><td>0.0</td><td>0</td><td>0</td><td>0</td><td>0.0</td><td>11.0</td><td>null</td></tr>\n",
       "<tr><td>0dd2bbc517e3c8f9e...</td><td>0</td><td>0.0</td><td>1</td><td>1</td><td>3</td><td>0.0</td><td>null</td><td>115.0</td></tr>\n",
       "<tr><td>458458599d3df3bfc...</td><td>0</td><td>0.0</td><td>1</td><td>1</td><td>1</td><td>0.0</td><td>null</td><td>76.0</td></tr>\n",
       "<tr><td>05ea141ec28b5c7f7...</td><td>0</td><td>0.0</td><td>0</td><td>0</td><td>0</td><td>0.0</td><td>null</td><td>null</td></tr>\n",
       "<tr><td>aac68850fdac09fd0...</td><td>1</td><td>0.0</td><td>0</td><td>0</td><td>0</td><td>0.0</td><td>21.0</td><td>null</td></tr>\n",
       "<tr><td>3a423e4589e89f429...</td><td>0</td><td>0.0</td><td>0</td><td>0</td><td>0</td><td>0.0</td><td>null</td><td>null</td></tr>\n",
       "<tr><td>f1efcf7dfbfef21be...</td><td>0</td><td>0.0</td><td>0</td><td>0</td><td>1</td><td>0.0</td><td>null</td><td>null</td></tr>\n",
       "<tr><td>c89986155a070db2e...</td><td>1</td><td>0.0</td><td>0</td><td>0</td><td>1</td><td>15.0</td><td>5.0</td><td>null</td></tr>\n",
       "<tr><td>118dc629b6e134419...</td><td>0</td><td>0.0</td><td>0</td><td>0</td><td>0</td><td>0.0</td><td>null</td><td>null</td></tr>\n",
       "<tr><td>a86fa4b7493708333...</td><td>0</td><td>0.0</td><td>0</td><td>0</td><td>0</td><td>0.0</td><td>null</td><td>null</td></tr>\n",
       "<tr><td>6e8d94bf446e97025...</td><td>0</td><td>0.0</td><td>0</td><td>0</td><td>0</td><td>0.0</td><td>36.0</td><td>null</td></tr>\n",
       "<tr><td>3de585156dc6b73f6...</td><td>0</td><td>0.0</td><td>0</td><td>0</td><td>0</td><td>0.0</td><td>null</td><td>null</td></tr>\n",
       "<tr><td>e88945f86a96f8d71...</td><td>0</td><td>0.0</td><td>0</td><td>0</td><td>1</td><td>0.0</td><td>null</td><td>null</td></tr>\n",
       "<tr><td>42f73fd8a01f1c475...</td><td>0</td><td>0.0</td><td>0</td><td>0</td><td>0</td><td>0.0</td><td>46.0</td><td>null</td></tr>\n",
       "<tr><td>c680bca32456530e6...</td><td>0</td><td>0.0</td><td>0</td><td>0</td><td>0</td><td>0.0</td><td>null</td><td>null</td></tr>\n",
       "<tr><td>3c36e35bcc0379690...</td><td>0</td><td>0.0</td><td>0</td><td>0</td><td>0</td><td>0.0</td><td>null</td><td>null</td></tr>\n",
       "<tr><td>4e1c30a5dfe9f1e20...</td><td>0</td><td>0.0</td><td>0</td><td>0</td><td>1</td><td>34.68</td><td>null</td><td>null</td></tr>\n",
       "<tr><td>1eef79a0e79b72c7a...</td><td>1</td><td>0.0</td><td>0</td><td>0</td><td>0</td><td>0.0</td><td>21.0</td><td>null</td></tr>\n",
       "<tr><td>89d42771f79636d22...</td><td>0</td><td>0.0</td><td>0</td><td>0</td><td>0</td><td>0.0</td><td>null</td><td>null</td></tr>\n",
       "<tr><td>1dd1d1b51473d4993...</td><td>0</td><td>0.0</td><td>0</td><td>0</td><td>0</td><td>0.0</td><td>44.0</td><td>null</td></tr>\n",
       "</table>\n",
       "only showing top 20 rows\n"
      ],
      "text/plain": [
       "+--------------------+-----------+-----------+-------+--------------------+--------------+------------------+----------------------+----------------------+\n",
       "|           member_id|delinq_2yrs|delinq_amnt|pub_rec|pub_rec_bankruptcies|inq_last_6mths|total_rec_late_fee|mths_since_last_delinq|mths_since_last_record|\n",
       "+--------------------+-----------+-----------+-------+--------------------+--------------+------------------+----------------------+----------------------+\n",
       "|9cb79aa7323e81be1...|          2|        0.0|      0|                   0|             0|               0.0|                  11.0|                  null|\n",
       "|0dd2bbc517e3c8f9e...|          0|        0.0|      1|                   1|             3|               0.0|                  null|                 115.0|\n",
       "|458458599d3df3bfc...|          0|        0.0|      1|                   1|             1|               0.0|                  null|                  76.0|\n",
       "|05ea141ec28b5c7f7...|          0|        0.0|      0|                   0|             0|               0.0|                  null|                  null|\n",
       "|aac68850fdac09fd0...|          1|        0.0|      0|                   0|             0|               0.0|                  21.0|                  null|\n",
       "|3a423e4589e89f429...|          0|        0.0|      0|                   0|             0|               0.0|                  null|                  null|\n",
       "|f1efcf7dfbfef21be...|          0|        0.0|      0|                   0|             1|               0.0|                  null|                  null|\n",
       "|c89986155a070db2e...|          1|        0.0|      0|                   0|             1|              15.0|                   5.0|                  null|\n",
       "|118dc629b6e134419...|          0|        0.0|      0|                   0|             0|               0.0|                  null|                  null|\n",
       "|a86fa4b7493708333...|          0|        0.0|      0|                   0|             0|               0.0|                  null|                  null|\n",
       "|6e8d94bf446e97025...|          0|        0.0|      0|                   0|             0|               0.0|                  36.0|                  null|\n",
       "|3de585156dc6b73f6...|          0|        0.0|      0|                   0|             0|               0.0|                  null|                  null|\n",
       "|e88945f86a96f8d71...|          0|        0.0|      0|                   0|             1|               0.0|                  null|                  null|\n",
       "|42f73fd8a01f1c475...|          0|        0.0|      0|                   0|             0|               0.0|                  46.0|                  null|\n",
       "|c680bca32456530e6...|          0|        0.0|      0|                   0|             0|               0.0|                  null|                  null|\n",
       "|3c36e35bcc0379690...|          0|        0.0|      0|                   0|             0|               0.0|                  null|                  null|\n",
       "|4e1c30a5dfe9f1e20...|          0|        0.0|      0|                   0|             1|             34.68|                  null|                  null|\n",
       "|1eef79a0e79b72c7a...|          1|        0.0|      0|                   0|             0|               0.0|                  21.0|                  null|\n",
       "|89d42771f79636d22...|          0|        0.0|      0|                   0|             0|               0.0|                  null|                  null|\n",
       "|1dd1d1b51473d4993...|          0|        0.0|      0|                   0|             0|               0.0|                  44.0|                  null|\n",
       "+--------------------+-----------+-----------+-------+--------------------+--------------+------------------+----------------------+----------------------+\n",
       "only showing top 20 rows"
      ]
     },
     "execution_count": 34,
     "metadata": {},
     "output_type": "execute_result"
    }
   ],
   "source": [
    "loans_def_p_inq_last_6mths_df "
   ]
  },
  {
   "cell_type": "code",
   "execution_count": 35,
   "id": "edca6b75",
   "metadata": {},
   "outputs": [],
   "source": [
    "loans_def_p_inq_last_6mths_df.createOrReplaceTempView(\"loan_defaulters\")"
   ]
  },
  {
   "cell_type": "code",
   "execution_count": 36,
   "id": "64f24397",
   "metadata": {},
   "outputs": [],
   "source": [
    "loans_def_detail_records_enq_df = spark.sql(\"select member_id, pub_rec, pub_rec_bankruptcies, inq_last_6mths from loan_defaulters\")"
   ]
  },
  {
   "cell_type": "code",
   "execution_count": 37,
   "id": "ed631288",
   "metadata": {},
   "outputs": [],
   "source": [
    "loans_def_detail_records_enq_df.write \\\n",
    "    .option(\"header\", True) \\\n",
    "    .format(\"csv\") \\\n",
    "    .mode(\"overwrite\") \\\n",
    "    .option(\"path\",\"public/trendytech/datasets/lendingclubproject/cleaned/loans_defaulters_detail_records_enq_csv\") \\\n",
    "    .save()"
   ]
  },
  {
   "cell_type": "code",
   "execution_count": 38,
   "id": "e220d706",
   "metadata": {},
   "outputs": [
    {
     "data": {
      "text/html": [
       "<table border='1'>\n",
       "<tr><th>member_id</th><th>pub_rec</th><th>pub_rec_bankruptcies</th><th>inq_last_6mths</th></tr>\n",
       "<tr><td>9cb79aa7323e81be1...</td><td>0</td><td>0</td><td>0</td></tr>\n",
       "<tr><td>0dd2bbc517e3c8f9e...</td><td>1</td><td>1</td><td>3</td></tr>\n",
       "<tr><td>458458599d3df3bfc...</td><td>1</td><td>1</td><td>1</td></tr>\n",
       "<tr><td>05ea141ec28b5c7f7...</td><td>0</td><td>0</td><td>0</td></tr>\n",
       "<tr><td>aac68850fdac09fd0...</td><td>0</td><td>0</td><td>0</td></tr>\n",
       "<tr><td>3a423e4589e89f429...</td><td>0</td><td>0</td><td>0</td></tr>\n",
       "<tr><td>f1efcf7dfbfef21be...</td><td>0</td><td>0</td><td>1</td></tr>\n",
       "<tr><td>c89986155a070db2e...</td><td>0</td><td>0</td><td>1</td></tr>\n",
       "<tr><td>118dc629b6e134419...</td><td>0</td><td>0</td><td>0</td></tr>\n",
       "<tr><td>a86fa4b7493708333...</td><td>0</td><td>0</td><td>0</td></tr>\n",
       "<tr><td>6e8d94bf446e97025...</td><td>0</td><td>0</td><td>0</td></tr>\n",
       "<tr><td>3de585156dc6b73f6...</td><td>0</td><td>0</td><td>0</td></tr>\n",
       "<tr><td>e88945f86a96f8d71...</td><td>0</td><td>0</td><td>1</td></tr>\n",
       "<tr><td>42f73fd8a01f1c475...</td><td>0</td><td>0</td><td>0</td></tr>\n",
       "<tr><td>c680bca32456530e6...</td><td>0</td><td>0</td><td>0</td></tr>\n",
       "<tr><td>3c36e35bcc0379690...</td><td>0</td><td>0</td><td>0</td></tr>\n",
       "<tr><td>4e1c30a5dfe9f1e20...</td><td>0</td><td>0</td><td>1</td></tr>\n",
       "<tr><td>1eef79a0e79b72c7a...</td><td>0</td><td>0</td><td>0</td></tr>\n",
       "<tr><td>89d42771f79636d22...</td><td>0</td><td>0</td><td>0</td></tr>\n",
       "<tr><td>1dd1d1b51473d4993...</td><td>0</td><td>0</td><td>0</td></tr>\n",
       "</table>\n",
       "only showing top 20 rows\n"
      ],
      "text/plain": [
       "+--------------------+-------+--------------------+--------------+\n",
       "|           member_id|pub_rec|pub_rec_bankruptcies|inq_last_6mths|\n",
       "+--------------------+-------+--------------------+--------------+\n",
       "|9cb79aa7323e81be1...|      0|                   0|             0|\n",
       "|0dd2bbc517e3c8f9e...|      1|                   1|             3|\n",
       "|458458599d3df3bfc...|      1|                   1|             1|\n",
       "|05ea141ec28b5c7f7...|      0|                   0|             0|\n",
       "|aac68850fdac09fd0...|      0|                   0|             0|\n",
       "|3a423e4589e89f429...|      0|                   0|             0|\n",
       "|f1efcf7dfbfef21be...|      0|                   0|             1|\n",
       "|c89986155a070db2e...|      0|                   0|             1|\n",
       "|118dc629b6e134419...|      0|                   0|             0|\n",
       "|a86fa4b7493708333...|      0|                   0|             0|\n",
       "|6e8d94bf446e97025...|      0|                   0|             0|\n",
       "|3de585156dc6b73f6...|      0|                   0|             0|\n",
       "|e88945f86a96f8d71...|      0|                   0|             1|\n",
       "|42f73fd8a01f1c475...|      0|                   0|             0|\n",
       "|c680bca32456530e6...|      0|                   0|             0|\n",
       "|3c36e35bcc0379690...|      0|                   0|             0|\n",
       "|4e1c30a5dfe9f1e20...|      0|                   0|             1|\n",
       "|1eef79a0e79b72c7a...|      0|                   0|             0|\n",
       "|89d42771f79636d22...|      0|                   0|             0|\n",
       "|1dd1d1b51473d4993...|      0|                   0|             0|\n",
       "+--------------------+-------+--------------------+--------------+\n",
       "only showing top 20 rows"
      ]
     },
     "execution_count": 38,
     "metadata": {},
     "output_type": "execute_result"
    }
   ],
   "source": [
    "loans_def_detail_records_enq_df"
   ]
  },
  {
   "cell_type": "code",
   "execution_count": 39,
   "id": "f7af959f",
   "metadata": {},
   "outputs": [],
   "source": [
    "loans_def_detail_records_enq_df.write \\\n",
    "    .option(\"header\", True) \\\n",
    "    .format(\"parquet\") \\\n",
    "    .mode(\"overwrite\") \\\n",
    "    .option(\"path\",\"public/trendytech/datasets/lendingclubproject/cleaned/loans_defaulters_detail_records_enq_parquet\") \\\n",
    "    .save()"
   ]
  },
  {
   "cell_type": "code",
   "execution_count": 40,
   "id": "427c5275",
   "metadata": {},
   "outputs": [
    {
     "data": {
      "text/html": [
       "<table border='1'>\n",
       "<tr><th>member_id</th><th>pub_rec</th><th>pub_rec_bankruptcies</th><th>inq_last_6mths</th></tr>\n",
       "<tr><td>9cb79aa7323e81be1...</td><td>0</td><td>0</td><td>0</td></tr>\n",
       "<tr><td>0dd2bbc517e3c8f9e...</td><td>1</td><td>1</td><td>3</td></tr>\n",
       "<tr><td>458458599d3df3bfc...</td><td>1</td><td>1</td><td>1</td></tr>\n",
       "<tr><td>05ea141ec28b5c7f7...</td><td>0</td><td>0</td><td>0</td></tr>\n",
       "<tr><td>aac68850fdac09fd0...</td><td>0</td><td>0</td><td>0</td></tr>\n",
       "<tr><td>3a423e4589e89f429...</td><td>0</td><td>0</td><td>0</td></tr>\n",
       "<tr><td>f1efcf7dfbfef21be...</td><td>0</td><td>0</td><td>1</td></tr>\n",
       "<tr><td>c89986155a070db2e...</td><td>0</td><td>0</td><td>1</td></tr>\n",
       "<tr><td>118dc629b6e134419...</td><td>0</td><td>0</td><td>0</td></tr>\n",
       "<tr><td>a86fa4b7493708333...</td><td>0</td><td>0</td><td>0</td></tr>\n",
       "<tr><td>6e8d94bf446e97025...</td><td>0</td><td>0</td><td>0</td></tr>\n",
       "<tr><td>3de585156dc6b73f6...</td><td>0</td><td>0</td><td>0</td></tr>\n",
       "<tr><td>e88945f86a96f8d71...</td><td>0</td><td>0</td><td>1</td></tr>\n",
       "<tr><td>42f73fd8a01f1c475...</td><td>0</td><td>0</td><td>0</td></tr>\n",
       "<tr><td>c680bca32456530e6...</td><td>0</td><td>0</td><td>0</td></tr>\n",
       "<tr><td>3c36e35bcc0379690...</td><td>0</td><td>0</td><td>0</td></tr>\n",
       "<tr><td>4e1c30a5dfe9f1e20...</td><td>0</td><td>0</td><td>1</td></tr>\n",
       "<tr><td>1eef79a0e79b72c7a...</td><td>0</td><td>0</td><td>0</td></tr>\n",
       "<tr><td>89d42771f79636d22...</td><td>0</td><td>0</td><td>0</td></tr>\n",
       "<tr><td>1dd1d1b51473d4993...</td><td>0</td><td>0</td><td>0</td></tr>\n",
       "</table>\n",
       "only showing top 20 rows\n"
      ],
      "text/plain": [
       "DataFrame[member_id: string, pub_rec: int, pub_rec_bankruptcies: int, inq_last_6mths: int]"
      ]
     },
     "execution_count": 40,
     "metadata": {},
     "output_type": "execute_result"
    }
   ],
   "source": [
    "loans_def_detail_records_enq_df "
   ]
  },
  {
   "cell_type": "code",
   "execution_count": null,
   "id": "0cec806c",
   "metadata": {},
   "outputs": [],
   "source": []
  }
 ],
 "metadata": {
  "kernelspec": {
   "display_name": "Pyspark 3",
   "language": "python",
   "name": "pyspark3"
  },
  "language_info": {
   "codemirror_mode": {
    "name": "ipython",
    "version": 3
   },
   "file_extension": ".py",
   "mimetype": "text/x-python",
   "name": "python",
   "nbconvert_exporter": "python",
   "pygments_lexer": "ipython3",
   "version": "3.6.12"
  }
 },
 "nbformat": 4,
 "nbformat_minor": 5
}
